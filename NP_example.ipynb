{
 "cells": [
  {
   "cell_type": "markdown",
   "id": "44215a41-f755-4df9-aee9-aab8d5fc929d",
   "metadata": {},
   "source": [
    "# Nanoparticle energy\n",
    "\n",
    "So far, we have modeled crystals and surface structures and calculated several properties.\n",
    "In the real world, precious metals are often used as catalysts, and in order to reduce the material cost and increase the surface area of the catalyst, the catalyst is often dispersed in the form of **[nanoparticles](https://en.wikipedia.org/wiki/Nanoparticle)** on a substrate called **[support](https://en.wikipedia.org/wiki/Catalyst_support)**.\n",
    "\n",
    "Therefore, it is sometimes desirable to simulate the properties of the catalyst not as a surface, but in the form of nanoparticles, in order to analyze and clarify the mechanism. <br/>\n",
    "This section describes the modeling and analysis of such nanoparticles (also called \"cluster\" structures)."
   ]
  },
  {
   "cell_type": "code",
   "execution_count": 1,
   "id": "a3a40265-83ea-475a-a8f2-774af042f1f2",
   "metadata": {},
   "outputs": [
    {
     "name": "stderr",
     "output_type": "stream",
     "text": [
      "/home/jovyan/.local/lib/python3.7/site-packages/pfp_api_client/__init__.py:36: UserWarning: New version of pfp-api-client is available. Please consider upgrading by `pip install -U pfp-api-client`.\n",
      "  f\"New version of {package_name} is available. Please consider\"\n"
     ]
    },
    {
     "data": {
      "application/vnd.jupyter.widget-view+json": {
       "model_id": "11e3ee1409b448e8b5b93c1818609899",
       "version_major": 2,
       "version_minor": 0
      },
      "text/plain": []
     },
     "metadata": {},
     "output_type": "display_data"
    },
    {
     "name": "stdout",
     "output_type": "stream",
     "text": [
      "pfp_api_client: 1.6.3\n"
     ]
    }
   ],
   "source": [
    "import pfp_api_client\n",
    "from pfp_api_client.pfp.calculators.ase_calculator import ASECalculator\n",
    "from pfp_api_client.pfp.estimator import Estimator, EstimatorCalcMode\n",
    "from pfcc_extras.visualize.view import view_ngl\n",
    "\n",
    "\n",
    "print(f\"pfp_api_client: {pfp_api_client.__version__}\")\n",
    "\n",
    "# estimator = Estimator(calc_mode=EstimatorCalcMode.CRYSTAL, model_version=\"latest\")\n",
    "estimator = Estimator(calc_mode=EstimatorCalcMode.CRYSTAL_U0, model_version=\"v3.0.0\")\n",
    "calculator = ASECalculator(estimator)"
   ]
  },
  {
   "cell_type": "markdown",
   "id": "7124dc2a-1909-40c2-9325-7bba01242f04",
   "metadata": {},
   "source": [
    "## Creating cluster structure\n",
    "\n",
    "Typical cluster structures can be created using the built-in methods of ASE.\n",
    "Let's make some structures.\n",
    "\n",
    " - https://wiki.fysik.dtu.dk/ase/ase/cluster/cluster.html"
   ]
  },
  {
   "cell_type": "code",
   "execution_count": 2,
   "id": "db071de7-fa97-487c-9ac4-ecc06e97290c",
   "metadata": {},
   "outputs": [],
   "source": [
    "from ase.cluster import Decahedron, Icosahedron, Octahedron, wulff_construction"
   ]
  },
  {
   "cell_type": "markdown",
   "id": "a52fd0ab-8af1-41fb-8b30-f6fa4de5f222",
   "metadata": {},
   "source": [
    "### Decahedron\n",
    "\n",
    "It is possible to create an [decaheral](https://en.wikipedia.org/wiki/Decahedron) (polydedron with 10 faces) structure."
   ]
  },
  {
   "cell_type": "code",
   "execution_count": 3,
   "id": "e05898dc-a565-4818-bb46-eabadac3ec95",
   "metadata": {},
   "outputs": [
    {
     "data": {
      "application/vnd.jupyter.widget-view+json": {
       "model_id": "635d984de8f44ce8a0b5c977aaf23d56",
       "version_major": 2,
       "version_minor": 0
      },
      "text/plain": [
       "HBox(children=(NGLWidget(), VBox(children=(Dropdown(description='Show', options=('All', 'Pt'), value='All'), D…"
      ]
     },
     "metadata": {},
     "output_type": "display_data"
    }
   ],
   "source": [
    "view_ngl(Decahedron(\"Pt\", p=3, q=1, r=0), representations=[\"ball+stick\"])"
   ]
  },
  {
   "cell_type": "markdown",
   "id": "a6345baa-cc58-4653-ac00-034b1fdec1c0",
   "metadata": {},
   "source": [
    "### Icosahedron\n",
    "\n",
    "It is possible to create an [icosahedral](https://en.wikipedia.org/wiki/Icosahedron) (polydedron with 20 faces) structure."
   ]
  },
  {
   "cell_type": "code",
   "execution_count": 4,
   "id": "736d438a-b6ad-44f1-9db3-28f474e6222e",
   "metadata": {},
   "outputs": [
    {
     "data": {
      "application/vnd.jupyter.widget-view+json": {
       "model_id": "04174ee9b1f241da8a3dc9b562d0d806",
       "version_major": 2,
       "version_minor": 0
      },
      "text/plain": [
       "HBox(children=(NGLWidget(), VBox(children=(Dropdown(description='Show', options=('All', 'Pt'), value='All'), D…"
      ]
     },
     "metadata": {},
     "output_type": "display_data"
    }
   ],
   "source": [
    "view_ngl(Icosahedron(\"Pt\", 2), representations=[\"ball+stick\"])"
   ]
  },
  {
   "cell_type": "markdown",
   "id": "c1fe9228-59e0-451d-b41c-22c0aa1869a3",
   "metadata": {},
   "source": [
    "### Octahedron\n",
    "\n",
    "It is possible to create an [octahedral](https://en.wikipedia.org/wiki/Octahedron) (polydedron with 8 faces) structure."
   ]
  },
  {
   "cell_type": "code",
   "execution_count": 5,
   "id": "6c1a7395-b52a-44a2-8481-130c1647dbab",
   "metadata": {},
   "outputs": [
    {
     "data": {
      "application/vnd.jupyter.widget-view+json": {
       "model_id": "c50aeda786e64add91f456765f363eed",
       "version_major": 2,
       "version_minor": 0
      },
      "text/plain": [
       "HBox(children=(NGLWidget(), VBox(children=(Dropdown(description='Show', options=('All', 'Pt'), value='All'), D…"
      ]
     },
     "metadata": {},
     "output_type": "display_data"
    }
   ],
   "source": [
    "view_ngl(Octahedron(\"Pt\", 3), representations=[\"ball+stick\"])"
   ]
  },
  {
   "cell_type": "markdown",
   "id": "b7f3bfc7-df2d-411c-8fbc-a4e42e88691b",
   "metadata": {},
   "source": [
    "### Wulff construction\n",
    "\n",
    "Given surfaces defined by their respective Miller indices `surfaces` and their surface energies `esurf`, the Wulff method calculates and generates a nanoparticle structure that minimizes its surface energy.\n",
    "You can specify the target number of atoms with `size`, but the actual number of atoms generated will be different.\n",
    "\n",
    " - [Wulff construction - Wikipedia](https://en.wikipedia.org/wiki/Wulff_construction)"
   ]
  },
  {
   "cell_type": "code",
   "execution_count": 6,
   "id": "c6169335-e9b2-4545-a802-bdb585ccd537",
   "metadata": {},
   "outputs": [
    {
     "name": "stdout",
     "output_type": "stream",
     "text": [
      "# atoms target=50, actual 55\n"
     ]
    },
    {
     "data": {
      "application/vnd.jupyter.widget-view+json": {
       "model_id": "7d42bac138fa439999468af7aa4588af",
       "version_major": 2,
       "version_minor": 0
      },
      "text/plain": [
       "HBox(children=(NGLWidget(), VBox(children=(Dropdown(description='Show', options=('All', 'Cu'), value='All'), D…"
      ]
     },
     "metadata": {},
     "output_type": "display_data"
    }
   ],
   "source": [
    "from ase.cluster import wulff_construction\n",
    "\n",
    "surfaces = [(1, 0, 0), (1, 1, 0), (1, 1, 1)]\n",
    "esurf = [1.0, 1.1, 0.9]   # Surface energies.\n",
    "lc = 3.61000\n",
    "size = 50  # Number of atoms\n",
    "atoms = wulff_construction(\n",
    "    \"Cu\", surfaces, esurf,\n",
    "    size, \"fcc\",\n",
    "    rounding=\"above\", latticeconstant=lc)\n",
    "print(f\"# atoms target={size}, actual {len(atoms)}\")\n",
    "view_ngl(atoms, representations=[\"ball+stick\"])"
   ]
  },
  {
   "cell_type": "markdown",
   "id": "5d25c0a7-ec56-4f16-9c16-d29174bb5da8",
   "metadata": {},
   "source": [
    "## Cluster class\n",
    "\n",
    "The nanoparticle created here is given as a `Cluster` class on ASE. <br/>\n",
    "This is a wrap class for `Atoms`, providing some additional methods.\n",
    "\n",
    " - https://wiki.fysik.dtu.dk/ase/ase/cluster/cluster.html#ase.cluster.Cluster"
   ]
  },
  {
   "cell_type": "code",
   "execution_count": 7,
   "id": "2642139c-264b-434c-802f-4502cf4be618",
   "metadata": {},
   "outputs": [
    {
     "name": "stdout",
     "output_type": "stream",
     "text": [
      "Is Atoms?  : True\n",
      "Is Cluster?: True\n",
      "diameter  : 8.17556412847783\n",
      "layers    : [1 2 1 1 1 1 1 1 1 2 2 2 2 2]\n",
      "surfaces  : [[ 1  1  1]\n",
      " [ 1  0  0]\n",
      " [-1 -1 -1]\n",
      " [ 1 -1 -1]\n",
      " [-1  1 -1]\n",
      " [ 1  1 -1]\n",
      " [-1 -1  1]\n",
      " [ 1 -1  1]\n",
      " [-1  1  1]\n",
      " [ 0  0 -1]\n",
      " [ 0 -1  0]\n",
      " [-1  0  0]\n",
      " [ 0  1  0]\n",
      " [ 0  0  1]]\n"
     ]
    }
   ],
   "source": [
    "from ase import Atoms\n",
    "from ase.cluster import Cluster\n",
    "\n",
    "cluster = Octahedron(\"Pt\", 3)\n",
    "print(\"Is Atoms?  :\", isinstance(cluster, Atoms))\n",
    "print(\"Is Cluster?:\", isinstance(cluster, Cluster))\n",
    "print(f\"diameter  : {cluster.get_diameter()}\")\n",
    "print(f\"layers    : {cluster.get_layers()}\")\n",
    "print(f\"surfaces  : {cluster.get_surfaces()}\")"
   ]
  },
  {
   "cell_type": "markdown",
   "id": "4fc6717f-8c26-4392-9d93-1f73ab0b124e",
   "metadata": {},
   "source": [
    "The `Cluster` can be converted back to `Atoms` by using the following method if necessary."
   ]
  },
  {
   "cell_type": "code",
   "execution_count": 8,
   "id": "868c5878-9017-428a-abdc-8c6430915720",
   "metadata": {},
   "outputs": [],
   "source": [
    "def cluster2atoms(cluster: Cluster) -> Atoms:\n",
    "    return Atoms(cluster.symbols, cluster.positions, cell=cluster.cell)"
   ]
  },
  {
   "cell_type": "code",
   "execution_count": 9,
   "id": "de86d677-f437-402b-87bc-d955ee82528c",
   "metadata": {},
   "outputs": [
    {
     "data": {
      "text/plain": [
       "Atoms(symbols='Pt19', pbc=False)"
      ]
     },
     "execution_count": 9,
     "metadata": {},
     "output_type": "execute_result"
    }
   ],
   "source": [
    "cluster2atoms(cluster)"
   ]
  },
  {
   "cell_type": "markdown",
   "id": "b5c4ca60-3ab7-4fcb-afb1-12c2e6a42e37",
   "metadata": {},
   "source": [
    "## Cohesive energy\n",
    "\n",
    "The cohesive energy described for crystal structures in the previous section can also be calculated for nanoparticles.\n",
    "\n",
    "$$E_{\\rm{coh}} = E_{\\rm{cluster}} - E_{\\rm{isolated}}$$\n",
    "\n",
    "In the following example, cohesive energies are calculated for Decahedron and Icosahedron.\n",
    "\n",
    "Note that, unlike crystals, nanoparticles have different cohesive energies depending on the number of atoms (size). <br/>\n",
    "As the size is increased, the cohesive energy eventually asymptotically approaches the cohesive energy of the crystal structure.\n",
    "\n",
    "In this tutorial, we will try calculating the cohesive energy of Ru nanoparticles based on the following reference paper.\n",
    "\n",
    "Reference papers:\n",
    "\n",
    " - [Structural Stability of Ruthenium Nanoparticles: A Density Functional Theory Study](https://pubs.acs.org/doi/10.1021/acs.jpcc.7b08672)\n",
    " - [Calculations of Real-System Nanoparticles Using Universal Neural Network Potential PFP](https://arxiv.org/abs/2107.00963)\n",
    "\n",
    "First, we find the energy of an isolated single molecule."
   ]
  },
  {
   "cell_type": "code",
   "execution_count": 10,
   "id": "13a94fa5-9dc4-4219-a930-88b6ac99a5c3",
   "metadata": {},
   "outputs": [
    {
     "name": "stdout",
     "output_type": "stream",
     "text": [
      "E_iso=0.00 eV\n"
     ]
    }
   ],
   "source": [
    "from ase import Atoms \n",
    "\n",
    "symbol = \"Ru\"\n",
    "atoms_iso = Atoms(symbol)\n",
    "atoms_iso.calc = calculator\n",
    "E_iso = atoms_iso.get_potential_energy()\n",
    "print(f\"E_iso={E_iso:.2f} eV\")"
   ]
  },
  {
   "cell_type": "markdown",
   "id": "3d0e9496-2bdb-4764-9f02-f2dc78707b1f",
   "metadata": {},
   "source": [
    "Next, we optimize the crystal structure to obtain the lattice constants `latticeconstant`, which are used for the `Decahedron` and `Icosahedron`."
   ]
  },
  {
   "cell_type": "code",
   "execution_count": 11,
   "id": "9ca482bf-f28f-4455-a2ab-bcc4775835cb",
   "metadata": {},
   "outputs": [
    {
     "name": "stdout",
     "output_type": "stream",
     "text": [
      "       Step     Time          Energy         fmax\n",
      "*Force-consistent energies used in optimization.\n",
      "LBFGS:    0 02:20:43      -26.683124*       0.7828\n",
      "LBFGS:    1 02:20:43      -26.652452*       2.5549\n",
      "LBFGS:    2 02:20:43      -26.686065*       0.0313\n",
      "cell=Cell([3.809979519367907, 3.809979519367907, 3.809979519367907]), a=3.809979519367907\n"
     ]
    }
   ],
   "source": [
    "from ase.build import bulk\n",
    "from ase.constraints import ExpCellFilter, StrainFilter\n",
    "from ase.optimize import LBFGS\n",
    "import numpy as np\n",
    "\n",
    "atoms_bulk = bulk(\"Ru\", \"fcc\", a=3.8, cubic=True)\n",
    "atoms_bulk.calc = calculator\n",
    "opt = LBFGS(ExpCellFilter(atoms_bulk, hydrostatic_strain=True))\n",
    "opt.run()\n",
    "a = np.mean(np.diag(atoms_bulk.cell))\n",
    "print(f\"cell={atoms_bulk.cell}, a={a}\")\n",
    "#E_bulk = atoms_bulk.get_potential_energy()\n",
    "#print(f\"E_iso={E_iso:.2f} eV\")"
   ]
  },
  {
   "cell_type": "markdown",
   "id": "3fdcb043-ad0b-458a-9e5b-af148cc48a94",
   "metadata": {},
   "source": [
    "Based on the obtained lattice constants, the energy of the nanoparticle $E_{\\rm{cluster}}$ can be determined to obtain the cohesive energy."
   ]
  },
  {
   "cell_type": "code",
   "execution_count": 12,
   "id": "0e7570f2-473d-468a-8241-473f11e652ef",
   "metadata": {},
   "outputs": [],
   "source": [
    "def get_opt_energy(atoms, fmax=0.001, opt_mode: str = \"normal\", trajectory=None):    \n",
    "    if opt_mode == \"scale\":\n",
    "        opt = LBFGS(StrainFilter(atoms, mask=[1, 1, 1, 0, 0, 0]), logfile=None, trajectory=trajectory)\n",
    "    elif opt_mode == \"all\":\n",
    "        opt = LBFGS(UnitCellFilter(atoms), logfile=None, trajectory=trajectory)\n",
    "    else:\n",
    "        opt = LBFGS(atoms, logfile=None, trajectory=trajectory)\n",
    "    opt.run(fmax=fmax)\n",
    "    return atoms.get_total_energy()"
   ]
  },
  {
   "cell_type": "code",
   "execution_count": null,
   "id": "4f52487d-e0ff-4508-aa16-68c9b08cff21",
   "metadata": {},
   "outputs": [
    {
     "name": "stdout",
     "output_type": "stream",
     "text": [
      "p 3\n",
      "p 5\n",
      "p 7\n"
     ]
    }
   ],
   "source": [
    "result_list = []\n",
    "\n",
    "for p in [3, 5, 7, 9, 11]:\n",
    "    print(\"p\", p)\n",
    "    atoms_deca = Decahedron(symbol, p=p, q=1, r=0, latticeconstant=a)\n",
    "    atoms_deca.calc = calculator\n",
    "    E_deca = get_opt_energy(atoms_deca, trajectory=f\"output/deca_p{p}.traj\")\n",
    "    E_coh = (E_deca / len(atoms_deca) - E_iso)\n",
    "    result_list.append({\"structure\": \"deca\", \"n_atoms\": len(atoms_deca), \"E\": E_deca, \"E_coh\": E_coh})"
   ]
  },
  {
   "cell_type": "code",
   "execution_count": null,
   "id": "104b5d97-374f-4cda-aba7-1c6471fdcd97",
   "metadata": {},
   "outputs": [],
   "source": [
    "for p in [3, 5, 7, 9]:\n",
    "    print(\"p\", p)\n",
    "    atoms_icosa = Icosahedron(symbol, p, latticeconstant=a)\n",
    "    atoms_icosa.calc = calculator\n",
    "    E_icosa = get_opt_energy(atoms_icosa, trajectory=f\"output/icosa_{p}.traj\")\n",
    "    E_coh = (E_icosa / len(atoms_icosa) - E_iso)\n",
    "    result_list.append({\"structure\": \"icosa\", \"n_atoms\": len(atoms_icosa), \"E\": E_icosa, \"E_coh\": E_coh})"
   ]
  },
  {
   "cell_type": "markdown",
   "id": "9be485b4-7d17-4a65-b409-ca9f16f48484",
   "metadata": {},
   "source": [
    "Let's take a look at the process of structural optimization."
   ]
  },
  {
   "cell_type": "code",
   "execution_count": null,
   "id": "48e36fb8-d2b5-4a9a-a160-955652d0d54b",
   "metadata": {},
   "outputs": [],
   "source": [
    "from ase.io import Trajectory\n",
    "\n",
    "\n",
    "view_ngl(Trajectory(\"output/icosa_5.traj\"))\n",
    "#view_ngl(Trajectory(\"output/icosa_9.traj\"))\n",
    "#view_ngl(Trajectory(\"output/deca_p3.traj\"))"
   ]
  },
  {
   "cell_type": "code",
   "execution_count": null,
   "id": "92b15087-ece0-45f4-9553-ef01ab3a73f5",
   "metadata": {},
   "outputs": [],
   "source": [
    "import pandas as pd\n",
    "\n",
    "df = pd.DataFrame(result_list)\n",
    "df"
   ]
  },
  {
   "cell_type": "markdown",
   "id": "43677383-d455-4440-bcbc-3e12cef72611",
   "metadata": {},
   "source": [
    "Thus, we were able to calculate how much the cohesive energy (eV/atom) changes as the number of atoms changes for each structure.\n",
    "\n",
    "The paper illustrates that the cohesive energy is linearly proportional to $N^{-1/3}$ with respect to the number of atoms $N$.\n",
    "Let's check it out below."
   ]
  },
  {
   "cell_type": "code",
   "execution_count": null,
   "id": "014049f7-be0d-466b-8dc5-4d530d93fdc9",
   "metadata": {},
   "outputs": [],
   "source": [
    "# df[\"E_coh\"] = df[\"E\"] / df[\"n_atoms\"] - E_iso\n",
    "df[\"N^-1/3\"] = np.power(df[\"n_atoms\"], -1/3)"
   ]
  },
  {
   "cell_type": "code",
   "execution_count": null,
   "id": "df1b66fb-143c-46ce-8921-dac0677d0da1",
   "metadata": {},
   "outputs": [],
   "source": [
    "import plotly.express as px\n",
    "\n",
    "px.scatter(df, x=\"N^-1/3\", y=\"E_coh\", color=\"structure\", hover_data=[\"n_atoms\"])"
   ]
  },
  {
   "cell_type": "markdown",
   "id": "e9301bb1-003a-4efb-93c5-9439bcba0566",
   "metadata": {},
   "source": [
    "If we take $N^{-1/3}$ as the x-axis and plot the cohesive energy for each structure, we see that it is plotted on a straight line. <br/>\n",
    "In addition, this calculation shows that the icosahedron has lower energy and is more stable than the decahedron.\n",
    "\n",
    "The HCP structure is stable in Ru bulk, but decahedral and icosahedral nanoparticles above are made from the FCC structure. <br/>\n",
    "The reference paper shows that the HCP structure is the most stable with 103 atoms or more, but the icosahedral structure is likely to be more stable with fewer atoms.\n",
    "\n",
    "Thus, what kind of structure will be stable depends on the size, and by calculating the energy of each, we can analyze the stable structure. <br/>\n",
    "Although we have not performed calculations for the HCP structure in this tutorial, you may work on it as an exercise."
   ]
  }
 ],
 "metadata": {
  "kernelspec": {
   "display_name": "Python 3.7",
   "language": "python",
   "name": "python37"
  },
  "language_info": {
   "codemirror_mode": {
    "name": "ipython",
    "version": 3
   },
   "file_extension": ".py",
   "mimetype": "text/x-python",
   "name": "python",
   "nbconvert_exporter": "python",
   "pygments_lexer": "ipython3",
   "version": "3.7.13"
  },
  "widgets": {
   "application/vnd.jupyter.widget-state+json": {
    "state": {
     "0057302b8b35439c880de9d96b643081": {
      "model_module": "@jupyter-widgets/controls",
      "model_module_version": "1.5.0",
      "model_name": "LinkModel",
      "state": {
       "source": [
        "IPY_MODEL_d19d927462114312b7e24147391d7a6d",
        "value"
       ],
       "target": [
        "IPY_MODEL_697cf0e3120e46e380291b8fbf28bd4f",
        "value"
       ]
      }
     },
     "01884658902c4f5db6de0609542451e1": {
      "model_module": "@jupyter-widgets/base",
      "model_module_version": "1.2.0",
      "model_name": "LayoutModel",
      "state": {}
     },
     "018d60cc575e4fa4b0b418368d31535e": {
      "model_module": "@jupyter-widgets/controls",
      "model_module_version": "1.5.0",
      "model_name": "LinkModel",
      "state": {
       "source": [
        "IPY_MODEL_d19d927462114312b7e24147391d7a6d",
        "max"
       ],
       "target": [
        "IPY_MODEL_f8ce4f058e6340dbba63a6380f00b6f4",
        "max_frame"
       ]
      }
     },
     "03e998da3e164d30a03d079616edd551": {
      "model_module": "@jupyter-widgets/base",
      "model_module_version": "1.2.0",
      "model_name": "LayoutModel",
      "state": {}
     },
     "04cabf4b82584615a9d6b9923fbfd4ff": {
      "model_module": "@jupyter-widgets/controls",
      "model_module_version": "1.5.0",
      "model_name": "SliderStyleModel",
      "state": {
       "description_width": ""
      }
     },
     "05498fd568664100a6c4281b5731b118": {
      "model_module": "@jupyter-widgets/controls",
      "model_module_version": "1.5.0",
      "model_name": "LinkModel",
      "state": {
       "source": [
        "IPY_MODEL_eec51aad193744b1b62dc803fad7f9f7",
        "max"
       ],
       "target": [
        "IPY_MODEL_a5fe561143504be29c14807291317239",
        "max_frame"
       ]
      }
     },
     "05a2b7af6874479fa8e21d7810f28352": {
      "model_module": "@jupyter-widgets/base",
      "model_module_version": "1.2.0",
      "model_name": "LayoutModel",
      "state": {}
     },
     "07ad306d6e5649d09ff606dbb3e96743": {
      "model_module": "@jupyter-widgets/controls",
      "model_module_version": "1.5.0",
      "model_name": "FloatSliderModel",
      "state": {
       "description": "Charge scale",
       "layout": "IPY_MODEL_e67b2c7838aa4f919bad5e0ecf97f5ae",
       "step": 0.1,
       "style": "IPY_MODEL_fd370bc770144789b661814ebde44048",
       "value": 1
      }
     },
     "0a8ac389ec504aa6a9fc8063f5d61368": {
      "model_module": "@jupyter-widgets/controls",
      "model_module_version": "1.5.0",
      "model_name": "ButtonModel",
      "state": {
       "icon": "compress",
       "layout": "IPY_MODEL_120c7ea65a44426c859ca2b7106f9ee5",
       "style": "IPY_MODEL_dacac81713fd4192aa852fa3466ce3cf"
      }
     },
     "0aa30034ce90407bb6906592864ef1a5": {
      "model_module": "@jupyter-widgets/base",
      "model_module_version": "1.2.0",
      "model_name": "LayoutModel",
      "state": {}
     },
     "0ac7cc30521948ceaf9ba2fed99bd93a": {
      "model_module": "@jupyter-widgets/base",
      "model_module_version": "1.2.0",
      "model_name": "LayoutModel",
      "state": {}
     },
     "0b3fbe6c7a644b398c59675e7ae55be0": {
      "model_module": "@jupyter-widgets/controls",
      "model_module_version": "1.5.0",
      "model_name": "DescriptionStyleModel",
      "state": {
       "description_width": ""
      }
     },
     "0c2e0de945ef49d3a45f8146a0ceae3a": {
      "model_module": "@jupyter-widgets/controls",
      "model_module_version": "1.5.0",
      "model_name": "DescriptionStyleModel",
      "state": {
       "description_width": ""
      }
     },
     "0c66f54bd4f84ea997f5cf342beedd8a": {
      "model_module": "@jupyter-widgets/base",
      "model_module_version": "1.2.0",
      "model_name": "LayoutModel",
      "state": {
       "border": "0px solid black"
      }
     },
     "0ccf7888f57142589aa5189d73ee8195": {
      "model_module": "@jupyter-widgets/base",
      "model_module_version": "1.2.0",
      "model_name": "LayoutModel",
      "state": {}
     },
     "0d33984fed1342bd88361f2466c8d13e": {
      "model_module": "@jupyter-widgets/controls",
      "model_module_version": "1.5.0",
      "model_name": "ButtonModel",
      "state": {
       "icon": "compress",
       "layout": "IPY_MODEL_1cb861b96d2a4f239ba3ef9ac536ae8a",
       "style": "IPY_MODEL_4d8c759f357243029cc052514c3b978f"
      }
     },
     "10be1a02517c4d44bd6bdd94bcafad1b": {
      "model_module": "@jupyter-widgets/controls",
      "model_module_version": "1.5.0",
      "model_name": "ButtonStyleModel",
      "state": {}
     },
     "120c7ea65a44426c859ca2b7106f9ee5": {
      "model_module": "@jupyter-widgets/base",
      "model_module_version": "1.2.0",
      "model_name": "LayoutModel",
      "state": {
       "width": "34px"
      }
     },
     "1302b56925504bceaf6c20b10dab60c8": {
      "model_module": "@jupyter-widgets/controls",
      "model_module_version": "1.5.0",
      "model_name": "HBoxModel",
      "state": {
       "children": [
        "IPY_MODEL_eec51aad193744b1b62dc803fad7f9f7",
        "IPY_MODEL_79165318d8cd41f3a9ac1436e0308e0e"
       ],
       "layout": "IPY_MODEL_1837935b57b64c0984ca25d319c040e5"
      }
     },
     "13282fe8c5564e4c989685eaa10795c7": {
      "model_module": "@jupyter-widgets/controls",
      "model_module_version": "1.5.0",
      "model_name": "FloatSliderModel",
      "state": {
       "description": "Charge scale",
       "layout": "IPY_MODEL_20b376a1d71442bda1257acba426c101",
       "step": 0.1,
       "style": "IPY_MODEL_bbbf541e8fdd48b79499d02db3c62a9b",
       "value": 1
      }
     },
     "14821b798e384d14a62a2ef91cf184e9": {
      "model_module": "@jupyter-widgets/controls",
      "model_module_version": "1.5.0",
      "model_name": "DescriptionStyleModel",
      "state": {
       "description_width": ""
      }
     },
     "156981d49d4444c79fece2494cde6cd5": {
      "model_module": "@jupyter-widgets/base",
      "model_module_version": "1.2.0",
      "model_name": "LayoutModel",
      "state": {}
     },
     "1837935b57b64c0984ca25d319c040e5": {
      "model_module": "@jupyter-widgets/base",
      "model_module_version": "1.2.0",
      "model_name": "LayoutModel",
      "state": {}
     },
     "18d4a2e06faa4d86bc54844f25b2c87e": {
      "model_module": "@jupyter-widgets/controls",
      "model_module_version": "1.5.0",
      "model_name": "IntSliderModel",
      "state": {
       "layout": "IPY_MODEL_a1b592ae2a11474d801345d239ce1d4e",
       "max": 22,
       "style": "IPY_MODEL_7dc511c88a164087be1cb46e7f85fcb4"
      }
     },
     "1a0cd0c4ec174c93a58ea4c1f7c5de82": {
      "model_module": "@jupyter-widgets/controls",
      "model_module_version": "1.5.0",
      "model_name": "SliderStyleModel",
      "state": {
       "description_width": ""
      }
     },
     "1a4ac502facb48c3bf9854b2d5def609": {
      "model_module": "@jupyter-widgets/controls",
      "model_module_version": "1.5.0",
      "model_name": "DescriptionStyleModel",
      "state": {
       "description_width": ""
      }
     },
     "1c7c0de91c024c24bf48705ca495a4f4": {
      "model_module": "@jupyter-widgets/base",
      "model_module_version": "1.2.0",
      "model_name": "LayoutModel",
      "state": {}
     },
     "1cb861b96d2a4f239ba3ef9ac536ae8a": {
      "model_module": "@jupyter-widgets/base",
      "model_module_version": "1.2.0",
      "model_name": "LayoutModel",
      "state": {
       "width": "34px"
      }
     },
     "1d2430893f7849078c91b71a0f977eae": {
      "model_module": "@jupyter-widgets/controls",
      "model_module_version": "1.5.0",
      "model_name": "FloatSliderModel",
      "state": {
       "description": "Charge scale",
       "layout": "IPY_MODEL_41f626fd396a47279601bf4a3ff32186",
       "step": 0.1,
       "style": "IPY_MODEL_32f11777f6d64533abc87d877b972494",
       "value": 1
      }
     },
     "1dbc284e8779478da897ae1a1bc2bafd": {
      "model_module": "@jupyter-widgets/controls",
      "model_module_version": "1.5.0",
      "model_name": "ButtonModel",
      "state": {
       "description": "Save image",
       "layout": "IPY_MODEL_fe004251d51249c180cc73280be7f9da",
       "style": "IPY_MODEL_eb8beba32a0a455f92eecfb573982b39",
       "tooltip": "Save current frame to file.\nCurrently .png and .html are supported.\nIt takes a bit time, please be patient."
      }
     },
     "1de2bdcf4c3f454fa06eba70049b5d87": {
      "model_module": "@jupyter-widgets/controls",
      "model_module_version": "1.5.0",
      "model_name": "VBoxModel",
      "state": {
       "children": [
        "IPY_MODEL_427d2bbd3b4247bd9fdb881a8973866e",
        "IPY_MODEL_d4e18979daac4f3593a517854ca76b02",
        "IPY_MODEL_b1450e3b5b394214934ee607fbf2ea14",
        "IPY_MODEL_e7a7bcea17b14cd985c677dca83a2086",
        "IPY_MODEL_ce9921e0b96c41ea94e2bd609bd57d66",
        "IPY_MODEL_a4a8c54d9e20457fa1c59035026c3831",
        "IPY_MODEL_bc364c10b3c145f19542641820d1e0f1",
        "IPY_MODEL_2dd710e7fc2c425f9a963b870d2c56f8",
        "IPY_MODEL_07ad306d6e5649d09ff606dbb3e96743",
        "IPY_MODEL_42686b94bafd45d4ac910571b6b88db2"
       ],
       "layout": "IPY_MODEL_5abec3344dad4d7caa962fb304a4bb8f"
      }
     },
     "1dec505d0404450187f9685ff7b8b879": {
      "model_module": "@jupyter-widgets/base",
      "model_module_version": "1.2.0",
      "model_name": "LayoutModel",
      "state": {}
     },
     "202a771cf26b40218593ff3039f190bc": {
      "model_module": "@jupyter-widgets/controls",
      "model_module_version": "1.5.0",
      "model_name": "DescriptionStyleModel",
      "state": {
       "description_width": ""
      }
     },
     "20b376a1d71442bda1257acba426c101": {
      "model_module": "@jupyter-widgets/base",
      "model_module_version": "1.2.0",
      "model_name": "LayoutModel",
      "state": {}
     },
     "2169aec9510b45c09472951f24e58c63": {
      "model_module": "@jupyter-widgets/controls",
      "model_module_version": "1.5.0",
      "model_name": "VBoxModel",
      "state": {
       "children": [
        "IPY_MODEL_762afd31ce6149fab8051793a01c5ad6",
        "IPY_MODEL_ce9e0168cedb413aade055e5eeabd999",
        "IPY_MODEL_ea8b6dce062c47b7925f4dc08e82aae7",
        "IPY_MODEL_a1d667d07b254858a6bc541c2b45cecb",
        "IPY_MODEL_51ea6ca83f8245e4803e8e937ba52f52",
        "IPY_MODEL_f10d96610203453eaf7df8fa0890c008",
        "IPY_MODEL_a8b69242a86a4cd7bb2df42f20a572a7",
        "IPY_MODEL_964f804b85cc4082ad29ef477ae0219c",
        "IPY_MODEL_1d2430893f7849078c91b71a0f977eae",
        "IPY_MODEL_76f88338a4f44bb4a487742194121cfd"
       ],
       "layout": "IPY_MODEL_dc3557b6c208436bbf32a20499398a4b"
      }
     },
     "22355b68cb6f4391abeaa84a06de679c": {
      "model_module": "@jupyter-widgets/controls",
      "model_module_version": "1.5.0",
      "model_name": "DescriptionStyleModel",
      "state": {
       "description_width": ""
      }
     },
     "22e29cfe8a1645628bb8a5f709400482": {
      "model_module": "@jupyter-widgets/base",
      "model_module_version": "1.2.0",
      "model_name": "LayoutModel",
      "state": {}
     },
     "23cbafe5028c4f23814a05c298cdfa2e": {
      "model_module": "@jupyter-widgets/controls",
      "model_module_version": "1.5.0",
      "model_name": "DescriptionStyleModel",
      "state": {
       "description_width": ""
      }
     },
     "24a767bc8cfc4261a1dd1817b33ede23": {
      "model_module": "@jupyter-widgets/controls",
      "model_module_version": "1.5.0",
      "model_name": "ButtonStyleModel",
      "state": {}
     },
     "252b1e3c74b444a99cd9a3561f2898b3": {
      "model_module": "@jupyter-widgets/base",
      "model_module_version": "1.2.0",
      "model_name": "LayoutModel",
      "state": {}
     },
     "27143b8fd5944aa8a1a62277a5360386": {
      "model_module": "@jupyter-widgets/controls",
      "model_module_version": "1.5.0",
      "model_name": "ButtonModel",
      "state": {
       "description": "Download image",
       "layout": "IPY_MODEL_52b10d44b76f47e38e93f4dbd010ba7c",
       "style": "IPY_MODEL_40ee449220674afab0414543637b5571",
       "tooltip": "Download current frame to your local PC"
      }
     },
     "2720454e07184068bb9e47bdea5fd536": {
      "model_module": "@jupyter-widgets/base",
      "model_module_version": "1.2.0",
      "model_name": "LayoutModel",
      "state": {}
     },
     "293759c5562e4c7ca66b273d7fad262b": {
      "model_module": "@jupyter-widgets/controls",
      "model_module_version": "1.5.0",
      "model_name": "HBoxModel",
      "state": {
       "children": [
        "IPY_MODEL_d19d927462114312b7e24147391d7a6d",
        "IPY_MODEL_697cf0e3120e46e380291b8fbf28bd4f"
       ],
       "layout": "IPY_MODEL_a4058ebfaf9b40a98f0b1f1d2f84c845"
      }
     },
     "2b72478435364aebb9264af9cf065a31": {
      "model_module": "@jupyter-widgets/controls",
      "model_module_version": "1.5.0",
      "model_name": "ImageModel",
      "state": {
       "layout": "IPY_MODEL_7686013c0c914812bc254072567e1fd0",
       "width": "900.0"
      }
     },
     "2c7cb78f88c24b37ad92efe81c96651a": {
      "model_module": "@jupyter-widgets/base",
      "model_module_version": "1.2.0",
      "model_name": "LayoutModel",
      "state": {}
     },
     "2cc665ad6a7440fb8bc1aa9d0a152dd5": {
      "model_module": "@jupyter-widgets/controls",
      "model_module_version": "1.5.0",
      "model_name": "ButtonStyleModel",
      "state": {}
     },
     "2d31e3097ba34d0fbc1269e7306a28ef": {
      "model_module": "@jupyter-widgets/controls",
      "model_module_version": "1.5.0",
      "model_name": "DropdownModel",
      "state": {
       "_options_labels": [
        "All",
        "Pt"
       ],
       "description": "Show",
       "index": 0,
       "layout": "IPY_MODEL_03e998da3e164d30a03d079616edd551",
       "style": "IPY_MODEL_4e47db0d2aea456f9b044acd3e220f15"
      }
     },
     "2dd710e7fc2c425f9a963b870d2c56f8": {
      "model_module": "@jupyter-widgets/controls",
      "model_module_version": "1.5.0",
      "model_name": "CheckboxModel",
      "state": {
       "description": "Show charge",
       "disabled": false,
       "layout": "IPY_MODEL_dab213d8024f46f8a30f003ac804afaa",
       "style": "IPY_MODEL_7e29b94a658b4027988483d94666972b",
       "value": false
      }
     },
     "2e30c9f4201c4bcaa33c501be56df324": {
      "model_module": "@jupyter-widgets/base",
      "model_module_version": "1.2.0",
      "model_name": "LayoutModel",
      "state": {}
     },
     "2ff0206261a04ed895c681290755096c": {
      "model_module": "@jupyter-widgets/base",
      "model_module_version": "1.2.0",
      "model_name": "LayoutModel",
      "state": {}
     },
     "31254293a79e4703913e30800d342aa9": {
      "model_module": "@jupyter-widgets/base",
      "model_module_version": "1.2.0",
      "model_name": "LayoutModel",
      "state": {}
     },
     "3133f87821c248ca83e45e86777595b9": {
      "model_module": "@jupyter-widgets/base",
      "model_module_version": "1.2.0",
      "model_name": "LayoutModel",
      "state": {
       "width": "34px"
      }
     },
     "317535d84df9491a82c1f43e90f9276c": {
      "model_module": "@jupyter-widgets/controls",
      "model_module_version": "1.5.0",
      "model_name": "DropdownModel",
      "state": {
       "_options_labels": [
        " ",
        "picking",
        "random",
        "uniform",
        "atomindex",
        "residueindex",
        "chainindex",
        "modelindex",
        "sstruc",
        "element",
        "resname",
        "bfactor",
        "hydrophobicity",
        "value",
        "volume",
        "occupancy"
       ],
       "description": "Color scheme",
       "index": 9,
       "layout": "IPY_MODEL_a59aec8f66f344399d9a7fda4fae2792",
       "style": "IPY_MODEL_be85456001164b8bb0979ff1be606bc4"
      }
     },
     "32f11777f6d64533abc87d877b972494": {
      "model_module": "@jupyter-widgets/controls",
      "model_module_version": "1.5.0",
      "model_name": "SliderStyleModel",
      "state": {
       "description_width": ""
      }
     },
     "32fc66833be74303aaf5d46a61baf9a3": {
      "model_module": "@jupyter-widgets/controls",
      "model_module_version": "1.5.0",
      "model_name": "SliderStyleModel",
      "state": {
       "description_width": ""
      }
     },
     "345e17b9816a4ff7bee1e8101b073b1b": {
      "model_module": "@jupyter-widgets/controls",
      "model_module_version": "1.5.0",
      "model_name": "HBoxModel",
      "state": {
       "children": [
        "IPY_MODEL_6bebfbf8639a42d281c9fd766cfd5ec8",
        "IPY_MODEL_6af32bdc57e344f79046e1d38379c623"
       ],
       "layout": "IPY_MODEL_78debb158cc24424b8acd774a5c70f59"
      }
     },
     "35dc70d4420c491094c9004223878f06": {
      "model_module": "@jupyter-widgets/controls",
      "model_module_version": "1.5.0",
      "model_name": "SliderStyleModel",
      "state": {
       "description_width": ""
      }
     },
     "361164f214f14c899124534e1093a641": {
      "model_module": "@jupyter-widgets/controls",
      "model_module_version": "1.5.0",
      "model_name": "SliderStyleModel",
      "state": {
       "description_width": ""
      }
     },
     "3646550528ae45b1b7b459c159029565": {
      "model_module": "@jupyter-widgets/controls",
      "model_module_version": "1.5.0",
      "model_name": "FloatSliderModel",
      "state": {
       "description": "Charge scale",
       "layout": "IPY_MODEL_2c7cb78f88c24b37ad92efe81c96651a",
       "step": 0.1,
       "style": "IPY_MODEL_1a0cd0c4ec174c93a58ea4c1f7c5de82",
       "value": 1
      }
     },
     "36b9c2f22d8b44bf91caa6a36cdd9f50": {
      "model_module": "@jupyter-widgets/base",
      "model_module_version": "1.2.0",
      "model_name": "LayoutModel",
      "state": {}
     },
     "3734e5309cc2442fbdb4210b257f5009": {
      "model_module": "@jupyter-widgets/controls",
      "model_module_version": "1.5.0",
      "model_name": "SliderStyleModel",
      "state": {
       "description_width": ""
      }
     },
     "3ac1eb79b6ce45c5b190a7ee0bbb9ec8": {
      "model_module": "@jupyter-widgets/controls",
      "model_module_version": "1.5.0",
      "model_name": "ButtonStyleModel",
      "state": {}
     },
     "3c8829aca88c4ee8a16f18ea55dc704e": {
      "model_module": "@jupyter-widgets/controls",
      "model_module_version": "1.5.0",
      "model_name": "DescriptionStyleModel",
      "state": {
       "description_width": ""
      }
     },
     "3ecd4a6697544b8b8e929f522eaa0eb5": {
      "model_module": "@jupyter-widgets/base",
      "model_module_version": "1.2.0",
      "model_name": "LayoutModel",
      "state": {
       "border": "0px solid black"
      }
     },
     "3f4918ba344c4203a6d067d1f2caaef8": {
      "model_module": "@jupyter-widgets/controls",
      "model_module_version": "1.5.0",
      "model_name": "SliderStyleModel",
      "state": {
       "description_width": ""
      }
     },
     "40ee449220674afab0414543637b5571": {
      "model_module": "@jupyter-widgets/controls",
      "model_module_version": "1.5.0",
      "model_name": "ButtonStyleModel",
      "state": {}
     },
     "4169a9edbf454c1d9b92efb9d7078a15": {
      "model_module": "@jupyter-widgets/controls",
      "model_module_version": "1.5.0",
      "model_name": "LinkModel",
      "state": {
       "source": [
        "IPY_MODEL_f894fafac2334d269d9d7de2ad3d9225",
        "value"
       ],
       "target": [
        "IPY_MODEL_b4ca142cc5f947b4b9422d3d67557c32",
        "value"
       ]
      }
     },
     "41e2c3069b37469283239bc4fadfabf2": {
      "model_module": "@jupyter-widgets/controls",
      "model_module_version": "1.5.0",
      "model_name": "ButtonStyleModel",
      "state": {}
     },
     "41f626fd396a47279601bf4a3ff32186": {
      "model_module": "@jupyter-widgets/base",
      "model_module_version": "1.2.0",
      "model_name": "LayoutModel",
      "state": {}
     },
     "42686b94bafd45d4ac910571b6b88db2": {
      "model_module": "@jupyter-widgets/output",
      "model_module_version": "1.0.0",
      "model_name": "OutputModel",
      "state": {
       "layout": "IPY_MODEL_519ff066439340dba8ad099bef7d3a96"
      }
     },
     "427d2bbd3b4247bd9fdb881a8973866e": {
      "model_module": "@jupyter-widgets/controls",
      "model_module_version": "1.5.0",
      "model_name": "DropdownModel",
      "state": {
       "_options_labels": [
        "All",
        "Pt"
       ],
       "description": "Show",
       "index": 0,
       "layout": "IPY_MODEL_a37f2d4543fb4efca1f429c68d5d2b55",
       "style": "IPY_MODEL_e7a3f674e04f41a2bd6a42e7a7a3fd0c"
      }
     },
     "42a6d9facf214f05a1b92bcc935603ba": {
      "model_module": "@jupyter-widgets/base",
      "model_module_version": "1.2.0",
      "model_name": "LayoutModel",
      "state": {}
     },
     "441e8d74e8774edcac8304de09efb1ff": {
      "model_module": "@jupyter-widgets/controls",
      "model_module_version": "1.5.0",
      "model_name": "ImageModel",
      "state": {
       "layout": "IPY_MODEL_65cbbb869f2648e693c697c992f51dda",
       "width": "900.0"
      }
     },
     "47a6742678054f30bd697cf84477f1d6": {
      "model_module": "@jupyter-widgets/controls",
      "model_module_version": "1.5.0",
      "model_name": "ButtonStyleModel",
      "state": {}
     },
     "47a95b0a24e24172a7c762f425f6a4d9": {
      "model_module": "@jupyter-widgets/controls",
      "model_module_version": "1.5.0",
      "model_name": "LinkModel",
      "state": {
       "source": [
        "IPY_MODEL_d19d927462114312b7e24147391d7a6d",
        "value"
       ],
       "target": [
        "IPY_MODEL_f8ce4f058e6340dbba63a6380f00b6f4",
        "frame"
       ]
      }
     },
     "480afcfa169145a59255df4f70642781": {
      "model_module": "@jupyter-widgets/controls",
      "model_module_version": "1.5.0",
      "model_name": "VBoxModel",
      "state": {
       "children": [
        "IPY_MODEL_2d31e3097ba34d0fbc1269e7306a28ef",
        "IPY_MODEL_4f8cdcb9cf16457181d6ea5ac24fde1a",
        "IPY_MODEL_cf53ff8f5d95413a8781a3fbc414e85c",
        "IPY_MODEL_efed3a2c0b81410cabcc571d6c7b59c2",
        "IPY_MODEL_4e1df8ef4c8f4612ab36bb87f91ec436",
        "IPY_MODEL_88a6e17385084032a79aee59f5a46c48",
        "IPY_MODEL_66573fb4aa70485787eb18dad360feee",
        "IPY_MODEL_6d2480b522fa4379810298a9d0e223e3",
        "IPY_MODEL_c89f5701a33e47ec8d234a30e8c275c4",
        "IPY_MODEL_a750b4d1e218434692968a035922eee6"
       ],
       "layout": "IPY_MODEL_156981d49d4444c79fece2494cde6cd5"
      }
     },
     "48435586420a4d8d92e1133390ae62a0": {
      "model_module": "@jupyter-widgets/controls",
      "model_module_version": "1.5.0",
      "model_name": "DescriptionStyleModel",
      "state": {
       "description_width": ""
      }
     },
     "49316279cec94f63962b29eb6bc257b7": {
      "model_module": "@jupyter-widgets/base",
      "model_module_version": "1.2.0",
      "model_name": "LayoutModel",
      "state": {}
     },
     "4a28cda957b5470c9125c7a5b99bd638": {
      "model_module": "@jupyter-widgets/base",
      "model_module_version": "1.2.0",
      "model_name": "LayoutModel",
      "state": {}
     },
     "4d8c759f357243029cc052514c3b978f": {
      "model_module": "@jupyter-widgets/controls",
      "model_module_version": "1.5.0",
      "model_name": "ButtonStyleModel",
      "state": {}
     },
     "4e1df8ef4c8f4612ab36bb87f91ec436": {
      "model_module": "@jupyter-widgets/controls",
      "model_module_version": "1.5.0",
      "model_name": "HBoxModel",
      "state": {
       "children": [
        "IPY_MODEL_8bbea1da69024668842e59b422f26e15",
        "IPY_MODEL_1dbc284e8779478da897ae1a1bc2bafd"
       ],
       "layout": "IPY_MODEL_2ff0206261a04ed895c681290755096c"
      }
     },
     "4e47db0d2aea456f9b044acd3e220f15": {
      "model_module": "@jupyter-widgets/controls",
      "model_module_version": "1.5.0",
      "model_name": "DescriptionStyleModel",
      "state": {
       "description_width": ""
      }
     },
     "4e8430dd44cf4c22ac2318d44135b32c": {
      "model_module": "@jupyter-widgets/controls",
      "model_module_version": "1.5.0",
      "model_name": "LinkModel",
      "state": {
       "source": [
        "IPY_MODEL_ecc231e8ae77467087b6651e10fe444c",
        "value"
       ],
       "target": [
        "IPY_MODEL_7d03ff16e45a497ca2807ad63842cdc9",
        "value"
       ]
      }
     },
     "4f8cdcb9cf16457181d6ea5ac24fde1a": {
      "model_module": "@jupyter-widgets/controls",
      "model_module_version": "1.5.0",
      "model_name": "DropdownModel",
      "state": {
       "_options_labels": [
        " ",
        "picking",
        "random",
        "uniform",
        "atomindex",
        "residueindex",
        "chainindex",
        "modelindex",
        "sstruc",
        "element",
        "resname",
        "bfactor",
        "hydrophobicity",
        "value",
        "volume",
        "occupancy"
       ],
       "description": "Color scheme",
       "index": 9,
       "layout": "IPY_MODEL_aaea89c46d374645825b0aed3f2baebc",
       "style": "IPY_MODEL_48435586420a4d8d92e1133390ae62a0"
      }
     },
     "519ff066439340dba8ad099bef7d3a96": {
      "model_module": "@jupyter-widgets/base",
      "model_module_version": "1.2.0",
      "model_name": "LayoutModel",
      "state": {
       "border": "0px solid black"
      }
     },
     "51ea6ca83f8245e4803e8e937ba52f52": {
      "model_module": "@jupyter-widgets/controls",
      "model_module_version": "1.5.0",
      "model_name": "HBoxModel",
      "state": {
       "children": [
        "IPY_MODEL_901e005ffe994fef9c3c815e3e46e905",
        "IPY_MODEL_814378857eff46b59f6a13f02e4da9a7"
       ],
       "layout": "IPY_MODEL_611085355d3e41ca85118b0df3d6fd3e"
      }
     },
     "52b10d44b76f47e38e93f4dbd010ba7c": {
      "model_module": "@jupyter-widgets/base",
      "model_module_version": "1.2.0",
      "model_name": "LayoutModel",
      "state": {}
     },
     "52edf87bfe6a45f39822a2bad06783f8": {
      "model_module": "@jupyter-widgets/controls",
      "model_module_version": "1.5.0",
      "model_name": "TextModel",
      "state": {
       "description": "Filename: ",
       "layout": "IPY_MODEL_ec0be69d56184c3c90347930552825f8",
       "style": "IPY_MODEL_bb4e46b934d8404083dcb26ed0d8b8a5",
       "value": "screenshot.png"
      }
     },
     "53e82851c6964c01a701808ada89c13c": {
      "model_module": "@jupyter-widgets/base",
      "model_module_version": "1.2.0",
      "model_name": "LayoutModel",
      "state": {}
     },
     "5426dfaab55342eca39993b1050bff1c": {
      "model_module": "@jupyter-widgets/controls",
      "model_module_version": "1.5.0",
      "model_name": "ButtonStyleModel",
      "state": {}
     },
     "5591dd750435409490d65f94fabbde74": {
      "model_module": "@jupyter-widgets/base",
      "model_module_version": "1.2.0",
      "model_name": "LayoutModel",
      "state": {}
     },
     "58e4c6addfbd402cb9d96d548989b659": {
      "model_module": "@jupyter-widgets/controls",
      "model_module_version": "1.5.0",
      "model_name": "CheckboxModel",
      "state": {
       "description": "Show charge",
       "disabled": false,
       "layout": "IPY_MODEL_4a28cda957b5470c9125c7a5b99bd638",
       "style": "IPY_MODEL_58f640a32f564ae39cb2c5bb4fd2dae9",
       "value": false
      }
     },
     "58f640a32f564ae39cb2c5bb4fd2dae9": {
      "model_module": "@jupyter-widgets/controls",
      "model_module_version": "1.5.0",
      "model_name": "DescriptionStyleModel",
      "state": {
       "description_width": ""
      }
     },
     "59298f56880646e4adf1c8b1b19896f9": {
      "model_module": "@jupyter-widgets/base",
      "model_module_version": "1.2.0",
      "model_name": "LayoutModel",
      "state": {}
     },
     "5a329bd56cae421c85de160122f23ec0": {
      "model_module": "@jupyter-widgets/base",
      "model_module_version": "1.2.0",
      "model_name": "LayoutModel",
      "state": {}
     },
     "5abec3344dad4d7caa962fb304a4bb8f": {
      "model_module": "@jupyter-widgets/base",
      "model_module_version": "1.2.0",
      "model_name": "LayoutModel",
      "state": {}
     },
     "5b469f0f08f9438d95857c91d7fd0f8b": {
      "model_module": "@jupyter-widgets/controls",
      "model_module_version": "1.5.0",
      "model_name": "LinkModel",
      "state": {
       "source": [
        "IPY_MODEL_fbbea1203ce74d4daa6556e6d3b97892",
        "max"
       ],
       "target": [
        "IPY_MODEL_a76ce91eb6f74cac9e08ccddcb654bf8",
        "max_frame"
       ]
      }
     },
     "5d19a85af2cd4697bd354118fbd54762": {
      "model_module": "@jupyter-widgets/controls",
      "model_module_version": "1.5.0",
      "model_name": "ButtonStyleModel",
      "state": {}
     },
     "5d79b2369a5147c29b639e9a29646559": {
      "model_module": "@jupyter-widgets/base",
      "model_module_version": "1.2.0",
      "model_name": "LayoutModel",
      "state": {}
     },
     "5da2531db0b24c0b8dd3b2a36be9d4e6": {
      "model_module": "@jupyter-widgets/base",
      "model_module_version": "1.2.0",
      "model_name": "LayoutModel",
      "state": {}
     },
     "611085355d3e41ca85118b0df3d6fd3e": {
      "model_module": "@jupyter-widgets/base",
      "model_module_version": "1.2.0",
      "model_name": "LayoutModel",
      "state": {}
     },
     "617e2059704845cd9f27734670195e78": {
      "model_module": "@jupyter-widgets/base",
      "model_module_version": "1.2.0",
      "model_name": "LayoutModel",
      "state": {}
     },
     "655e14e47a3344f0be7a1e72230de31b": {
      "model_module": "@jupyter-widgets/controls",
      "model_module_version": "1.5.0",
      "model_name": "CheckboxModel",
      "state": {
       "description": "Show force",
       "disabled": false,
       "layout": "IPY_MODEL_949e6024df874f3f9835a017f933761c",
       "style": "IPY_MODEL_d0e78c56b2da4dc2b5f5307b3c865d87",
       "value": false
      }
     },
     "65cbbb869f2648e693c697c992f51dda": {
      "model_module": "@jupyter-widgets/base",
      "model_module_version": "1.2.0",
      "model_name": "LayoutModel",
      "state": {}
     },
     "66573fb4aa70485787eb18dad360feee": {
      "model_module": "@jupyter-widgets/controls",
      "model_module_version": "1.5.0",
      "model_name": "FloatSliderModel",
      "state": {
       "description": "Force scale",
       "layout": "IPY_MODEL_0aa30034ce90407bb6906592864ef1a5",
       "step": 0.1,
       "style": "IPY_MODEL_a14aea187bc147c4858bf570e755262a",
       "value": 0.5
      }
     },
     "697cf0e3120e46e380291b8fbf28bd4f": {
      "model_module": "@jupyter-widgets/controls",
      "model_module_version": "1.5.0",
      "model_name": "IntSliderModel",
      "state": {
       "layout": "IPY_MODEL_42a6d9facf214f05a1b92bcc935603ba",
       "max": 0,
       "style": "IPY_MODEL_7e78dc1f4b064972acdae82f4c274e8e"
      }
     },
     "6a3dd6dfcd134eee8a20011df9e7d199": {
      "model_module": "@jupyter-widgets/base",
      "model_module_version": "1.2.0",
      "model_name": "LayoutModel",
      "state": {}
     },
     "6abd30ffa1774d20a8aa06458765d1bd": {
      "model_module": "@jupyter-widgets/controls",
      "model_module_version": "1.5.0",
      "model_name": "FloatSliderModel",
      "state": {
       "description": "Force scale",
       "layout": "IPY_MODEL_77a003b8c57c4ed8a88e747de290c2f8",
       "step": 0.1,
       "style": "IPY_MODEL_9ce0218083ed46b5b6743945ded5eb19",
       "value": 0.5
      }
     },
     "6af32bdc57e344f79046e1d38379c623": {
      "model_module": "@jupyter-widgets/controls",
      "model_module_version": "1.5.0",
      "model_name": "VBoxModel",
      "state": {
       "children": [
        "IPY_MODEL_b30916abd627451b950f0a55e3471a1a",
        "IPY_MODEL_317535d84df9491a82c1f43e90f9276c",
        "IPY_MODEL_ae42bf0c8eda46869b8ae3c2a204ec51",
        "IPY_MODEL_18d4a2e06faa4d86bc54844f25b2c87e",
        "IPY_MODEL_fedcfbc5a70b4b21988ecab0f405a36a",
        "IPY_MODEL_bddcd3f616474d1996ef088b1b396e43",
        "IPY_MODEL_d05887601b6f4d2f8a1148e5421a1b0f",
        "IPY_MODEL_6abd30ffa1774d20a8aa06458765d1bd",
        "IPY_MODEL_58e4c6addfbd402cb9d96d548989b659",
        "IPY_MODEL_3646550528ae45b1b7b459c159029565",
        "IPY_MODEL_f01d97771a824f57b4760cffdfeeda5a"
       ],
       "layout": "IPY_MODEL_d26f3a46d49c4ce3aa4d3403a1557da1"
      }
     },
     "6bebfbf8639a42d281c9fd766cfd5ec8": {
      "model_module": "nglview-js-widgets",
      "model_module_version": "3.0.1",
      "model_name": "NGLModel",
      "state": {
       "_camera_orientation": [
        33.068102236969644,
        0,
        0,
        0,
        0,
        33.068102236969644,
        0,
        0,
        0,
        0,
        33.068102236969644,
        0,
        0,
        0,
        0,
        1
       ],
       "_camera_str": "orthographic",
       "_gui_theme": null,
       "_ibtn_fullscreen": "IPY_MODEL_a7683522c32341058db6f3bc2569aba3",
       "_igui": null,
       "_iplayer": "IPY_MODEL_fdb86b77959143c7af5a959d772de735",
       "_ngl_color_dict": {},
       "_ngl_coordinate_resource": {},
       "_ngl_full_stage_parameters": {
        "ambientColor": 14540253,
        "ambientIntensity": 0.2,
        "backgroundColor": "white",
        "cameraEyeSep": 0.3,
        "cameraFov": 40,
        "cameraType": "orthographic",
        "clipDist": 0,
        "clipFar": 100,
        "clipNear": 0,
        "fogFar": 100,
        "fogNear": 50,
        "hoverTimeout": 0,
        "impostor": true,
        "lightColor": 14540253,
        "lightIntensity": 1,
        "mousePreset": "default",
        "panSpeed": 1,
        "quality": "medium",
        "rotateSpeed": 2,
        "sampleLevel": 0,
        "tooltip": true,
        "workerDefault": true,
        "zoomSpeed": 1.2
       },
       "_ngl_msg_archive": [
        {
         "args": [
          {
           "binary": false,
           "data": "MODEL     1\nATOM      1   Ru MOL     1       0.000   0.000   0.000  1.00  0.00          RU  \nATOM      2   Ru MOL     1       2.292   0.000  -1.416  1.00  0.00          RU  \nATOM      3   Ru MOL     1       2.292   0.000   1.416  1.00  0.00          RU  \nATOM      4   Ru MOL     1      -2.292   0.000  -1.416  1.00  0.00          RU  \nATOM      5   Ru MOL     1      -2.292   0.000   1.416  1.00  0.00          RU  \nATOM      6   Ru MOL     1      -1.416   2.292   0.000  1.00  0.00          RU  \nATOM      7   Ru MOL     1       1.416   2.292   0.000  1.00  0.00          RU  \nATOM      8   Ru MOL     1      -1.416  -2.292   0.000  1.00  0.00          RU  \nATOM      9   Ru MOL     1       1.416  -2.292   0.000  1.00  0.00          RU  \nATOM     10   Ru MOL     1       0.000  -1.416   2.292  1.00  0.00          RU  \nATOM     11   Ru MOL     1       0.000   1.416   2.292  1.00  0.00          RU  \nATOM     12   Ru MOL     1       0.000  -1.416  -2.292  1.00  0.00          RU  \nATOM     13   Ru MOL     1       0.000   1.416  -2.292  1.00  0.00          RU  \nATOM     14   Ru MOL     1       4.583   0.000  -2.833  1.00  0.00          RU  \nATOM     15   Ru MOL     1       4.583   0.000   0.000  1.00  0.00          RU  \nATOM     16   Ru MOL     1       4.583   0.000   2.833  1.00  0.00          RU  \nATOM     17   Ru MOL     1      -4.583   0.000  -2.833  1.00  0.00          RU  \nATOM     18   Ru MOL     1      -4.583   0.000   0.000  1.00  0.00          RU  \nATOM     19   Ru MOL     1      -4.583   0.000   2.833  1.00  0.00          RU  \nATOM     20   Ru MOL     1      -2.833   4.583   0.000  1.00  0.00          RU  \nATOM     21   Ru MOL     1       0.000   4.583   0.000  1.00  0.00          RU  \nATOM     22   Ru MOL     1       2.833   4.583   0.000  1.00  0.00          RU  \nATOM     23   Ru MOL     1      -2.833  -4.583   0.000  1.00  0.00          RU  \nATOM     24   Ru MOL     1       0.000  -4.583   0.000  1.00  0.00          RU  \nATOM     25   Ru MOL     1       2.833  -4.583   0.000  1.00  0.00          RU  \nATOM     26   Ru MOL     1       0.000  -2.833   4.583  1.00  0.00          RU  \nATOM     27   Ru MOL     1       0.000   0.000   4.583  1.00  0.00          RU  \nATOM     28   Ru MOL     1       0.000   2.833   4.583  1.00  0.00          RU  \nATOM     29   Ru MOL     1       0.000  -2.833  -4.583  1.00  0.00          RU  \nATOM     30   Ru MOL     1       0.000   0.000  -4.583  1.00  0.00          RU  \nATOM     31   Ru MOL     1       0.000   2.833  -4.583  1.00  0.00          RU  \nATOM     32   Ru MOL     1       2.292  -1.416   3.708  1.00  0.00          RU  \nATOM     33   Ru MOL     1       2.292   1.416   3.708  1.00  0.00          RU  \nATOM     34   Ru MOL     1       2.292  -1.416  -3.708  1.00  0.00          RU  \nATOM     35   Ru MOL     1       2.292   1.416  -3.708  1.00  0.00          RU  \nATOM     36   Ru MOL     1      -2.292  -1.416   3.708  1.00  0.00          RU  \nATOM     37   Ru MOL     1      -2.292   1.416   3.708  1.00  0.00          RU  \nATOM     38   Ru MOL     1      -2.292  -1.416  -3.708  1.00  0.00          RU  \nATOM     39   Ru MOL     1      -2.292   1.416  -3.708  1.00  0.00          RU  \nATOM     40   Ru MOL     1       3.708   2.292  -1.416  1.00  0.00          RU  \nATOM     41   Ru MOL     1       3.708   2.292   1.416  1.00  0.00          RU  \nATOM     42   Ru MOL     1      -3.708   2.292  -1.416  1.00  0.00          RU  \nATOM     43   Ru MOL     1      -3.708   2.292   1.416  1.00  0.00          RU  \nATOM     44   Ru MOL     1       3.708  -2.292  -1.416  1.00  0.00          RU  \nATOM     45   Ru MOL     1       3.708  -2.292   1.416  1.00  0.00          RU  \nATOM     46   Ru MOL     1      -3.708  -2.292  -1.416  1.00  0.00          RU  \nATOM     47   Ru MOL     1      -3.708  -2.292   1.416  1.00  0.00          RU  \nATOM     48   Ru MOL     1      -1.416   3.708   2.292  1.00  0.00          RU  \nATOM     49   Ru MOL     1       1.416   3.708   2.292  1.00  0.00          RU  \nATOM     50   Ru MOL     1      -1.416  -3.708   2.292  1.00  0.00          RU  \nATOM     51   Ru MOL     1       1.416  -3.708   2.292  1.00  0.00          RU  \nATOM     52   Ru MOL     1      -1.416   3.708  -2.292  1.00  0.00          RU  \nATOM     53   Ru MOL     1       1.416   3.708  -2.292  1.00  0.00          RU  \nATOM     54   Ru MOL     1      -1.416  -3.708  -2.292  1.00  0.00          RU  \nATOM     55   Ru MOL     1       1.416  -3.708  -2.292  1.00  0.00          RU  \nATOM     56   Ru MOL     1       6.875   0.000  -4.249  1.00  0.00          RU  \nATOM     57   Ru MOL     1       6.875   0.000  -1.416  1.00  0.00          RU  \nATOM     58   Ru MOL     1       6.875   0.000   1.416  1.00  0.00          RU  \nATOM     59   Ru MOL     1       6.875   0.000   4.249  1.00  0.00          RU  \nATOM     60   Ru MOL     1      -6.875   0.000  -4.249  1.00  0.00          RU  \nATOM     61   Ru MOL     1      -6.875   0.000  -1.416  1.00  0.00          RU  \nATOM     62   Ru MOL     1      -6.875   0.000   1.416  1.00  0.00          RU  \nATOM     63   Ru MOL     1      -6.875   0.000   4.249  1.00  0.00          RU  \nATOM     64   Ru MOL     1      -4.249   6.875   0.000  1.00  0.00          RU  \nATOM     65   Ru MOL     1      -1.416   6.875   0.000  1.00  0.00          RU  \nATOM     66   Ru MOL     1       1.416   6.875   0.000  1.00  0.00          RU  \nATOM     67   Ru MOL     1       4.249   6.875   0.000  1.00  0.00          RU  \nATOM     68   Ru MOL     1      -4.249  -6.875   0.000  1.00  0.00          RU  \nATOM     69   Ru MOL     1      -1.416  -6.875   0.000  1.00  0.00          RU  \nATOM     70   Ru MOL     1       1.416  -6.875   0.000  1.00  0.00          RU  \nATOM     71   Ru MOL     1       4.249  -6.875   0.000  1.00  0.00          RU  \nATOM     72   Ru MOL     1       0.000  -4.249   6.875  1.00  0.00          RU  \nATOM     73   Ru MOL     1       0.000  -1.416   6.875  1.00  0.00          RU  \nATOM     74   Ru MOL     1       0.000   1.416   6.875  1.00  0.00          RU  \nATOM     75   Ru MOL     1       0.000   4.249   6.875  1.00  0.00          RU  \nATOM     76   Ru MOL     1       0.000  -4.249  -6.875  1.00  0.00          RU  \nATOM     77   Ru MOL     1       0.000  -1.416  -6.875  1.00  0.00          RU  \nATOM     78   Ru MOL     1       0.000   1.416  -6.875  1.00  0.00          RU  \nATOM     79   Ru MOL     1       0.000   4.249  -6.875  1.00  0.00          RU  \nATOM     80   Ru MOL     1       4.583  -1.416   5.124  1.00  0.00          RU  \nATOM     81   Ru MOL     1       2.292  -2.833   6.000  1.00  0.00          RU  \nATOM     82   Ru MOL     1       4.583   1.416   5.124  1.00  0.00          RU  \nATOM     83   Ru MOL     1       2.292   0.000   6.000  1.00  0.00          RU  \nATOM     84   Ru MOL     1       2.292   2.833   6.000  1.00  0.00          RU  \nATOM     85   Ru MOL     1       4.583  -1.416  -5.124  1.00  0.00          RU  \nATOM     86   Ru MOL     1       2.292  -2.833  -6.000  1.00  0.00          RU  \nATOM     87   Ru MOL     1       4.583   1.416  -5.124  1.00  0.00          RU  \nATOM     88   Ru MOL     1       2.292   0.000  -6.000  1.00  0.00          RU  \nATOM     89   Ru MOL     1       2.292   2.833  -6.000  1.00  0.00          RU  \nATOM     90   Ru MOL     1      -4.583  -1.416   5.124  1.00  0.00          RU  \nATOM     91   Ru MOL     1      -2.292  -2.833   6.000  1.00  0.00          RU  \nATOM     92   Ru MOL     1      -4.583   1.416   5.124  1.00  0.00          RU  \nATOM     93   Ru MOL     1      -2.292   0.000   6.000  1.00  0.00          RU  \nATOM     94   Ru MOL     1      -2.292   2.833   6.000  1.00  0.00          RU  \nATOM     95   Ru MOL     1      -4.583  -1.416  -5.124  1.00  0.00          RU  \nATOM     96   Ru MOL     1      -2.292  -2.833  -6.000  1.00  0.00          RU  \nATOM     97   Ru MOL     1      -4.583   1.416  -5.124  1.00  0.00          RU  \nATOM     98   Ru MOL     1      -2.292   0.000  -6.000  1.00  0.00          RU  \nATOM     99   Ru MOL     1      -2.292   2.833  -6.000  1.00  0.00          RU  \nATOM    100   Ru MOL     1       5.124   4.583  -1.416  1.00  0.00          RU  \nATOM    101   Ru MOL     1       6.000   2.292  -2.833  1.00  0.00          RU  \nATOM    102   Ru MOL     1       5.124   4.583   1.416  1.00  0.00          RU  \nATOM    103   Ru MOL     1       6.000   2.292   0.000  1.00  0.00          RU  \nATOM    104   Ru MOL     1       6.000   2.292   2.833  1.00  0.00          RU  \nATOM    105   Ru MOL     1      -5.124   4.583  -1.416  1.00  0.00          RU  \nATOM    106   Ru MOL     1      -6.000   2.292  -2.833  1.00  0.00          RU  \nATOM    107   Ru MOL     1      -5.124   4.583   1.416  1.00  0.00          RU  \nATOM    108   Ru MOL     1      -6.000   2.292   0.000  1.00  0.00          RU  \nATOM    109   Ru MOL     1      -6.000   2.292   2.833  1.00  0.00          RU  \nATOM    110   Ru MOL     1       5.124  -4.583  -1.416  1.00  0.00          RU  \nATOM    111   Ru MOL     1       6.000  -2.292  -2.833  1.00  0.00          RU  \nATOM    112   Ru MOL     1       5.124  -4.583   1.416  1.00  0.00          RU  \nATOM    113   Ru MOL     1       6.000  -2.292   0.000  1.00  0.00          RU  \nATOM    114   Ru MOL     1       6.000  -2.292   2.833  1.00  0.00          RU  \nATOM    115   Ru MOL     1      -5.124  -4.583  -1.416  1.00  0.00          RU  \nATOM    116   Ru MOL     1      -6.000  -2.292  -2.833  1.00  0.00          RU  \nATOM    117   Ru MOL     1      -5.124  -4.583   1.416  1.00  0.00          RU  \nATOM    118   Ru MOL     1      -6.000  -2.292   0.000  1.00  0.00          RU  \nATOM    119   Ru MOL     1      -6.000  -2.292   2.833  1.00  0.00          RU  \nATOM    120   Ru MOL     1      -1.416   5.124   4.583  1.00  0.00          RU  \nATOM    121   Ru MOL     1      -2.833   6.000   2.292  1.00  0.00          RU  \nATOM    122   Ru MOL     1       1.416   5.124   4.583  1.00  0.00          RU  \nATOM    123   Ru MOL     1       0.000   6.000   2.292  1.00  0.00          RU  \nATOM    124   Ru MOL     1       2.833   6.000   2.292  1.00  0.00          RU  \nATOM    125   Ru MOL     1      -1.416  -5.124   4.583  1.00  0.00          RU  \nATOM    126   Ru MOL     1      -2.833  -6.000   2.292  1.00  0.00          RU  \nATOM    127   Ru MOL     1       1.416  -5.124   4.583  1.00  0.00          RU  \nATOM    128   Ru MOL     1       0.000  -6.000   2.292  1.00  0.00          RU  \nATOM    129   Ru MOL     1       2.833  -6.000   2.292  1.00  0.00          RU  \nATOM    130   Ru MOL     1      -1.416   5.124  -4.583  1.00  0.00          RU  \nATOM    131   Ru MOL     1      -2.833   6.000  -2.292  1.00  0.00          RU  \nATOM    132   Ru MOL     1       1.416   5.124  -4.583  1.00  0.00          RU  \nATOM    133   Ru MOL     1       0.000   6.000  -2.292  1.00  0.00          RU  \nATOM    134   Ru MOL     1       2.833   6.000  -2.292  1.00  0.00          RU  \nATOM    135   Ru MOL     1      -1.416  -5.124  -4.583  1.00  0.00          RU  \nATOM    136   Ru MOL     1      -2.833  -6.000  -2.292  1.00  0.00          RU  \nATOM    137   Ru MOL     1       1.416  -5.124  -4.583  1.00  0.00          RU  \nATOM    138   Ru MOL     1       0.000  -6.000  -2.292  1.00  0.00          RU  \nATOM    139   Ru MOL     1       2.833  -6.000  -2.292  1.00  0.00          RU  \nATOM    140   Ru MOL     1       3.708  -3.708   3.708  1.00  0.00          RU  \nATOM    141   Ru MOL     1       3.708   3.708   3.708  1.00  0.00          RU  \nATOM    142   Ru MOL     1       3.708  -3.708  -3.708  1.00  0.00          RU  \nATOM    143   Ru MOL     1       3.708   3.708  -3.708  1.00  0.00          RU  \nATOM    144   Ru MOL     1      -3.708  -3.708   3.708  1.00  0.00          RU  \nATOM    145   Ru MOL     1      -3.708   3.708   3.708  1.00  0.00          RU  \nATOM    146   Ru MOL     1      -3.708  -3.708  -3.708  1.00  0.00          RU  \nATOM    147   Ru MOL     1      -3.708   3.708  -3.708  1.00  0.00          RU  \nATOM    148   Ru MOL     1       9.167   0.000  -5.665  1.00  0.00          RU  \nATOM    149   Ru MOL     1       9.167   0.000  -2.833  1.00  0.00          RU  \nATOM    150   Ru MOL     1       9.167   0.000   0.000  1.00  0.00          RU  \nATOM    151   Ru MOL     1       9.167   0.000   2.833  1.00  0.00          RU  \nATOM    152   Ru MOL     1       9.167   0.000   5.665  1.00  0.00          RU  \nATOM    153   Ru MOL     1      -9.167   0.000  -5.665  1.00  0.00          RU  \nATOM    154   Ru MOL     1      -9.167   0.000  -2.833  1.00  0.00          RU  \nATOM    155   Ru MOL     1      -9.167   0.000   0.000  1.00  0.00          RU  \nATOM    156   Ru MOL     1      -9.167   0.000   2.833  1.00  0.00          RU  \nATOM    157   Ru MOL     1      -9.167   0.000   5.665  1.00  0.00          RU  \nATOM    158   Ru MOL     1      -5.665   9.167   0.000  1.00  0.00          RU  \nATOM    159   Ru MOL     1      -2.833   9.167   0.000  1.00  0.00          RU  \nATOM    160   Ru MOL     1       0.000   9.167   0.000  1.00  0.00          RU  \nATOM    161   Ru MOL     1       2.833   9.167   0.000  1.00  0.00          RU  \nATOM    162   Ru MOL     1       5.665   9.167   0.000  1.00  0.00          RU  \nATOM    163   Ru MOL     1      -5.665  -9.167   0.000  1.00  0.00          RU  \nATOM    164   Ru MOL     1      -2.833  -9.167   0.000  1.00  0.00          RU  \nATOM    165   Ru MOL     1       0.000  -9.167   0.000  1.00  0.00          RU  \nATOM    166   Ru MOL     1       2.833  -9.167   0.000  1.00  0.00          RU  \nATOM    167   Ru MOL     1       5.665  -9.167   0.000  1.00  0.00          RU  \nATOM    168   Ru MOL     1       0.000  -5.665   9.167  1.00  0.00          RU  \nATOM    169   Ru MOL     1       0.000  -2.833   9.167  1.00  0.00          RU  \nATOM    170   Ru MOL     1       0.000   0.000   9.167  1.00  0.00          RU  \nATOM    171   Ru MOL     1       0.000   2.833   9.167  1.00  0.00          RU  \nATOM    172   Ru MOL     1       0.000   5.665   9.167  1.00  0.00          RU  \nATOM    173   Ru MOL     1       0.000  -5.665  -9.167  1.00  0.00          RU  \nATOM    174   Ru MOL     1       0.000  -2.833  -9.167  1.00  0.00          RU  \nATOM    175   Ru MOL     1       0.000   0.000  -9.167  1.00  0.00          RU  \nATOM    176   Ru MOL     1       0.000   2.833  -9.167  1.00  0.00          RU  \nATOM    177   Ru MOL     1       0.000   5.665  -9.167  1.00  0.00          RU  \nATOM    178   Ru MOL     1       6.875  -1.416   6.541  1.00  0.00          RU  \nATOM    179   Ru MOL     1       4.583  -2.833   7.416  1.00  0.00          RU  \nATOM    180   Ru MOL     1       2.292  -4.249   8.291  1.00  0.00          RU  \nATOM    181   Ru MOL     1       6.875   1.416   6.541  1.00  0.00          RU  \nATOM    182   Ru MOL     1       4.583   0.000   7.416  1.00  0.00          RU  \nATOM    183   Ru MOL     1       2.292  -1.416   8.291  1.00  0.00          RU  \nATOM    184   Ru MOL     1       4.583   2.833   7.416  1.00  0.00          RU  \nATOM    185   Ru MOL     1       2.292   1.416   8.291  1.00  0.00          RU  \nATOM    186   Ru MOL     1       2.292   4.249   8.291  1.00  0.00          RU  \nATOM    187   Ru MOL     1       6.875  -1.416  -6.541  1.00  0.00          RU  \nATOM    188   Ru MOL     1       4.583  -2.833  -7.416  1.00  0.00          RU  \nATOM    189   Ru MOL     1       2.292  -4.249  -8.291  1.00  0.00          RU  \nATOM    190   Ru MOL     1       6.875   1.416  -6.541  1.00  0.00          RU  \nATOM    191   Ru MOL     1       4.583   0.000  -7.416  1.00  0.00          RU  \nATOM    192   Ru MOL     1       2.292  -1.416  -8.291  1.00  0.00          RU  \nATOM    193   Ru MOL     1       4.583   2.833  -7.416  1.00  0.00          RU  \nATOM    194   Ru MOL     1       2.292   1.416  -8.291  1.00  0.00          RU  \nATOM    195   Ru MOL     1       2.292   4.249  -8.291  1.00  0.00          RU  \nATOM    196   Ru MOL     1      -6.875  -1.416   6.541  1.00  0.00          RU  \nATOM    197   Ru MOL     1      -4.583  -2.833   7.416  1.00  0.00          RU  \nATOM    198   Ru MOL     1      -2.292  -4.249   8.291  1.00  0.00          RU  \nATOM    199   Ru MOL     1      -6.875   1.416   6.541  1.00  0.00          RU  \nATOM    200   Ru MOL     1      -4.583   0.000   7.416  1.00  0.00          RU  \nATOM    201   Ru MOL     1      -2.292  -1.416   8.291  1.00  0.00          RU  \nATOM    202   Ru MOL     1      -4.583   2.833   7.416  1.00  0.00          RU  \nATOM    203   Ru MOL     1      -2.292   1.416   8.291  1.00  0.00          RU  \nATOM    204   Ru MOL     1      -2.292   4.249   8.291  1.00  0.00          RU  \nATOM    205   Ru MOL     1      -6.875  -1.416  -6.541  1.00  0.00          RU  \nATOM    206   Ru MOL     1      -4.583  -2.833  -7.416  1.00  0.00          RU  \nATOM    207   Ru MOL     1      -2.292  -4.249  -8.291  1.00  0.00          RU  \nATOM    208   Ru MOL     1      -6.875   1.416  -6.541  1.00  0.00          RU  \nATOM    209   Ru MOL     1      -4.583   0.000  -7.416  1.00  0.00          RU  \nATOM    210   Ru MOL     1      -2.292  -1.416  -8.291  1.00  0.00          RU  \nATOM    211   Ru MOL     1      -4.583   2.833  -7.416  1.00  0.00          RU  \nATOM    212   Ru MOL     1      -2.292   1.416  -8.291  1.00  0.00          RU  \nATOM    213   Ru MOL     1      -2.292   4.249  -8.291  1.00  0.00          RU  \nATOM    214   Ru MOL     1       6.541   6.875  -1.416  1.00  0.00          RU  \nATOM    215   Ru MOL     1       7.416   4.583  -2.833  1.00  0.00          RU  \nATOM    216   Ru MOL     1       8.291   2.292  -4.249  1.00  0.00          RU  \nATOM    217   Ru MOL     1       6.541   6.875   1.416  1.00  0.00          RU  \nATOM    218   Ru MOL     1       7.416   4.583   0.000  1.00  0.00          RU  \nATOM    219   Ru MOL     1       8.291   2.292  -1.416  1.00  0.00          RU  \nATOM    220   Ru MOL     1       7.416   4.583   2.833  1.00  0.00          RU  \nATOM    221   Ru MOL     1       8.291   2.292   1.416  1.00  0.00          RU  \nATOM    222   Ru MOL     1       8.291   2.292   4.249  1.00  0.00          RU  \nATOM    223   Ru MOL     1      -6.541   6.875  -1.416  1.00  0.00          RU  \nATOM    224   Ru MOL     1      -7.416   4.583  -2.833  1.00  0.00          RU  \nATOM    225   Ru MOL     1      -8.291   2.292  -4.249  1.00  0.00          RU  \nATOM    226   Ru MOL     1      -6.541   6.875   1.416  1.00  0.00          RU  \nATOM    227   Ru MOL     1      -7.416   4.583   0.000  1.00  0.00          RU  \nATOM    228   Ru MOL     1      -8.291   2.292  -1.416  1.00  0.00          RU  \nATOM    229   Ru MOL     1      -7.416   4.583   2.833  1.00  0.00          RU  \nATOM    230   Ru MOL     1      -8.291   2.292   1.416  1.00  0.00          RU  \nATOM    231   Ru MOL     1      -8.291   2.292   4.249  1.00  0.00          RU  \nATOM    232   Ru MOL     1       6.541  -6.875  -1.416  1.00  0.00          RU  \nATOM    233   Ru MOL     1       7.416  -4.583  -2.833  1.00  0.00          RU  \nATOM    234   Ru MOL     1       8.291  -2.292  -4.249  1.00  0.00          RU  \nATOM    235   Ru MOL     1       6.541  -6.875   1.416  1.00  0.00          RU  \nATOM    236   Ru MOL     1       7.416  -4.583   0.000  1.00  0.00          RU  \nATOM    237   Ru MOL     1       8.291  -2.292  -1.416  1.00  0.00          RU  \nATOM    238   Ru MOL     1       7.416  -4.583   2.833  1.00  0.00          RU  \nATOM    239   Ru MOL     1       8.291  -2.292   1.416  1.00  0.00          RU  \nATOM    240   Ru MOL     1       8.291  -2.292   4.249  1.00  0.00          RU  \nATOM    241   Ru MOL     1      -6.541  -6.875  -1.416  1.00  0.00          RU  \nATOM    242   Ru MOL     1      -7.416  -4.583  -2.833  1.00  0.00          RU  \nATOM    243   Ru MOL     1      -8.291  -2.292  -4.249  1.00  0.00          RU  \nATOM    244   Ru MOL     1      -6.541  -6.875   1.416  1.00  0.00          RU  \nATOM    245   Ru MOL     1      -7.416  -4.583   0.000  1.00  0.00          RU  \nATOM    246   Ru MOL     1      -8.291  -2.292  -1.416  1.00  0.00          RU  \nATOM    247   Ru MOL     1      -7.416  -4.583   2.833  1.00  0.00          RU  \nATOM    248   Ru MOL     1      -8.291  -2.292   1.416  1.00  0.00          RU  \nATOM    249   Ru MOL     1      -8.291  -2.292   4.249  1.00  0.00          RU  \nATOM    250   Ru MOL     1      -1.416   6.541   6.875  1.00  0.00          RU  \nATOM    251   Ru MOL     1      -2.833   7.416   4.583  1.00  0.00          RU  \nATOM    252   Ru MOL     1      -4.249   8.291   2.292  1.00  0.00          RU  \nATOM    253   Ru MOL     1       1.416   6.541   6.875  1.00  0.00          RU  \nATOM    254   Ru MOL     1       0.000   7.416   4.583  1.00  0.00          RU  \nATOM    255   Ru MOL     1      -1.416   8.291   2.292  1.00  0.00          RU  \nATOM    256   Ru MOL     1       2.833   7.416   4.583  1.00  0.00          RU  \nATOM    257   Ru MOL     1       1.416   8.291   2.292  1.00  0.00          RU  \nATOM    258   Ru MOL     1       4.249   8.291   2.292  1.00  0.00          RU  \nATOM    259   Ru MOL     1      -1.416  -6.541   6.875  1.00  0.00          RU  \nATOM    260   Ru MOL     1      -2.833  -7.416   4.583  1.00  0.00          RU  \nATOM    261   Ru MOL     1      -4.249  -8.291   2.292  1.00  0.00          RU  \nATOM    262   Ru MOL     1       1.416  -6.541   6.875  1.00  0.00          RU  \nATOM    263   Ru MOL     1       0.000  -7.416   4.583  1.00  0.00          RU  \nATOM    264   Ru MOL     1      -1.416  -8.291   2.292  1.00  0.00          RU  \nATOM    265   Ru MOL     1       2.833  -7.416   4.583  1.00  0.00          RU  \nATOM    266   Ru MOL     1       1.416  -8.291   2.292  1.00  0.00          RU  \nATOM    267   Ru MOL     1       4.249  -8.291   2.292  1.00  0.00          RU  \nATOM    268   Ru MOL     1      -1.416   6.541  -6.875  1.00  0.00          RU  \nATOM    269   Ru MOL     1      -2.833   7.416  -4.583  1.00  0.00          RU  \nATOM    270   Ru MOL     1      -4.249   8.291  -2.292  1.00  0.00          RU  \nATOM    271   Ru MOL     1       1.416   6.541  -6.875  1.00  0.00          RU  \nATOM    272   Ru MOL     1       0.000   7.416  -4.583  1.00  0.00          RU  \nATOM    273   Ru MOL     1      -1.416   8.291  -2.292  1.00  0.00          RU  \nATOM    274   Ru MOL     1       2.833   7.416  -4.583  1.00  0.00          RU  \nATOM    275   Ru MOL     1       1.416   8.291  -2.292  1.00  0.00          RU  \nATOM    276   Ru MOL     1       4.249   8.291  -2.292  1.00  0.00          RU  \nATOM    277   Ru MOL     1      -1.416  -6.541  -6.875  1.00  0.00          RU  \nATOM    278   Ru MOL     1      -2.833  -7.416  -4.583  1.00  0.00          RU  \nATOM    279   Ru MOL     1      -4.249  -8.291  -2.292  1.00  0.00          RU  \nATOM    280   Ru MOL     1       1.416  -6.541  -6.875  1.00  0.00          RU  \nATOM    281   Ru MOL     1       0.000  -7.416  -4.583  1.00  0.00          RU  \nATOM    282   Ru MOL     1      -1.416  -8.291  -2.292  1.00  0.00          RU  \nATOM    283   Ru MOL     1       2.833  -7.416  -4.583  1.00  0.00          RU  \nATOM    284   Ru MOL     1       1.416  -8.291  -2.292  1.00  0.00          RU  \nATOM    285   Ru MOL     1       4.249  -8.291  -2.292  1.00  0.00          RU  \nATOM    286   Ru MOL     1       6.000  -3.708   5.124  1.00  0.00          RU  \nATOM    287   Ru MOL     1       6.000   3.708   5.124  1.00  0.00          RU  \nATOM    288   Ru MOL     1       5.124  -6.000   3.708  1.00  0.00          RU  \nATOM    289   Ru MOL     1       5.124   6.000   3.708  1.00  0.00          RU  \nATOM    290   Ru MOL     1       3.708  -5.124   6.000  1.00  0.00          RU  \nATOM    291   Ru MOL     1       3.708   5.124   6.000  1.00  0.00          RU  \nATOM    292   Ru MOL     1       6.000  -3.708  -5.124  1.00  0.00          RU  \nATOM    293   Ru MOL     1       6.000   3.708  -5.124  1.00  0.00          RU  \nATOM    294   Ru MOL     1       5.124  -6.000  -3.708  1.00  0.00          RU  \nATOM    295   Ru MOL     1       5.124   6.000  -3.708  1.00  0.00          RU  \nATOM    296   Ru MOL     1       3.708  -5.124  -6.000  1.00  0.00          RU  \nATOM    297   Ru MOL     1       3.708   5.124  -6.000  1.00  0.00          RU  \nATOM    298   Ru MOL     1      -6.000  -3.708   5.124  1.00  0.00          RU  \nATOM    299   Ru MOL     1      -6.000   3.708   5.124  1.00  0.00          RU  \nATOM    300   Ru MOL     1      -5.124  -6.000   3.708  1.00  0.00          RU  \nATOM    301   Ru MOL     1      -5.124   6.000   3.708  1.00  0.00          RU  \nATOM    302   Ru MOL     1      -3.708  -5.124   6.000  1.00  0.00          RU  \nATOM    303   Ru MOL     1      -3.708   5.124   6.000  1.00  0.00          RU  \nATOM    304   Ru MOL     1      -6.000  -3.708  -5.124  1.00  0.00          RU  \nATOM    305   Ru MOL     1      -6.000   3.708  -5.124  1.00  0.00          RU  \nATOM    306   Ru MOL     1      -5.124  -6.000  -3.708  1.00  0.00          RU  \nATOM    307   Ru MOL     1      -5.124   6.000  -3.708  1.00  0.00          RU  \nATOM    308   Ru MOL     1      -3.708  -5.124  -6.000  1.00  0.00          RU  \nATOM    309   Ru MOL     1      -3.708   5.124  -6.000  1.00  0.00          RU  \nENDMDL\n",
           "type": "blob"
          }
         ],
         "kwargs": {
          "defaultRepresentation": false,
          "ext": "pdb"
         },
         "methodName": "loadFile",
         "reconstruc_color_scheme": false,
         "target": "Stage",
         "type": "call_method"
        },
        {
         "args": [
          "500px",
          "500px"
         ],
         "kwargs": {},
         "methodName": "setSize",
         "reconstruc_color_scheme": false,
         "target": "Widget",
         "type": "call_method"
        },
        {
         "args": [
          "unitcell"
         ],
         "component_index": 0,
         "kwargs": {
          "sele": "all"
         },
         "methodName": "addRepresentation",
         "reconstruc_color_scheme": false,
         "target": "compList",
         "type": "call_method"
        },
        {
         "args": [
          "spacefill"
         ],
         "component_index": 0,
         "kwargs": {
          "sele": "all"
         },
         "methodName": "addRepresentation",
         "reconstruc_color_scheme": false,
         "target": "compList",
         "type": "call_method"
        },
        {
         "args": [],
         "kwargs": {
          "cameraType": "orthographic"
         },
         "methodName": "setParameters",
         "reconstruc_color_scheme": false,
         "target": "Stage",
         "type": "call_method"
        },
        {
         "args": [
          {
           "clipDist": 0
          }
         ],
         "kwargs": {},
         "methodName": "setParameters",
         "reconstruc_color_scheme": false,
         "target": "Widget",
         "type": "call_method"
        },
        {
         "args": [
          "spacefill",
          0
         ],
         "kwargs": {
          "colorScale": "rainbow",
          "colorScheme": "element",
          "radiusScale": 0.5,
          "radiusType": "covalent"
         },
         "methodName": "updateRepresentationsByName",
         "reconstruc_color_scheme": false,
         "target": "Widget",
         "type": "call_method"
        },
        {
         "args": [
          "this._Q = [[1.0, 0.0, 0.0], [0.0, 1.0, 0.0], [0.0, 0.0, 1.0]]\n    var tooltip = document.createElement('div');\n    Object.assign(tooltip.style, {\n      display: 'none',\n      position: 'fixed',\n      zIndex: 10,\n      pointerEvents: 'none',\n      backgroundColor: 'rgba( 0, 0, 0, 0.6 )',\n      color: 'lightgrey',\n      padding: '8px',\n      fontFamily: 'sans-serif'\n    });\n    document.body.appendChild(tooltip);\n\n    var that = this;\n    this.stage.mouseControls.remove('hoverPick');\n    this.stage.signals.hovered.add(function (pickingProxy) {\n      if (pickingProxy && (pickingProxy.atom || pickingProxy.bond)) {\n        var atom = pickingProxy.atom || pickingProxy.closestBondAtom\n        var mp = pickingProxy.mouse.position\n        //tooltip.innerText = atom.element + ' i=' + atom.index + ' (' + atom.x.toFixed(2) +  ', ' + atom.y.toFixed(2) +  ', ' + atom.z.toFixed(2) + ')'\n        //var pos = that._atoms_pos[atom.index]\n        var Q = that._Q\n        var pos_x = Q[0][0] * atom.x + Q[0][1] * atom.y + Q[0][2] * atom.z \n        var pos_y = Q[1][0] * atom.x + Q[1][1] * atom.y + Q[1][2] * atom.z\n        var pos_z = Q[2][0] * atom.x + Q[2][1] * atom.y + Q[2][2] * atom.z\n        tooltip.innerText = 'i=' + atom.index + ' ' + atom.element + ' (' + pos_x.toFixed(2) +  ', ' + pos_y.toFixed(2) +  ', ' + pos_z.toFixed(2) + ')'\n        tooltip.style.bottom = window.innerHeight - mp.y + 3 + 'px'\n        tooltip.style.left = mp.x + 3 + 'px'\n        tooltip.style.display = 'block'\n      } else {\n        tooltip.style.display = 'none'\n      }\n    });\n    this.stage.tooltip = tooltip;\n    "
         ],
         "kwargs": {},
         "methodName": "executeCode",
         "reconstruc_color_scheme": false,
         "target": "Widget",
         "type": "call_method"
        }
       ],
       "_ngl_original_stage_parameters": {
        "ambientColor": 14540253,
        "ambientIntensity": 0.2,
        "backgroundColor": "white",
        "cameraEyeSep": 0.3,
        "cameraFov": 40,
        "cameraType": "perspective",
        "clipDist": 10,
        "clipFar": 100,
        "clipNear": 0,
        "fogFar": 100,
        "fogNear": 50,
        "hoverTimeout": 0,
        "impostor": true,
        "lightColor": 14540253,
        "lightIntensity": 1,
        "mousePreset": "default",
        "panSpeed": 1,
        "quality": "medium",
        "rotateSpeed": 2,
        "sampleLevel": 0,
        "tooltip": true,
        "workerDefault": true,
        "zoomSpeed": 1.2
       },
       "_ngl_repr_dict": {
        "0": {
         "0": {
          "params": {
           "clipCenter": {
            "x": 0,
            "y": 0,
            "z": 0
           },
           "clipNear": 0,
           "clipRadius": 0,
           "colorMode": "hcl",
           "colorReverse": false,
           "colorScale": "",
           "colorScheme": "element",
           "colorValue": "orange",
           "defaultAssembly": "",
           "depthWrite": true,
           "diffuse": 16777215,
           "diffuseInterior": false,
           "disableImpostor": false,
           "disablePicking": false,
           "flatShaded": false,
           "interiorColor": 2236962,
           "interiorDarkening": 0,
           "lazy": false,
           "matrix": {
            "elements": [
             1,
             0,
             0,
             0,
             0,
             1,
             0,
             0,
             0,
             0,
             1,
             0,
             0,
             0,
             0,
             1
            ]
           },
           "metalness": 0,
           "opacity": 1,
           "quality": "medium",
           "radialSegments": 10,
           "radiusData": {},
           "radiusScale": 1,
           "radiusSize": 0.5,
           "radiusType": "vdw",
           "roughness": 0.4,
           "sele": "all",
           "side": "double",
           "sphereDetail": 1,
           "useInteriorColor": true,
           "visible": true,
           "wireframe": false
          },
          "type": "unitcell"
         },
         "1": {
          "params": {
           "assembly": "default",
           "clipCenter": {
            "x": 0,
            "y": 0,
            "z": 0
           },
           "clipNear": 0,
           "clipRadius": 0,
           "colorMode": "hcl",
           "colorReverse": false,
           "colorScale": "rainbow",
           "colorScheme": "element",
           "colorValue": 9474192,
           "defaultAssembly": "",
           "depthWrite": true,
           "diffuse": 16777215,
           "diffuseInterior": false,
           "disableImpostor": false,
           "disablePicking": false,
           "flatShaded": false,
           "interiorColor": 2236962,
           "interiorDarkening": 0,
           "lazy": false,
           "matrix": {
            "elements": [
             1,
             0,
             0,
             0,
             0,
             1,
             0,
             0,
             0,
             0,
             1,
             0,
             0,
             0,
             0,
             1
            ]
           },
           "metalness": 0,
           "opacity": 1,
           "quality": "medium",
           "radiusData": {},
           "radiusScale": 0.5,
           "radiusSize": 1,
           "radiusType": "covalent",
           "roughness": 0.4,
           "sele": "all",
           "side": "double",
           "sphereDetail": 1,
           "useInteriorColor": true,
           "visible": true,
           "wireframe": false
          },
          "type": "spacefill"
         }
        }
       },
       "_ngl_serialize": false,
       "_ngl_version": "2.0.0-dev.36",
       "_ngl_view_id": [
        "460FFB72-57C1-4541-B017-9303AF6F924A"
       ],
       "_player_dict": {},
       "_scene_position": {},
       "_scene_rotation": {},
       "_synced_model_ids": [],
       "_synced_repr_model_ids": [],
       "_view_height": "",
       "_view_width": "",
       "background": "white",
       "frame": 0,
       "gui_style": null,
       "layout": "IPY_MODEL_1c7c0de91c024c24bf48705ca495a4f4",
       "max_frame": 22,
       "n_components": 1,
       "picked": {}
      }
     },
     "6c63f6b5cbee479cac8609c5d9fdccf9": {
      "model_module": "@jupyter-widgets/base",
      "model_module_version": "1.2.0",
      "model_name": "LayoutModel",
      "state": {}
     },
     "6c7328a7074f4550ac99cecabe363847": {
      "model_module": "@jupyter-widgets/base",
      "model_module_version": "1.2.0",
      "model_name": "LayoutModel",
      "state": {}
     },
     "6d2480b522fa4379810298a9d0e223e3": {
      "model_module": "@jupyter-widgets/controls",
      "model_module_version": "1.5.0",
      "model_name": "CheckboxModel",
      "state": {
       "description": "Show charge",
       "disabled": false,
       "layout": "IPY_MODEL_b88d33c8309949c7a7d8b526df1a4235",
       "style": "IPY_MODEL_82fae1c5e75249d3bd74c41bfae43227",
       "value": false
      }
     },
     "6de7c04a0e4e47f1a9c426a9eb2795f1": {
      "model_module": "@jupyter-widgets/controls",
      "model_module_version": "1.5.0",
      "model_name": "HBoxModel",
      "state": {
       "children": [
        "IPY_MODEL_a76ce91eb6f74cac9e08ccddcb654bf8",
        "IPY_MODEL_da4fab41b41647f18f90fcfeadfa81c1"
       ],
       "layout": "IPY_MODEL_ccd2e269fdbe45079cc989debd9ce5e4"
      }
     },
     "6fc265e4741d40748be5afce6877c6c9": {
      "model_module": "@jupyter-widgets/base",
      "model_module_version": "1.2.0",
      "model_name": "LayoutModel",
      "state": {}
     },
     "70462ab9b87045f78ba09bfcd8088138": {
      "model_module": "@jupyter-widgets/controls",
      "model_module_version": "1.5.0",
      "model_name": "DescriptionStyleModel",
      "state": {
       "description_width": ""
      }
     },
     "7262196bac3c4ee886c4fc7b20f24a8d": {
      "model_module": "@jupyter-widgets/base",
      "model_module_version": "1.2.0",
      "model_name": "LayoutModel",
      "state": {}
     },
     "762afd31ce6149fab8051793a01c5ad6": {
      "model_module": "@jupyter-widgets/controls",
      "model_module_version": "1.5.0",
      "model_name": "DropdownModel",
      "state": {
       "_options_labels": [
        "All",
        "Pt"
       ],
       "description": "Show",
       "index": 0,
       "layout": "IPY_MODEL_a57b6bbdfcf84c2d954733b97b6e46b4",
       "style": "IPY_MODEL_23cbafe5028c4f23814a05c298cdfa2e"
      }
     },
     "7686013c0c914812bc254072567e1fd0": {
      "model_module": "@jupyter-widgets/base",
      "model_module_version": "1.2.0",
      "model_name": "LayoutModel",
      "state": {}
     },
     "769fee0943324b6b9980d71797fc1d5c": {
      "model_module": "@jupyter-widgets/base",
      "model_module_version": "1.2.0",
      "model_name": "LayoutModel",
      "state": {
       "border": "0px solid black"
      }
     },
     "76f88338a4f44bb4a487742194121cfd": {
      "model_module": "@jupyter-widgets/output",
      "model_module_version": "1.0.0",
      "model_name": "OutputModel",
      "state": {
       "layout": "IPY_MODEL_82dbf9b3baa749e0b3aeb950ab2c6ae4"
      }
     },
     "77a003b8c57c4ed8a88e747de290c2f8": {
      "model_module": "@jupyter-widgets/base",
      "model_module_version": "1.2.0",
      "model_name": "LayoutModel",
      "state": {}
     },
     "77db0594b69a42c6bf4a5e4295e2cad5": {
      "model_module": "@jupyter-widgets/base",
      "model_module_version": "1.2.0",
      "model_name": "LayoutModel",
      "state": {}
     },
     "78debb158cc24424b8acd774a5c70f59": {
      "model_module": "@jupyter-widgets/base",
      "model_module_version": "1.2.0",
      "model_name": "LayoutModel",
      "state": {}
     },
     "78fed95f8ab1429d81564d52dad1eb93": {
      "model_module": "@jupyter-widgets/controls",
      "model_module_version": "1.5.0",
      "model_name": "DescriptionStyleModel",
      "state": {
       "description_width": ""
      }
     },
     "79165318d8cd41f3a9ac1436e0308e0e": {
      "model_module": "@jupyter-widgets/controls",
      "model_module_version": "1.5.0",
      "model_name": "IntSliderModel",
      "state": {
       "layout": "IPY_MODEL_bca8aeb043b740b0af304145332df781",
       "max": 0,
       "style": "IPY_MODEL_35dc70d4420c491094c9004223878f06"
      }
     },
     "7924479b9b784fa6ba944433f2e96e01": {
      "model_module": "@jupyter-widgets/base",
      "model_module_version": "1.2.0",
      "model_name": "LayoutModel",
      "state": {}
     },
     "7a0bfd2e5abb4496a0327d4070284d13": {
      "model_module": "@jupyter-widgets/base",
      "model_module_version": "1.2.0",
      "model_name": "LayoutModel",
      "state": {}
     },
     "7aca932e380342ff888cb3e516910cd6": {
      "model_module": "@jupyter-widgets/controls",
      "model_module_version": "1.5.0",
      "model_name": "HBoxModel",
      "state": {
       "children": [
        "IPY_MODEL_fbbea1203ce74d4daa6556e6d3b97892",
        "IPY_MODEL_89cb9dee5c044224910cc4e23d76457e"
       ],
       "layout": "IPY_MODEL_c1b2edfb21c7487fbf4e8fc1a803d27e"
      }
     },
     "7bc505b6deed4303b07aad5cce591c7c": {
      "model_module": "@jupyter-widgets/controls",
      "model_module_version": "1.5.0",
      "model_name": "LinkModel",
      "state": {
       "source": [
        "IPY_MODEL_fbbea1203ce74d4daa6556e6d3b97892",
        "value"
       ],
       "target": [
        "IPY_MODEL_a76ce91eb6f74cac9e08ccddcb654bf8",
        "frame"
       ]
      }
     },
     "7d03ff16e45a497ca2807ad63842cdc9": {
      "model_module": "@jupyter-widgets/controls",
      "model_module_version": "1.5.0",
      "model_name": "IntSliderModel",
      "state": {
       "layout": "IPY_MODEL_f0f65f8271d54985bcf2a3e925e2fc42",
       "max": 22,
       "style": "IPY_MODEL_04cabf4b82584615a9d6b9923fbfd4ff"
      }
     },
     "7d65b4f0f0c14307a5c26faaaac78469": {
      "model_module": "nglview-js-widgets",
      "model_module_version": "3.0.1",
      "model_name": "ColormakerRegistryModel",
      "state": {
       "_msg_ar": [],
       "_msg_q": [],
       "_ready": true,
       "layout": "IPY_MODEL_99c68756bc724a6a836997d73d24c6f2"
      }
     },
     "7dc511c88a164087be1cb46e7f85fcb4": {
      "model_module": "@jupyter-widgets/controls",
      "model_module_version": "1.5.0",
      "model_name": "SliderStyleModel",
      "state": {
       "description_width": ""
      }
     },
     "7e29b94a658b4027988483d94666972b": {
      "model_module": "@jupyter-widgets/controls",
      "model_module_version": "1.5.0",
      "model_name": "DescriptionStyleModel",
      "state": {
       "description_width": ""
      }
     },
     "7e3eebe6682d4090bdee0220b89b44dc": {
      "model_module": "@jupyter-widgets/controls",
      "model_module_version": "1.5.0",
      "model_name": "LinkModel",
      "state": {
       "source": [
        "IPY_MODEL_eec51aad193744b1b62dc803fad7f9f7",
        "value"
       ],
       "target": [
        "IPY_MODEL_a5fe561143504be29c14807291317239",
        "frame"
       ]
      }
     },
     "7e78dc1f4b064972acdae82f4c274e8e": {
      "model_module": "@jupyter-widgets/controls",
      "model_module_version": "1.5.0",
      "model_name": "SliderStyleModel",
      "state": {
       "description_width": ""
      }
     },
     "7e968c35c58b44368fdffacf6a4b6885": {
      "model_module": "@jupyter-widgets/base",
      "model_module_version": "1.2.0",
      "model_name": "LayoutModel",
      "state": {}
     },
     "80496612cc9c4250843315d507076acc": {
      "model_module": "@jupyter-widgets/controls",
      "model_module_version": "1.5.0",
      "model_name": "LinkModel",
      "state": {
       "source": [
        "IPY_MODEL_79165318d8cd41f3a9ac1436e0308e0e",
        "max"
       ],
       "target": [
        "IPY_MODEL_a5fe561143504be29c14807291317239",
        "max_frame"
       ]
      }
     },
     "80ba16fac572426b8dc2eea8f69bd09c": {
      "model_module": "@jupyter-widgets/base",
      "model_module_version": "1.2.0",
      "model_name": "LayoutModel",
      "state": {}
     },
     "814378857eff46b59f6a13f02e4da9a7": {
      "model_module": "@jupyter-widgets/controls",
      "model_module_version": "1.5.0",
      "model_name": "ButtonModel",
      "state": {
       "description": "Save image",
       "layout": "IPY_MODEL_53e82851c6964c01a701808ada89c13c",
       "style": "IPY_MODEL_47a6742678054f30bd697cf84477f1d6",
       "tooltip": "Save current frame to file.\nCurrently .png and .html are supported.\nIt takes a bit time, please be patient."
      }
     },
     "82b3dc0c38a04215ae3bc21a7e4b1fde": {
      "model_module": "@jupyter-widgets/controls",
      "model_module_version": "1.5.0",
      "model_name": "DescriptionStyleModel",
      "state": {
       "description_width": ""
      }
     },
     "82dbf9b3baa749e0b3aeb950ab2c6ae4": {
      "model_module": "@jupyter-widgets/base",
      "model_module_version": "1.2.0",
      "model_name": "LayoutModel",
      "state": {
       "border": "0px solid black"
      }
     },
     "82fae1c5e75249d3bd74c41bfae43227": {
      "model_module": "@jupyter-widgets/controls",
      "model_module_version": "1.5.0",
      "model_name": "DescriptionStyleModel",
      "state": {
       "description_width": ""
      }
     },
     "88a6e17385084032a79aee59f5a46c48": {
      "model_module": "@jupyter-widgets/controls",
      "model_module_version": "1.5.0",
      "model_name": "CheckboxModel",
      "state": {
       "description": "Show force",
       "disabled": false,
       "layout": "IPY_MODEL_e1ea1f382ec34a14855224508010c662",
       "style": "IPY_MODEL_82b3dc0c38a04215ae3bc21a7e4b1fde",
       "value": false
      }
     },
     "89bd89f759bf415ba2b85819002dddfd": {
      "model_module": "@jupyter-widgets/base",
      "model_module_version": "1.2.0",
      "model_name": "LayoutModel",
      "state": {}
     },
     "89cb9dee5c044224910cc4e23d76457e": {
      "model_module": "@jupyter-widgets/controls",
      "model_module_version": "1.5.0",
      "model_name": "IntSliderModel",
      "state": {
       "layout": "IPY_MODEL_f212e1bba7e6409786a37b5cd83ed38e",
       "max": 0,
       "style": "IPY_MODEL_e44dbcd0964e470b9663b50631982814"
      }
     },
     "8a0034ca67894b499824370ba702afb8": {
      "model_module": "@jupyter-widgets/controls",
      "model_module_version": "1.5.0",
      "model_name": "ImageModel",
      "state": {
       "layout": "IPY_MODEL_5da2531db0b24c0b8dd3b2a36be9d4e6",
       "width": "900.0"
      }
     },
     "8b1897f327b44feea8122b7cc372c911": {
      "model_module": "@jupyter-widgets/base",
      "model_module_version": "1.2.0",
      "model_name": "LayoutModel",
      "state": {}
     },
     "8b6658ca620845bfa386ed89f4996256": {
      "model_module": "@jupyter-widgets/base",
      "model_module_version": "1.2.0",
      "model_name": "LayoutModel",
      "state": {}
     },
     "8bbd14b1d64a4dedafc17c9ee7614a43": {
      "model_module": "@jupyter-widgets/controls",
      "model_module_version": "1.5.0",
      "model_name": "LinkModel",
      "state": {
       "source": [
        "IPY_MODEL_ecc231e8ae77467087b6651e10fe444c",
        "value"
       ],
       "target": [
        "IPY_MODEL_6bebfbf8639a42d281c9fd766cfd5ec8",
        "frame"
       ]
      }
     },
     "8bbea1da69024668842e59b422f26e15": {
      "model_module": "@jupyter-widgets/controls",
      "model_module_version": "1.5.0",
      "model_name": "ButtonModel",
      "state": {
       "description": "Download image",
       "layout": "IPY_MODEL_a7f19769570d441b963b5adbc51313d2",
       "style": "IPY_MODEL_5d19a85af2cd4697bd354118fbd54762",
       "tooltip": "Download current frame to your local PC"
      }
     },
     "8f70e11a30cf4caa82dc8144f60a46c0": {
      "model_module": "@jupyter-widgets/controls",
      "model_module_version": "1.5.0",
      "model_name": "LinkModel",
      "state": {
       "source": [
        "IPY_MODEL_89cb9dee5c044224910cc4e23d76457e",
        "max"
       ],
       "target": [
        "IPY_MODEL_a76ce91eb6f74cac9e08ccddcb654bf8",
        "max_frame"
       ]
      }
     },
     "901e005ffe994fef9c3c815e3e46e905": {
      "model_module": "@jupyter-widgets/controls",
      "model_module_version": "1.5.0",
      "model_name": "ButtonModel",
      "state": {
       "description": "Download image",
       "layout": "IPY_MODEL_f4799da8a8d94d55ad4713e47ea7eb3a",
       "style": "IPY_MODEL_2cc665ad6a7440fb8bc1aa9d0a152dd5",
       "tooltip": "Download current frame to your local PC"
      }
     },
     "9073e71df2d94b34b013ab1c644a8d26": {
      "model_module": "@jupyter-widgets/controls",
      "model_module_version": "1.5.0",
      "model_name": "ButtonModel",
      "state": {
       "description": "Save image",
       "layout": "IPY_MODEL_8b1897f327b44feea8122b7cc372c911",
       "style": "IPY_MODEL_5426dfaab55342eca39993b1050bff1c",
       "tooltip": "Save current frame to file.\nCurrently .png and .html are supported.\nIt takes a bit time, please be patient."
      }
     },
     "90c34ae84bdc46e9a3925ea54aa31dd6": {
      "model_module": "@jupyter-widgets/controls",
      "model_module_version": "1.5.0",
      "model_name": "LinkModel",
      "state": {
       "source": [
        "IPY_MODEL_f894fafac2334d269d9d7de2ad3d9225",
        "max"
       ],
       "target": [
        "IPY_MODEL_ff5f4b55f80e4364ac329b2b6b1fd1d5",
        "max_frame"
       ]
      }
     },
     "91088368c86947bab6644e4dcb02c5eb": {
      "model_module": "@jupyter-widgets/controls",
      "model_module_version": "1.5.0",
      "model_name": "LinkModel",
      "state": {
       "source": [
        "IPY_MODEL_b4ca142cc5f947b4b9422d3d67557c32",
        "max"
       ],
       "target": [
        "IPY_MODEL_ff5f4b55f80e4364ac329b2b6b1fd1d5",
        "max_frame"
       ]
      }
     },
     "945af910983b4064bd8aa779caf25167": {
      "model_module": "@jupyter-widgets/controls",
      "model_module_version": "1.5.0",
      "model_name": "HBoxModel",
      "state": {
       "children": [
        "IPY_MODEL_f8ce4f058e6340dbba63a6380f00b6f4",
        "IPY_MODEL_480afcfa169145a59255df4f70642781"
       ],
       "layout": "IPY_MODEL_252b1e3c74b444a99cd9a3561f2898b3"
      }
     },
     "949e6024df874f3f9835a017f933761c": {
      "model_module": "@jupyter-widgets/base",
      "model_module_version": "1.2.0",
      "model_name": "LayoutModel",
      "state": {}
     },
     "95421aec0d0c4aee8a46216b16c64ceb": {
      "model_module": "@jupyter-widgets/base",
      "model_module_version": "1.2.0",
      "model_name": "LayoutModel",
      "state": {}
     },
     "964f804b85cc4082ad29ef477ae0219c": {
      "model_module": "@jupyter-widgets/controls",
      "model_module_version": "1.5.0",
      "model_name": "CheckboxModel",
      "state": {
       "description": "Show charge",
       "disabled": false,
       "layout": "IPY_MODEL_7a0bfd2e5abb4496a0327d4070284d13",
       "style": "IPY_MODEL_cf8accb986c94ba0a3e5b13253bb7873",
       "value": false
      }
     },
     "99753c96e1104d37bd22b5035475d70b": {
      "model_module": "@jupyter-widgets/controls",
      "model_module_version": "1.5.0",
      "model_name": "DescriptionStyleModel",
      "state": {
       "description_width": ""
      }
     },
     "99c68756bc724a6a836997d73d24c6f2": {
      "model_module": "@jupyter-widgets/base",
      "model_module_version": "1.2.0",
      "model_name": "LayoutModel",
      "state": {}
     },
     "9b3fb0e225894bb8a6a736552868043d": {
      "model_module": "@jupyter-widgets/controls",
      "model_module_version": "1.5.0",
      "model_name": "CheckboxModel",
      "state": {
       "description": "Show charge",
       "disabled": false,
       "layout": "IPY_MODEL_f868d52ec2564fe9a79c485fb0c8ecef",
       "style": "IPY_MODEL_70462ab9b87045f78ba09bfcd8088138",
       "value": false
      }
     },
     "9ce0218083ed46b5b6743945ded5eb19": {
      "model_module": "@jupyter-widgets/controls",
      "model_module_version": "1.5.0",
      "model_name": "SliderStyleModel",
      "state": {
       "description_width": ""
      }
     },
     "9dd6b1a2f37a41aa8bc5f23f81be07fa": {
      "model_module": "@jupyter-widgets/controls",
      "model_module_version": "1.5.0",
      "model_name": "ButtonModel",
      "state": {
       "description": "Download image",
       "layout": "IPY_MODEL_1dec505d0404450187f9685ff7b8b879",
       "style": "IPY_MODEL_41e2c3069b37469283239bc4fadfabf2",
       "tooltip": "Download current frame to your local PC"
      }
     },
     "9e2f37e1b81243ae98b6130b2d0687bf": {
      "model_module": "@jupyter-widgets/base",
      "model_module_version": "1.2.0",
      "model_name": "LayoutModel",
      "state": {}
     },
     "9e5f497e86324cba9cba219aeda2b281": {
      "model_module": "@jupyter-widgets/controls",
      "model_module_version": "1.5.0",
      "model_name": "SliderStyleModel",
      "state": {
       "description_width": ""
      }
     },
     "9ea94be560c24f2bb95f04e556cd9ad7": {
      "model_module": "@jupyter-widgets/controls",
      "model_module_version": "1.5.0",
      "model_name": "FloatSliderModel",
      "state": {
       "description": "Ball size",
       "layout": "IPY_MODEL_6c63f6b5cbee479cac8609c5d9fdccf9",
       "max": 1.5,
       "step": 0.01,
       "style": "IPY_MODEL_c26b8775a0ae49d38ace91ecf131395b",
       "value": 0.5
      }
     },
     "a08374ddd7524ce8bd6cab22959648ca": {
      "model_module": "@jupyter-widgets/base",
      "model_module_version": "1.2.0",
      "model_name": "LayoutModel",
      "state": {}
     },
     "a14aea187bc147c4858bf570e755262a": {
      "model_module": "@jupyter-widgets/controls",
      "model_module_version": "1.5.0",
      "model_name": "SliderStyleModel",
      "state": {
       "description_width": ""
      }
     },
     "a1b592ae2a11474d801345d239ce1d4e": {
      "model_module": "@jupyter-widgets/base",
      "model_module_version": "1.2.0",
      "model_name": "LayoutModel",
      "state": {}
     },
     "a1d667d07b254858a6bc541c2b45cecb": {
      "model_module": "@jupyter-widgets/controls",
      "model_module_version": "1.5.0",
      "model_name": "TextModel",
      "state": {
       "description": "Filename: ",
       "layout": "IPY_MODEL_f386506f0129470e8f6edba2b8dd847b",
       "style": "IPY_MODEL_202a771cf26b40218593ff3039f190bc",
       "value": "screenshot.png"
      }
     },
     "a31f2da9eb8d45199e7d00057f96549e": {
      "model_module": "@jupyter-widgets/controls",
      "model_module_version": "1.5.0",
      "model_name": "LinkModel",
      "state": {
       "source": [
        "IPY_MODEL_ecc231e8ae77467087b6651e10fe444c",
        "max"
       ],
       "target": [
        "IPY_MODEL_6bebfbf8639a42d281c9fd766cfd5ec8",
        "max_frame"
       ]
      }
     },
     "a37f2d4543fb4efca1f429c68d5d2b55": {
      "model_module": "@jupyter-widgets/base",
      "model_module_version": "1.2.0",
      "model_name": "LayoutModel",
      "state": {}
     },
     "a4058ebfaf9b40a98f0b1f1d2f84c845": {
      "model_module": "@jupyter-widgets/base",
      "model_module_version": "1.2.0",
      "model_name": "LayoutModel",
      "state": {}
     },
     "a497d2f40f804e949d0c744ef5b4dbb1": {
      "model_module": "@jupyter-widgets/base",
      "model_module_version": "1.2.0",
      "model_name": "LayoutModel",
      "state": {}
     },
     "a4a8c54d9e20457fa1c59035026c3831": {
      "model_module": "@jupyter-widgets/controls",
      "model_module_version": "1.5.0",
      "model_name": "CheckboxModel",
      "state": {
       "description": "Show force",
       "disabled": false,
       "layout": "IPY_MODEL_7924479b9b784fa6ba944433f2e96e01",
       "style": "IPY_MODEL_dcc171904a48492f82a7140206fc7e30",
       "value": false
      }
     },
     "a57b6bbdfcf84c2d954733b97b6e46b4": {
      "model_module": "@jupyter-widgets/base",
      "model_module_version": "1.2.0",
      "model_name": "LayoutModel",
      "state": {}
     },
     "a59aec8f66f344399d9a7fda4fae2792": {
      "model_module": "@jupyter-widgets/base",
      "model_module_version": "1.2.0",
      "model_name": "LayoutModel",
      "state": {}
     },
     "a59bc524f05d463ab9fe279aaf9fe5e8": {
      "model_module": "@jupyter-widgets/controls",
      "model_module_version": "1.5.0",
      "model_name": "ButtonModel",
      "state": {
       "icon": "compress",
       "layout": "IPY_MODEL_c4483adb430746778e183bdfb2082ea1",
       "style": "IPY_MODEL_10be1a02517c4d44bd6bdd94bcafad1b"
      }
     },
     "a5a95ff272a0493cb464ebfb27318a76": {
      "model_module": "@jupyter-widgets/controls",
      "model_module_version": "1.5.0",
      "model_name": "ButtonModel",
      "state": {
       "icon": "compress",
       "layout": "IPY_MODEL_df0711945aa049a2b5d21582435e0aef",
       "style": "IPY_MODEL_c0575b6408034e16b909d5ac0cce5f5c"
      }
     },
     "a5fe561143504be29c14807291317239": {
      "model_module": "nglview-js-widgets",
      "model_module_version": "3.0.1",
      "model_name": "NGLModel",
      "state": {
       "_camera_orientation": [
        10.070871453084408,
        0,
        0,
        0,
        0,
        10.070871453084408,
        0,
        0,
        0,
        0,
        10.070871453084408,
        0,
        0,
        0,
        0,
        1
       ],
       "_camera_str": "orthographic",
       "_gui_theme": null,
       "_ibtn_fullscreen": "IPY_MODEL_a59bc524f05d463ab9fe279aaf9fe5e8",
       "_igui": null,
       "_iplayer": "IPY_MODEL_1302b56925504bceaf6c20b10dab60c8",
       "_ngl_color_dict": {},
       "_ngl_coordinate_resource": {},
       "_ngl_full_stage_parameters": {
        "ambientColor": 14540253,
        "ambientIntensity": 0.2,
        "backgroundColor": "white",
        "cameraEyeSep": 0.3,
        "cameraFov": 40,
        "cameraType": "orthographic",
        "clipDist": 0,
        "clipFar": 100,
        "clipNear": 0,
        "fogFar": 100,
        "fogNear": 50,
        "hoverTimeout": 0,
        "impostor": true,
        "lightColor": 14540253,
        "lightIntensity": 1,
        "mousePreset": "default",
        "panSpeed": 1,
        "quality": "medium",
        "rotateSpeed": 2,
        "sampleLevel": 0,
        "tooltip": true,
        "workerDefault": true,
        "zoomSpeed": 1.2
       },
       "_ngl_msg_archive": [
        {
         "args": [
          {
           "binary": false,
           "data": "MODEL     1\nATOM      1   Pt MOL     1       0.000   0.000   0.000  1.00  0.00          PT  \nATOM      2   Pt MOL     1       2.358   0.000  -1.457  1.00  0.00          PT  \nATOM      3   Pt MOL     1       2.358   0.000   1.457  1.00  0.00          PT  \nATOM      4   Pt MOL     1      -2.358   0.000  -1.457  1.00  0.00          PT  \nATOM      5   Pt MOL     1      -2.358   0.000   1.457  1.00  0.00          PT  \nATOM      6   Pt MOL     1      -1.457   2.358   0.000  1.00  0.00          PT  \nATOM      7   Pt MOL     1       1.457   2.358   0.000  1.00  0.00          PT  \nATOM      8   Pt MOL     1      -1.457  -2.358   0.000  1.00  0.00          PT  \nATOM      9   Pt MOL     1       1.457  -2.358   0.000  1.00  0.00          PT  \nATOM     10   Pt MOL     1       0.000  -1.457   2.358  1.00  0.00          PT  \nATOM     11   Pt MOL     1       0.000   1.457   2.358  1.00  0.00          PT  \nATOM     12   Pt MOL     1       0.000  -1.457  -2.358  1.00  0.00          PT  \nATOM     13   Pt MOL     1       0.000   1.457  -2.358  1.00  0.00          PT  \nENDMDL\n",
           "type": "blob"
          }
         ],
         "kwargs": {
          "defaultRepresentation": false,
          "ext": "pdb"
         },
         "methodName": "loadFile",
         "reconstruc_color_scheme": false,
         "target": "Stage",
         "type": "call_method"
        },
        {
         "args": [
          "500px",
          "500px"
         ],
         "kwargs": {},
         "methodName": "setSize",
         "reconstruc_color_scheme": false,
         "target": "Widget",
         "type": "call_method"
        },
        {
         "args": [
          "unitcell"
         ],
         "component_index": 0,
         "kwargs": {
          "sele": "all"
         },
         "methodName": "addRepresentation",
         "reconstruc_color_scheme": false,
         "target": "compList",
         "type": "call_method"
        },
        {
         "args": [
          "spacefill"
         ],
         "component_index": 0,
         "kwargs": {
          "sele": "all"
         },
         "methodName": "addRepresentation",
         "reconstruc_color_scheme": false,
         "target": "compList",
         "type": "call_method"
        },
        {
         "args": [],
         "kwargs": {
          "cameraType": "orthographic"
         },
         "methodName": "setParameters",
         "reconstruc_color_scheme": false,
         "target": "Stage",
         "type": "call_method"
        },
        {
         "args": [
          {
           "clipDist": 0
          }
         ],
         "kwargs": {},
         "methodName": "setParameters",
         "reconstruc_color_scheme": false,
         "target": "Widget",
         "type": "call_method"
        },
        {
         "args": [
          "spacefill",
          0
         ],
         "kwargs": {
          "colorScale": "rainbow",
          "colorScheme": "element",
          "radiusScale": 0.5,
          "radiusType": "covalent"
         },
         "methodName": "updateRepresentationsByName",
         "reconstruc_color_scheme": false,
         "target": "Widget",
         "type": "call_method"
        },
        {
         "args": [
          "this._Q = [[1.0, 0.0, 0.0], [0.0, 1.0, 0.0], [0.0, 0.0, 1.0]]\n    var tooltip = document.createElement('div');\n    Object.assign(tooltip.style, {\n      display: 'none',\n      position: 'fixed',\n      zIndex: 10,\n      pointerEvents: 'none',\n      backgroundColor: 'rgba( 0, 0, 0, 0.6 )',\n      color: 'lightgrey',\n      padding: '8px',\n      fontFamily: 'sans-serif'\n    });\n    document.body.appendChild(tooltip);\n\n    var that = this;\n    this.stage.mouseControls.remove('hoverPick');\n    this.stage.signals.hovered.add(function (pickingProxy) {\n      if (pickingProxy && (pickingProxy.atom || pickingProxy.bond)) {\n        var atom = pickingProxy.atom || pickingProxy.closestBondAtom\n        var mp = pickingProxy.mouse.position\n        //tooltip.innerText = atom.element + ' i=' + atom.index + ' (' + atom.x.toFixed(2) +  ', ' + atom.y.toFixed(2) +  ', ' + atom.z.toFixed(2) + ')'\n        //var pos = that._atoms_pos[atom.index]\n        var Q = that._Q\n        var pos_x = Q[0][0] * atom.x + Q[0][1] * atom.y + Q[0][2] * atom.z \n        var pos_y = Q[1][0] * atom.x + Q[1][1] * atom.y + Q[1][2] * atom.z\n        var pos_z = Q[2][0] * atom.x + Q[2][1] * atom.y + Q[2][2] * atom.z\n        tooltip.innerText = 'i=' + atom.index + ' ' + atom.element + ' (' + pos_x.toFixed(2) +  ', ' + pos_y.toFixed(2) +  ', ' + pos_z.toFixed(2) + ')'\n        tooltip.style.bottom = window.innerHeight - mp.y + 3 + 'px'\n        tooltip.style.left = mp.x + 3 + 'px'\n        tooltip.style.display = 'block'\n      } else {\n        tooltip.style.display = 'none'\n      }\n    });\n    this.stage.tooltip = tooltip;\n    "
         ],
         "kwargs": {},
         "methodName": "executeCode",
         "reconstruc_color_scheme": false,
         "target": "Widget",
         "type": "call_method"
        },
        {
         "args": [
          "ball+stick"
         ],
         "component_index": 0,
         "kwargs": {
          "sele": "all"
         },
         "methodName": "addRepresentation",
         "reconstruc_color_scheme": false,
         "target": "compList",
         "type": "call_method"
        }
       ],
       "_ngl_original_stage_parameters": {
        "ambientColor": 14540253,
        "ambientIntensity": 0.2,
        "backgroundColor": "white",
        "cameraEyeSep": 0.3,
        "cameraFov": 40,
        "cameraType": "perspective",
        "clipDist": 10,
        "clipFar": 100,
        "clipNear": 0,
        "fogFar": 100,
        "fogNear": 50,
        "hoverTimeout": 0,
        "impostor": true,
        "lightColor": 14540253,
        "lightIntensity": 1,
        "mousePreset": "default",
        "panSpeed": 1,
        "quality": "medium",
        "rotateSpeed": 2,
        "sampleLevel": 0,
        "tooltip": true,
        "workerDefault": true,
        "zoomSpeed": 1.2
       },
       "_ngl_repr_dict": {
        "0": {
         "0": {
          "params": {
           "clipCenter": {
            "x": 0,
            "y": 0,
            "z": 0
           },
           "clipNear": 0,
           "clipRadius": 0,
           "colorMode": "hcl",
           "colorReverse": false,
           "colorScale": "",
           "colorScheme": "element",
           "colorValue": "orange",
           "defaultAssembly": "",
           "depthWrite": true,
           "diffuse": 16777215,
           "diffuseInterior": false,
           "disableImpostor": false,
           "disablePicking": false,
           "flatShaded": false,
           "interiorColor": 2236962,
           "interiorDarkening": 0,
           "lazy": false,
           "matrix": {
            "elements": [
             1,
             0,
             0,
             0,
             0,
             1,
             0,
             0,
             0,
             0,
             1,
             0,
             0,
             0,
             0,
             1
            ]
           },
           "metalness": 0,
           "opacity": 1,
           "quality": "medium",
           "radialSegments": 10,
           "radiusData": {},
           "radiusScale": 1,
           "radiusSize": 0.5,
           "radiusType": "vdw",
           "roughness": 0.4,
           "sele": "all",
           "side": "double",
           "sphereDetail": 1,
           "useInteriorColor": true,
           "visible": true,
           "wireframe": false
          },
          "type": "unitcell"
         },
         "1": {
          "params": {
           "assembly": "default",
           "clipCenter": {
            "x": 0,
            "y": 0,
            "z": 0
           },
           "clipNear": 0,
           "clipRadius": 0,
           "colorMode": "hcl",
           "colorReverse": false,
           "colorScale": "rainbow",
           "colorScheme": "element",
           "colorValue": 9474192,
           "defaultAssembly": "",
           "depthWrite": true,
           "diffuse": 16777215,
           "diffuseInterior": false,
           "disableImpostor": false,
           "disablePicking": false,
           "flatShaded": false,
           "interiorColor": 2236962,
           "interiorDarkening": 0,
           "lazy": false,
           "matrix": {
            "elements": [
             1,
             0,
             0,
             0,
             0,
             1,
             0,
             0,
             0,
             0,
             1,
             0,
             0,
             0,
             0,
             1
            ]
           },
           "metalness": 0,
           "opacity": 1,
           "quality": "medium",
           "radiusData": {},
           "radiusScale": 0.5,
           "radiusSize": 1,
           "radiusType": "covalent",
           "roughness": 0.4,
           "sele": "all",
           "side": "double",
           "sphereDetail": 1,
           "useInteriorColor": true,
           "visible": true,
           "wireframe": false
          },
          "type": "spacefill"
         },
         "2": {
          "params": {
           "aspectRatio": 2,
           "assembly": "default",
           "bondScale": 0.4,
           "bondSpacing": 1,
           "clipCenter": {
            "x": 0,
            "y": 0,
            "z": 0
           },
           "clipNear": 0,
           "clipRadius": 0,
           "colorMode": "hcl",
           "colorReverse": false,
           "colorScale": "",
           "colorScheme": "element",
           "colorValue": 9474192,
           "cylinderOnly": false,
           "defaultAssembly": "",
           "depthWrite": true,
           "diffuse": 16777215,
           "diffuseInterior": false,
           "disableImpostor": false,
           "disablePicking": false,
           "flatShaded": false,
           "interiorColor": 2236962,
           "interiorDarkening": 0,
           "lazy": false,
           "lineOnly": false,
           "linewidth": 2,
           "matrix": {
            "elements": [
             1,
             0,
             0,
             0,
             0,
             1,
             0,
             0,
             0,
             0,
             1,
             0,
             0,
             0,
             0,
             1
            ]
           },
           "metalness": 0,
           "multipleBond": "off",
           "opacity": 1,
           "openEnded": true,
           "quality": "medium",
           "radialSegments": 10,
           "radiusData": {},
           "radiusScale": 1,
           "radiusSize": 0.15,
           "radiusType": "size",
           "roughness": 0.4,
           "sele": "all",
           "side": "double",
           "sphereDetail": 1,
           "useInteriorColor": true,
           "visible": true,
           "wireframe": false
          },
          "type": "ball+stick"
         }
        }
       },
       "_ngl_serialize": false,
       "_ngl_version": "2.0.0-dev.36",
       "_ngl_view_id": [
        "F5E0E24E-A1A0-4819-9551-7890BAE249FC"
       ],
       "_player_dict": {},
       "_scene_position": {},
       "_scene_rotation": {},
       "_synced_model_ids": [],
       "_synced_repr_model_ids": [],
       "_view_height": "",
       "_view_width": "",
       "background": "white",
       "frame": 0,
       "gui_style": null,
       "layout": "IPY_MODEL_6fc265e4741d40748be5afce6877c6c9",
       "max_frame": 0,
       "n_components": 1,
       "picked": {}
      }
     },
     "a7294d3ed8a844e8ba3509c51d6e0779": {
      "model_module": "@jupyter-widgets/controls",
      "model_module_version": "1.5.0",
      "model_name": "ButtonStyleModel",
      "state": {}
     },
     "a750b4d1e218434692968a035922eee6": {
      "model_module": "@jupyter-widgets/output",
      "model_module_version": "1.0.0",
      "model_name": "OutputModel",
      "state": {
       "layout": "IPY_MODEL_0c66f54bd4f84ea997f5cf342beedd8a"
      }
     },
     "a7683522c32341058db6f3bc2569aba3": {
      "model_module": "@jupyter-widgets/controls",
      "model_module_version": "1.5.0",
      "model_name": "ButtonModel",
      "state": {
       "icon": "compress",
       "layout": "IPY_MODEL_3133f87821c248ca83e45e86777595b9",
       "style": "IPY_MODEL_3ac1eb79b6ce45c5b190a7ee0bbb9ec8"
      }
     },
     "a76ce91eb6f74cac9e08ccddcb654bf8": {
      "model_module": "nglview-js-widgets",
      "model_module_version": "3.0.1",
      "model_name": "NGLModel",
      "state": {
       "_camera_orientation": [
        14.485693984552285,
        0,
        0,
        0,
        0,
        14.485693984552285,
        0,
        0,
        0,
        0,
        14.485693984552285,
        0,
        0,
        0,
        0,
        1
       ],
       "_camera_str": "orthographic",
       "_gui_theme": null,
       "_ibtn_fullscreen": "IPY_MODEL_0a8ac389ec504aa6a9fc8063f5d61368",
       "_igui": null,
       "_iplayer": "IPY_MODEL_7aca932e380342ff888cb3e516910cd6",
       "_ngl_color_dict": {},
       "_ngl_coordinate_resource": {},
       "_ngl_full_stage_parameters": {
        "ambientColor": 14540253,
        "ambientIntensity": 0.2,
        "backgroundColor": "white",
        "cameraEyeSep": 0.3,
        "cameraFov": 40,
        "cameraType": "orthographic",
        "clipDist": 0,
        "clipFar": 100,
        "clipNear": 0,
        "fogFar": 100,
        "fogNear": 50,
        "hoverTimeout": 0,
        "impostor": true,
        "lightColor": 14540253,
        "lightIntensity": 1,
        "mousePreset": "default",
        "panSpeed": 1,
        "quality": "medium",
        "rotateSpeed": 2,
        "sampleLevel": 0,
        "tooltip": true,
        "workerDefault": true,
        "zoomSpeed": 1.2
       },
       "_ngl_msg_archive": [
        {
         "args": [
          {
           "binary": false,
           "data": "MODEL     1\nATOM      1   Cu MOL     1      -3.610  -1.805  -1.805  1.00  0.00          CU  \nATOM      2   Cu MOL     1      -1.805  -3.610  -1.805  1.00  0.00          CU  \nATOM      3   Cu MOL     1      -1.805  -1.805  -3.610  1.00  0.00          CU  \nATOM      4   Cu MOL     1      -3.610  -3.610   0.000  1.00  0.00          CU  \nATOM      5   Cu MOL     1      -3.610  -1.805   1.805  1.00  0.00          CU  \nATOM      6   Cu MOL     1      -1.805  -3.610   1.805  1.00  0.00          CU  \nATOM      7   Cu MOL     1      -1.805  -1.805   0.000  1.00  0.00          CU  \nATOM      8   Cu MOL     1      -1.805  -1.805   3.610  1.00  0.00          CU  \nATOM      9   Cu MOL     1      -3.610   0.000  -3.610  1.00  0.00          CU  \nATOM     10   Cu MOL     1      -3.610   1.805  -1.805  1.00  0.00          CU  \nATOM     11   Cu MOL     1      -1.805   0.000  -1.805  1.00  0.00          CU  \nATOM     12   Cu MOL     1      -1.805   1.805  -3.610  1.00  0.00          CU  \nATOM     13   Cu MOL     1      -3.610   0.000   0.000  1.00  0.00          CU  \nATOM     14   Cu MOL     1      -3.610   1.805   1.805  1.00  0.00          CU  \nATOM     15   Cu MOL     1      -1.805   0.000   1.805  1.00  0.00          CU  \nATOM     16   Cu MOL     1      -1.805   1.805   0.000  1.00  0.00          CU  \nATOM     17   Cu MOL     1      -3.610   0.000   3.610  1.00  0.00          CU  \nATOM     18   Cu MOL     1      -1.805   1.805   3.610  1.00  0.00          CU  \nATOM     19   Cu MOL     1      -1.805   3.610  -1.805  1.00  0.00          CU  \nATOM     20   Cu MOL     1      -3.610   3.610   0.000  1.00  0.00          CU  \nATOM     21   Cu MOL     1      -1.805   3.610   1.805  1.00  0.00          CU  \nATOM     22   Cu MOL     1       0.000  -3.610  -3.610  1.00  0.00          CU  \nATOM     23   Cu MOL     1       0.000  -1.805  -1.805  1.00  0.00          CU  \nATOM     24   Cu MOL     1       1.805  -3.610  -1.805  1.00  0.00          CU  \nATOM     25   Cu MOL     1       1.805  -1.805  -3.610  1.00  0.00          CU  \nATOM     26   Cu MOL     1       0.000  -3.610   0.000  1.00  0.00          CU  \nATOM     27   Cu MOL     1       0.000  -1.805   1.805  1.00  0.00          CU  \nATOM     28   Cu MOL     1       1.805  -3.610   1.805  1.00  0.00          CU  \nATOM     29   Cu MOL     1       1.805  -1.805   0.000  1.00  0.00          CU  \nATOM     30   Cu MOL     1       0.000  -3.610   3.610  1.00  0.00          CU  \nATOM     31   Cu MOL     1       1.805  -1.805   3.610  1.00  0.00          CU  \nATOM     32   Cu MOL     1       0.000   0.000  -3.610  1.00  0.00          CU  \nATOM     33   Cu MOL     1       0.000   1.805  -1.805  1.00  0.00          CU  \nATOM     34   Cu MOL     1       1.805   0.000  -1.805  1.00  0.00          CU  \nATOM     35   Cu MOL     1       1.805   1.805  -3.610  1.00  0.00          CU  \nATOM     36   Cu MOL     1       0.000   0.000   0.000  1.00  0.00          CU  \nATOM     37   Cu MOL     1       0.000   1.805   1.805  1.00  0.00          CU  \nATOM     38   Cu MOL     1       1.805   0.000   1.805  1.00  0.00          CU  \nATOM     39   Cu MOL     1       1.805   1.805   0.000  1.00  0.00          CU  \nATOM     40   Cu MOL     1       0.000   0.000   3.610  1.00  0.00          CU  \nATOM     41   Cu MOL     1       1.805   1.805   3.610  1.00  0.00          CU  \nATOM     42   Cu MOL     1       0.000   3.610  -3.610  1.00  0.00          CU  \nATOM     43   Cu MOL     1       1.805   3.610  -1.805  1.00  0.00          CU  \nATOM     44   Cu MOL     1       0.000   3.610   0.000  1.00  0.00          CU  \nATOM     45   Cu MOL     1       1.805   3.610   1.805  1.00  0.00          CU  \nATOM     46   Cu MOL     1       0.000   3.610   3.610  1.00  0.00          CU  \nATOM     47   Cu MOL     1       3.610  -1.805  -1.805  1.00  0.00          CU  \nATOM     48   Cu MOL     1       3.610  -3.610   0.000  1.00  0.00          CU  \nATOM     49   Cu MOL     1       3.610  -1.805   1.805  1.00  0.00          CU  \nATOM     50   Cu MOL     1       3.610   0.000  -3.610  1.00  0.00          CU  \nATOM     51   Cu MOL     1       3.610   1.805  -1.805  1.00  0.00          CU  \nATOM     52   Cu MOL     1       3.610   0.000   0.000  1.00  0.00          CU  \nATOM     53   Cu MOL     1       3.610   1.805   1.805  1.00  0.00          CU  \nATOM     54   Cu MOL     1       3.610   0.000   3.610  1.00  0.00          CU  \nATOM     55   Cu MOL     1       3.610   3.610   0.000  1.00  0.00          CU  \nENDMDL\n",
           "type": "blob"
          }
         ],
         "kwargs": {
          "defaultRepresentation": false,
          "ext": "pdb"
         },
         "methodName": "loadFile",
         "reconstruc_color_scheme": false,
         "target": "Stage",
         "type": "call_method"
        },
        {
         "args": [
          "500px",
          "500px"
         ],
         "kwargs": {},
         "methodName": "setSize",
         "reconstruc_color_scheme": false,
         "target": "Widget",
         "type": "call_method"
        },
        {
         "args": [
          "unitcell"
         ],
         "component_index": 0,
         "kwargs": {
          "sele": "all"
         },
         "methodName": "addRepresentation",
         "reconstruc_color_scheme": false,
         "target": "compList",
         "type": "call_method"
        },
        {
         "args": [
          "spacefill"
         ],
         "component_index": 0,
         "kwargs": {
          "sele": "all"
         },
         "methodName": "addRepresentation",
         "reconstruc_color_scheme": false,
         "target": "compList",
         "type": "call_method"
        },
        {
         "args": [],
         "kwargs": {
          "cameraType": "orthographic"
         },
         "methodName": "setParameters",
         "reconstruc_color_scheme": false,
         "target": "Stage",
         "type": "call_method"
        },
        {
         "args": [
          {
           "clipDist": 0
          }
         ],
         "kwargs": {},
         "methodName": "setParameters",
         "reconstruc_color_scheme": false,
         "target": "Widget",
         "type": "call_method"
        },
        {
         "args": [
          "spacefill",
          0
         ],
         "kwargs": {
          "colorScale": "rainbow",
          "colorScheme": "element",
          "radiusScale": 0.5,
          "radiusType": "covalent"
         },
         "methodName": "updateRepresentationsByName",
         "reconstruc_color_scheme": false,
         "target": "Widget",
         "type": "call_method"
        },
        {
         "args": [
          "this._Q = [[1.0, 0.0, 0.0], [0.0, 1.0, 0.0], [0.0, 0.0, 1.0]]\n    var tooltip = document.createElement('div');\n    Object.assign(tooltip.style, {\n      display: 'none',\n      position: 'fixed',\n      zIndex: 10,\n      pointerEvents: 'none',\n      backgroundColor: 'rgba( 0, 0, 0, 0.6 )',\n      color: 'lightgrey',\n      padding: '8px',\n      fontFamily: 'sans-serif'\n    });\n    document.body.appendChild(tooltip);\n\n    var that = this;\n    this.stage.mouseControls.remove('hoverPick');\n    this.stage.signals.hovered.add(function (pickingProxy) {\n      if (pickingProxy && (pickingProxy.atom || pickingProxy.bond)) {\n        var atom = pickingProxy.atom || pickingProxy.closestBondAtom\n        var mp = pickingProxy.mouse.position\n        //tooltip.innerText = atom.element + ' i=' + atom.index + ' (' + atom.x.toFixed(2) +  ', ' + atom.y.toFixed(2) +  ', ' + atom.z.toFixed(2) + ')'\n        //var pos = that._atoms_pos[atom.index]\n        var Q = that._Q\n        var pos_x = Q[0][0] * atom.x + Q[0][1] * atom.y + Q[0][2] * atom.z \n        var pos_y = Q[1][0] * atom.x + Q[1][1] * atom.y + Q[1][2] * atom.z\n        var pos_z = Q[2][0] * atom.x + Q[2][1] * atom.y + Q[2][2] * atom.z\n        tooltip.innerText = 'i=' + atom.index + ' ' + atom.element + ' (' + pos_x.toFixed(2) +  ', ' + pos_y.toFixed(2) +  ', ' + pos_z.toFixed(2) + ')'\n        tooltip.style.bottom = window.innerHeight - mp.y + 3 + 'px'\n        tooltip.style.left = mp.x + 3 + 'px'\n        tooltip.style.display = 'block'\n      } else {\n        tooltip.style.display = 'none'\n      }\n    });\n    this.stage.tooltip = tooltip;\n    "
         ],
         "kwargs": {},
         "methodName": "executeCode",
         "reconstruc_color_scheme": false,
         "target": "Widget",
         "type": "call_method"
        },
        {
         "args": [
          "ball+stick"
         ],
         "component_index": 0,
         "kwargs": {
          "sele": "all"
         },
         "methodName": "addRepresentation",
         "reconstruc_color_scheme": false,
         "target": "compList",
         "type": "call_method"
        }
       ],
       "_ngl_original_stage_parameters": {
        "ambientColor": 14540253,
        "ambientIntensity": 0.2,
        "backgroundColor": "white",
        "cameraEyeSep": 0.3,
        "cameraFov": 40,
        "cameraType": "perspective",
        "clipDist": 10,
        "clipFar": 100,
        "clipNear": 0,
        "fogFar": 100,
        "fogNear": 50,
        "hoverTimeout": 0,
        "impostor": true,
        "lightColor": 14540253,
        "lightIntensity": 1,
        "mousePreset": "default",
        "panSpeed": 1,
        "quality": "medium",
        "rotateSpeed": 2,
        "sampleLevel": 0,
        "tooltip": true,
        "workerDefault": true,
        "zoomSpeed": 1.2
       },
       "_ngl_repr_dict": {
        "0": {
         "0": {
          "params": {
           "clipCenter": {
            "x": 0,
            "y": 0,
            "z": 0
           },
           "clipNear": 0,
           "clipRadius": 0,
           "colorMode": "hcl",
           "colorReverse": false,
           "colorScale": "",
           "colorScheme": "element",
           "colorValue": "orange",
           "defaultAssembly": "",
           "depthWrite": true,
           "diffuse": 16777215,
           "diffuseInterior": false,
           "disableImpostor": false,
           "disablePicking": false,
           "flatShaded": false,
           "interiorColor": 2236962,
           "interiorDarkening": 0,
           "lazy": false,
           "matrix": {
            "elements": [
             1,
             0,
             0,
             0,
             0,
             1,
             0,
             0,
             0,
             0,
             1,
             0,
             0,
             0,
             0,
             1
            ]
           },
           "metalness": 0,
           "opacity": 1,
           "quality": "medium",
           "radialSegments": 10,
           "radiusData": {},
           "radiusScale": 1,
           "radiusSize": 0.5,
           "radiusType": "vdw",
           "roughness": 0.4,
           "sele": "all",
           "side": "double",
           "sphereDetail": 1,
           "useInteriorColor": true,
           "visible": true,
           "wireframe": false
          },
          "type": "unitcell"
         },
         "1": {
          "params": {
           "assembly": "default",
           "clipCenter": {
            "x": 0,
            "y": 0,
            "z": 0
           },
           "clipNear": 0,
           "clipRadius": 0,
           "colorMode": "hcl",
           "colorReverse": false,
           "colorScale": "rainbow",
           "colorScheme": "element",
           "colorValue": 9474192,
           "defaultAssembly": "",
           "depthWrite": true,
           "diffuse": 16777215,
           "diffuseInterior": false,
           "disableImpostor": false,
           "disablePicking": false,
           "flatShaded": false,
           "interiorColor": 2236962,
           "interiorDarkening": 0,
           "lazy": false,
           "matrix": {
            "elements": [
             1,
             0,
             0,
             0,
             0,
             1,
             0,
             0,
             0,
             0,
             1,
             0,
             0,
             0,
             0,
             1
            ]
           },
           "metalness": 0,
           "opacity": 1,
           "quality": "medium",
           "radiusData": {},
           "radiusScale": 0.5,
           "radiusSize": 1,
           "radiusType": "covalent",
           "roughness": 0.4,
           "sele": "all",
           "side": "double",
           "sphereDetail": 1,
           "useInteriorColor": true,
           "visible": true,
           "wireframe": false
          },
          "type": "spacefill"
         },
         "2": {
          "params": {
           "aspectRatio": 2,
           "assembly": "default",
           "bondScale": 0.4,
           "bondSpacing": 1,
           "clipCenter": {
            "x": 0,
            "y": 0,
            "z": 0
           },
           "clipNear": 0,
           "clipRadius": 0,
           "colorMode": "hcl",
           "colorReverse": false,
           "colorScale": "",
           "colorScheme": "element",
           "colorValue": 9474192,
           "cylinderOnly": false,
           "defaultAssembly": "",
           "depthWrite": true,
           "diffuse": 16777215,
           "diffuseInterior": false,
           "disableImpostor": false,
           "disablePicking": false,
           "flatShaded": false,
           "interiorColor": 2236962,
           "interiorDarkening": 0,
           "lazy": false,
           "lineOnly": false,
           "linewidth": 2,
           "matrix": {
            "elements": [
             1,
             0,
             0,
             0,
             0,
             1,
             0,
             0,
             0,
             0,
             1,
             0,
             0,
             0,
             0,
             1
            ]
           },
           "metalness": 0,
           "multipleBond": "off",
           "opacity": 1,
           "openEnded": true,
           "quality": "medium",
           "radialSegments": 10,
           "radiusData": {},
           "radiusScale": 1,
           "radiusSize": 0.15,
           "radiusType": "size",
           "roughness": 0.4,
           "sele": "all",
           "side": "double",
           "sphereDetail": 1,
           "useInteriorColor": true,
           "visible": true,
           "wireframe": false
          },
          "type": "ball+stick"
         }
        }
       },
       "_ngl_serialize": false,
       "_ngl_version": "2.0.0-dev.36",
       "_ngl_view_id": [
        "66274BD5-7C7E-41DF-958F-65DCB836A65E"
       ],
       "_player_dict": {},
       "_scene_position": {},
       "_scene_rotation": {},
       "_synced_model_ids": [],
       "_synced_repr_model_ids": [],
       "_view_height": "",
       "_view_width": "",
       "background": "white",
       "frame": 0,
       "gui_style": null,
       "layout": "IPY_MODEL_f1dff24c23714c188f9dbcb319b445b9",
       "max_frame": 0,
       "n_components": 1,
       "picked": {}
      }
     },
     "a7f19769570d441b963b5adbc51313d2": {
      "model_module": "@jupyter-widgets/base",
      "model_module_version": "1.2.0",
      "model_name": "LayoutModel",
      "state": {}
     },
     "a8b69242a86a4cd7bb2df42f20a572a7": {
      "model_module": "@jupyter-widgets/controls",
      "model_module_version": "1.5.0",
      "model_name": "FloatSliderModel",
      "state": {
       "description": "Force scale",
       "layout": "IPY_MODEL_b8f0f32275d74fa2bf9ed94d8b7e09cf",
       "step": 0.1,
       "style": "IPY_MODEL_e49d2957822c43e1897d1691841bd6a7",
       "value": 0.5
      }
     },
     "aaea89c46d374645825b0aed3f2baebc": {
      "model_module": "@jupyter-widgets/base",
      "model_module_version": "1.2.0",
      "model_name": "LayoutModel",
      "state": {}
     },
     "ab074a3d96e241b580c295bb66fffd44": {
      "model_module": "@jupyter-widgets/base",
      "model_module_version": "1.2.0",
      "model_name": "LayoutModel",
      "state": {}
     },
     "ac23051094aa4b69a750e8d6af095d9d": {
      "model_module": "@jupyter-widgets/base",
      "model_module_version": "1.2.0",
      "model_name": "LayoutModel",
      "state": {}
     },
     "acd3b3cc0825426d8b0dcc2b4d389488": {
      "model_module": "@jupyter-widgets/controls",
      "model_module_version": "1.5.0",
      "model_name": "SliderStyleModel",
      "state": {
       "description_width": ""
      }
     },
     "ae42bf0c8eda46869b8ae3c2a204ec51": {
      "model_module": "@jupyter-widgets/controls",
      "model_module_version": "1.5.0",
      "model_name": "FloatSliderModel",
      "state": {
       "description": "Ball size",
       "layout": "IPY_MODEL_2e30c9f4201c4bcaa33c501be56df324",
       "max": 1.5,
       "step": 0.01,
       "style": "IPY_MODEL_d4a16cd083de43479f3335b38e51c82f",
       "value": 0.5
      }
     },
     "af9cb51d57e8412a8913af8572fb4486": {
      "model_module": "@jupyter-widgets/controls",
      "model_module_version": "1.5.0",
      "model_name": "LinkModel",
      "state": {
       "source": [
        "IPY_MODEL_eec51aad193744b1b62dc803fad7f9f7",
        "value"
       ],
       "target": [
        "IPY_MODEL_79165318d8cd41f3a9ac1436e0308e0e",
        "value"
       ]
      }
     },
     "afd0f8a2ad964807acf27241e99ffb6f": {
      "model_module": "@jupyter-widgets/base",
      "model_module_version": "1.2.0",
      "model_name": "LayoutModel",
      "state": {}
     },
     "b1450e3b5b394214934ee607fbf2ea14": {
      "model_module": "@jupyter-widgets/controls",
      "model_module_version": "1.5.0",
      "model_name": "FloatSliderModel",
      "state": {
       "description": "Ball size",
       "layout": "IPY_MODEL_8b6658ca620845bfa386ed89f4996256",
       "max": 1.5,
       "step": 0.01,
       "style": "IPY_MODEL_fb047a2ab2d04538b69aed40a31b796b",
       "value": 0.5
      }
     },
     "b30916abd627451b950f0a55e3471a1a": {
      "model_module": "@jupyter-widgets/controls",
      "model_module_version": "1.5.0",
      "model_name": "DropdownModel",
      "state": {
       "_options_labels": [
        "All",
        "Ru"
       ],
       "description": "Show",
       "index": 0,
       "layout": "IPY_MODEL_6a3dd6dfcd134eee8a20011df9e7d199",
       "style": "IPY_MODEL_99753c96e1104d37bd22b5035475d70b"
      }
     },
     "b4ca142cc5f947b4b9422d3d67557c32": {
      "model_module": "@jupyter-widgets/controls",
      "model_module_version": "1.5.0",
      "model_name": "IntSliderModel",
      "state": {
       "layout": "IPY_MODEL_bd8598a57bb44945af66f32a6f99b737",
       "max": 0,
       "style": "IPY_MODEL_3f4918ba344c4203a6d067d1f2caaef8"
      }
     },
     "b7ea9d5b9b3b488ba191cd35c0335562": {
      "model_module": "@jupyter-widgets/base",
      "model_module_version": "1.2.0",
      "model_name": "LayoutModel",
      "state": {}
     },
     "b80bc8a8db2d46fcb068a3b20855db06": {
      "model_module": "@jupyter-widgets/controls",
      "model_module_version": "1.5.0",
      "model_name": "HBoxModel",
      "state": {
       "children": [
        "IPY_MODEL_a5fe561143504be29c14807291317239",
        "IPY_MODEL_1de2bdcf4c3f454fa06eba70049b5d87"
       ],
       "layout": "IPY_MODEL_59298f56880646e4adf1c8b1b19896f9"
      }
     },
     "b88d33c8309949c7a7d8b526df1a4235": {
      "model_module": "@jupyter-widgets/base",
      "model_module_version": "1.2.0",
      "model_name": "LayoutModel",
      "state": {}
     },
     "b8f0f32275d74fa2bf9ed94d8b7e09cf": {
      "model_module": "@jupyter-widgets/base",
      "model_module_version": "1.2.0",
      "model_name": "LayoutModel",
      "state": {}
     },
     "bb22cd89817d40ecb0516582095a4318": {
      "model_module": "@jupyter-widgets/controls",
      "model_module_version": "1.5.0",
      "model_name": "LinkModel",
      "state": {
       "source": [
        "IPY_MODEL_f894fafac2334d269d9d7de2ad3d9225",
        "value"
       ],
       "target": [
        "IPY_MODEL_ff5f4b55f80e4364ac329b2b6b1fd1d5",
        "frame"
       ]
      }
     },
     "bb4e46b934d8404083dcb26ed0d8b8a5": {
      "model_module": "@jupyter-widgets/controls",
      "model_module_version": "1.5.0",
      "model_name": "DescriptionStyleModel",
      "state": {
       "description_width": ""
      }
     },
     "bbbf541e8fdd48b79499d02db3c62a9b": {
      "model_module": "@jupyter-widgets/controls",
      "model_module_version": "1.5.0",
      "model_name": "SliderStyleModel",
      "state": {
       "description_width": ""
      }
     },
     "bc364c10b3c145f19542641820d1e0f1": {
      "model_module": "@jupyter-widgets/controls",
      "model_module_version": "1.5.0",
      "model_name": "FloatSliderModel",
      "state": {
       "description": "Force scale",
       "layout": "IPY_MODEL_ca3f20b1e8fd48faab38ab8ae082fd46",
       "step": 0.1,
       "style": "IPY_MODEL_acd3b3cc0825426d8b0dcc2b4d389488",
       "value": 0.5
      }
     },
     "bca8aeb043b740b0af304145332df781": {
      "model_module": "@jupyter-widgets/base",
      "model_module_version": "1.2.0",
      "model_name": "LayoutModel",
      "state": {}
     },
     "bcc0d804eb98407d83404a091b0e3039": {
      "model_module": "@jupyter-widgets/controls",
      "model_module_version": "1.5.0",
      "model_name": "HBoxModel",
      "state": {
       "children": [
        "IPY_MODEL_f894fafac2334d269d9d7de2ad3d9225",
        "IPY_MODEL_b4ca142cc5f947b4b9422d3d67557c32"
       ],
       "layout": "IPY_MODEL_a497d2f40f804e949d0c744ef5b4dbb1"
      }
     },
     "bd8598a57bb44945af66f32a6f99b737": {
      "model_module": "@jupyter-widgets/base",
      "model_module_version": "1.2.0",
      "model_name": "LayoutModel",
      "state": {}
     },
     "bdc13726f4f2412db04a751199c23614": {
      "model_module": "@jupyter-widgets/base",
      "model_module_version": "1.2.0",
      "model_name": "LayoutModel",
      "state": {}
     },
     "bddcd3f616474d1996ef088b1b396e43": {
      "model_module": "@jupyter-widgets/controls",
      "model_module_version": "1.5.0",
      "model_name": "HBoxModel",
      "state": {
       "children": [
        "IPY_MODEL_efc8b608743f4c1e96d7bf92bcf2215d",
        "IPY_MODEL_9073e71df2d94b34b013ab1c644a8d26"
       ],
       "layout": "IPY_MODEL_a08374ddd7524ce8bd6cab22959648ca"
      }
     },
     "be2438d672e04198bee98da98492ef0a": {
      "model_module": "@jupyter-widgets/base",
      "model_module_version": "1.2.0",
      "model_name": "LayoutModel",
      "state": {}
     },
     "be85456001164b8bb0979ff1be606bc4": {
      "model_module": "@jupyter-widgets/controls",
      "model_module_version": "1.5.0",
      "model_name": "DescriptionStyleModel",
      "state": {
       "description_width": ""
      }
     },
     "c0575b6408034e16b909d5ac0cce5f5c": {
      "model_module": "@jupyter-widgets/controls",
      "model_module_version": "1.5.0",
      "model_name": "ButtonStyleModel",
      "state": {}
     },
     "c0ccf168461a4d3e846cf851f4749d43": {
      "model_module": "@jupyter-widgets/controls",
      "model_module_version": "1.5.0",
      "model_name": "LinkModel",
      "state": {
       "source": [
        "IPY_MODEL_fbbea1203ce74d4daa6556e6d3b97892",
        "value"
       ],
       "target": [
        "IPY_MODEL_89cb9dee5c044224910cc4e23d76457e",
        "value"
       ]
      }
     },
     "c1b2edfb21c7487fbf4e8fc1a803d27e": {
      "model_module": "@jupyter-widgets/base",
      "model_module_version": "1.2.0",
      "model_name": "LayoutModel",
      "state": {}
     },
     "c26b8775a0ae49d38ace91ecf131395b": {
      "model_module": "@jupyter-widgets/controls",
      "model_module_version": "1.5.0",
      "model_name": "SliderStyleModel",
      "state": {
       "description_width": ""
      }
     },
     "c4483adb430746778e183bdfb2082ea1": {
      "model_module": "@jupyter-widgets/base",
      "model_module_version": "1.2.0",
      "model_name": "LayoutModel",
      "state": {
       "width": "34px"
      }
     },
     "c68220a8394b4226b94ca041eaa703d9": {
      "model_module": "@jupyter-widgets/controls",
      "model_module_version": "1.5.0",
      "model_name": "LinkModel",
      "state": {
       "source": [
        "IPY_MODEL_697cf0e3120e46e380291b8fbf28bd4f",
        "max"
       ],
       "target": [
        "IPY_MODEL_f8ce4f058e6340dbba63a6380f00b6f4",
        "max_frame"
       ]
      }
     },
     "c6bda64d035f439c80c921f9c54ef606": {
      "model_module": "@jupyter-widgets/controls",
      "model_module_version": "1.5.0",
      "model_name": "DescriptionStyleModel",
      "state": {
       "description_width": ""
      }
     },
     "c7c8b2b01cb74e299f8c378802391531": {
      "model_module": "@jupyter-widgets/controls",
      "model_module_version": "1.5.0",
      "model_name": "ImageModel",
      "state": {
       "layout": "IPY_MODEL_6c7328a7074f4550ac99cecabe363847",
       "width": "900.0"
      }
     },
     "c89f5701a33e47ec8d234a30e8c275c4": {
      "model_module": "@jupyter-widgets/controls",
      "model_module_version": "1.5.0",
      "model_name": "FloatSliderModel",
      "state": {
       "description": "Charge scale",
       "layout": "IPY_MODEL_77db0594b69a42c6bf4a5e4295e2cad5",
       "step": 0.1,
       "style": "IPY_MODEL_32fc66833be74303aaf5d46a61baf9a3",
       "value": 1
      }
     },
     "ca3f20b1e8fd48faab38ab8ae082fd46": {
      "model_module": "@jupyter-widgets/base",
      "model_module_version": "1.2.0",
      "model_name": "LayoutModel",
      "state": {}
     },
     "ccd2e269fdbe45079cc989debd9ce5e4": {
      "model_module": "@jupyter-widgets/base",
      "model_module_version": "1.2.0",
      "model_name": "LayoutModel",
      "state": {}
     },
     "ce9921e0b96c41ea94e2bd609bd57d66": {
      "model_module": "@jupyter-widgets/controls",
      "model_module_version": "1.5.0",
      "model_name": "HBoxModel",
      "state": {
       "children": [
        "IPY_MODEL_27143b8fd5944aa8a1a62277a5360386",
        "IPY_MODEL_d9307a6bab374a098c4bd9e845ba1c18"
       ],
       "layout": "IPY_MODEL_2720454e07184068bb9e47bdea5fd536"
      }
     },
     "ce9e0168cedb413aade055e5eeabd999": {
      "model_module": "@jupyter-widgets/controls",
      "model_module_version": "1.5.0",
      "model_name": "DropdownModel",
      "state": {
       "_options_labels": [
        " ",
        "picking",
        "random",
        "uniform",
        "atomindex",
        "residueindex",
        "chainindex",
        "modelindex",
        "sstruc",
        "element",
        "resname",
        "bfactor",
        "hydrophobicity",
        "value",
        "volume",
        "occupancy"
       ],
       "description": "Color scheme",
       "index": 9,
       "layout": "IPY_MODEL_bdc13726f4f2412db04a751199c23614",
       "style": "IPY_MODEL_f6de933edeb2470a998c3bad4cc60f0c"
      }
     },
     "cf0eb5776a914e549dfce8241968a9da": {
      "model_module": "@jupyter-widgets/controls",
      "model_module_version": "1.5.0",
      "model_name": "DescriptionStyleModel",
      "state": {
       "description_width": ""
      }
     },
     "cf348827624f4777a49c50805ec2c103": {
      "model_module": "@jupyter-widgets/controls",
      "model_module_version": "1.5.0",
      "model_name": "DescriptionStyleModel",
      "state": {
       "description_width": ""
      }
     },
     "cf53ff8f5d95413a8781a3fbc414e85c": {
      "model_module": "@jupyter-widgets/controls",
      "model_module_version": "1.5.0",
      "model_name": "FloatSliderModel",
      "state": {
       "description": "Ball size",
       "layout": "IPY_MODEL_ac23051094aa4b69a750e8d6af095d9d",
       "max": 1.5,
       "step": 0.01,
       "style": "IPY_MODEL_9e5f497e86324cba9cba219aeda2b281",
       "value": 0.5
      }
     },
     "cf8accb986c94ba0a3e5b13253bb7873": {
      "model_module": "@jupyter-widgets/controls",
      "model_module_version": "1.5.0",
      "model_name": "DescriptionStyleModel",
      "state": {
       "description_width": ""
      }
     },
     "d05887601b6f4d2f8a1148e5421a1b0f": {
      "model_module": "@jupyter-widgets/controls",
      "model_module_version": "1.5.0",
      "model_name": "CheckboxModel",
      "state": {
       "description": "Show force",
       "disabled": false,
       "layout": "IPY_MODEL_49316279cec94f63962b29eb6bc257b7",
       "style": "IPY_MODEL_c6bda64d035f439c80c921f9c54ef606",
       "value": false
      }
     },
     "d0e78c56b2da4dc2b5f5307b3c865d87": {
      "model_module": "@jupyter-widgets/controls",
      "model_module_version": "1.5.0",
      "model_name": "DescriptionStyleModel",
      "state": {
       "description_width": ""
      }
     },
     "d19d927462114312b7e24147391d7a6d": {
      "model_module": "@jupyter-widgets/controls",
      "model_module_version": "1.5.0",
      "model_name": "PlayModel",
      "state": {
       "layout": "IPY_MODEL_36b9c2f22d8b44bf91caa6a36cdd9f50",
       "max": 0,
       "style": "IPY_MODEL_cf0eb5776a914e549dfce8241968a9da"
      }
     },
     "d1a8e13959494e4691e2086da0be3eba": {
      "model_module": "@jupyter-widgets/base",
      "model_module_version": "1.2.0",
      "model_name": "LayoutModel",
      "state": {}
     },
     "d26f3a46d49c4ce3aa4d3403a1557da1": {
      "model_module": "@jupyter-widgets/base",
      "model_module_version": "1.2.0",
      "model_name": "LayoutModel",
      "state": {}
     },
     "d4a16cd083de43479f3335b38e51c82f": {
      "model_module": "@jupyter-widgets/controls",
      "model_module_version": "1.5.0",
      "model_name": "SliderStyleModel",
      "state": {
       "description_width": ""
      }
     },
     "d4e18979daac4f3593a517854ca76b02": {
      "model_module": "@jupyter-widgets/controls",
      "model_module_version": "1.5.0",
      "model_name": "DropdownModel",
      "state": {
       "_options_labels": [
        " ",
        "picking",
        "random",
        "uniform",
        "atomindex",
        "residueindex",
        "chainindex",
        "modelindex",
        "sstruc",
        "element",
        "resname",
        "bfactor",
        "hydrophobicity",
        "value",
        "volume",
        "occupancy"
       ],
       "description": "Color scheme",
       "index": 9,
       "layout": "IPY_MODEL_89bd89f759bf415ba2b85819002dddfd",
       "style": "IPY_MODEL_d92f9e595481498483d82f75c96237ef"
      }
     },
     "d85ba9601dce4fdc82fab423ce73cc91": {
      "model_module": "@jupyter-widgets/controls",
      "model_module_version": "1.5.0",
      "model_name": "HBoxModel",
      "state": {
       "children": [
        "IPY_MODEL_ff5f4b55f80e4364ac329b2b6b1fd1d5",
        "IPY_MODEL_2169aec9510b45c09472951f24e58c63"
       ],
       "layout": "IPY_MODEL_5a329bd56cae421c85de160122f23ec0"
      }
     },
     "d8c197b38a874e9bb5bcd51dfeeba255": {
      "model_module": "@jupyter-widgets/controls",
      "model_module_version": "1.5.0",
      "model_name": "ImageModel",
      "state": {
       "layout": "IPY_MODEL_7e968c35c58b44368fdffacf6a4b6885",
       "width": "900.0"
      }
     },
     "d92f9e595481498483d82f75c96237ef": {
      "model_module": "@jupyter-widgets/controls",
      "model_module_version": "1.5.0",
      "model_name": "DescriptionStyleModel",
      "state": {
       "description_width": ""
      }
     },
     "d9307a6bab374a098c4bd9e845ba1c18": {
      "model_module": "@jupyter-widgets/controls",
      "model_module_version": "1.5.0",
      "model_name": "ButtonModel",
      "state": {
       "description": "Save image",
       "layout": "IPY_MODEL_05a2b7af6874479fa8e21d7810f28352",
       "style": "IPY_MODEL_24a767bc8cfc4261a1dd1817b33ede23",
       "tooltip": "Save current frame to file.\nCurrently .png and .html are supported.\nIt takes a bit time, please be patient."
      }
     },
     "da11c6f50f0947e9a7f592ee6480778c": {
      "model_module": "@jupyter-widgets/controls",
      "model_module_version": "1.5.0",
      "model_name": "LinkModel",
      "state": {
       "source": [
        "IPY_MODEL_7d03ff16e45a497ca2807ad63842cdc9",
        "max"
       ],
       "target": [
        "IPY_MODEL_6bebfbf8639a42d281c9fd766cfd5ec8",
        "max_frame"
       ]
      }
     },
     "da4fab41b41647f18f90fcfeadfa81c1": {
      "model_module": "@jupyter-widgets/controls",
      "model_module_version": "1.5.0",
      "model_name": "VBoxModel",
      "state": {
       "children": [
        "IPY_MODEL_e3780188508347989ed085032e0b87e3",
        "IPY_MODEL_ee5266000c5c4c089e9db964a9658f43",
        "IPY_MODEL_9ea94be560c24f2bb95f04e556cd9ad7",
        "IPY_MODEL_52edf87bfe6a45f39822a2bad06783f8",
        "IPY_MODEL_f520604216d841d7913a247a1fa29b72",
        "IPY_MODEL_655e14e47a3344f0be7a1e72230de31b",
        "IPY_MODEL_ed55ebae678048478344bae00596cb88",
        "IPY_MODEL_9b3fb0e225894bb8a6a736552868043d",
        "IPY_MODEL_13282fe8c5564e4c989685eaa10795c7",
        "IPY_MODEL_e93a3e1ab46d4a5689299c0a1928712c"
       ],
       "layout": "IPY_MODEL_f472d84b30624fbd9d2298e73d5c81f2"
      }
     },
     "dab213d8024f46f8a30f003ac804afaa": {
      "model_module": "@jupyter-widgets/base",
      "model_module_version": "1.2.0",
      "model_name": "LayoutModel",
      "state": {}
     },
     "dacac81713fd4192aa852fa3466ce3cf": {
      "model_module": "@jupyter-widgets/controls",
      "model_module_version": "1.5.0",
      "model_name": "ButtonStyleModel",
      "state": {}
     },
     "dc3557b6c208436bbf32a20499398a4b": {
      "model_module": "@jupyter-widgets/base",
      "model_module_version": "1.2.0",
      "model_name": "LayoutModel",
      "state": {}
     },
     "dcc171904a48492f82a7140206fc7e30": {
      "model_module": "@jupyter-widgets/controls",
      "model_module_version": "1.5.0",
      "model_name": "DescriptionStyleModel",
      "state": {
       "description_width": ""
      }
     },
     "dd8d824cedef4341b831149b7e65fe7c": {
      "model_module": "@jupyter-widgets/controls",
      "model_module_version": "1.5.0",
      "model_name": "ButtonModel",
      "state": {
       "description": "Save image",
       "layout": "IPY_MODEL_617e2059704845cd9f27734670195e78",
       "style": "IPY_MODEL_e8d8efa2ba024db7bfa5ade219d1bac4",
       "tooltip": "Save current frame to file.\nCurrently .png and .html are supported.\nIt takes a bit time, please be patient."
      }
     },
     "df0711945aa049a2b5d21582435e0aef": {
      "model_module": "@jupyter-widgets/base",
      "model_module_version": "1.2.0",
      "model_name": "LayoutModel",
      "state": {
       "width": "34px"
      }
     },
     "e1ea1f382ec34a14855224508010c662": {
      "model_module": "@jupyter-widgets/base",
      "model_module_version": "1.2.0",
      "model_name": "LayoutModel",
      "state": {}
     },
     "e3780188508347989ed085032e0b87e3": {
      "model_module": "@jupyter-widgets/controls",
      "model_module_version": "1.5.0",
      "model_name": "DropdownModel",
      "state": {
       "_options_labels": [
        "All",
        "Cu"
       ],
       "description": "Show",
       "index": 0,
       "layout": "IPY_MODEL_5591dd750435409490d65f94fabbde74",
       "style": "IPY_MODEL_0c2e0de945ef49d3a45f8146a0ceae3a"
      }
     },
     "e44dbcd0964e470b9663b50631982814": {
      "model_module": "@jupyter-widgets/controls",
      "model_module_version": "1.5.0",
      "model_name": "SliderStyleModel",
      "state": {
       "description_width": ""
      }
     },
     "e49d2957822c43e1897d1691841bd6a7": {
      "model_module": "@jupyter-widgets/controls",
      "model_module_version": "1.5.0",
      "model_name": "SliderStyleModel",
      "state": {
       "description_width": ""
      }
     },
     "e4ba8678e2804fb6a1dbf656f248e31d": {
      "model_module": "@jupyter-widgets/base",
      "model_module_version": "1.2.0",
      "model_name": "LayoutModel",
      "state": {}
     },
     "e67b2c7838aa4f919bad5e0ecf97f5ae": {
      "model_module": "@jupyter-widgets/base",
      "model_module_version": "1.2.0",
      "model_name": "LayoutModel",
      "state": {}
     },
     "e7a3f674e04f41a2bd6a42e7a7a3fd0c": {
      "model_module": "@jupyter-widgets/controls",
      "model_module_version": "1.5.0",
      "model_name": "DescriptionStyleModel",
      "state": {
       "description_width": ""
      }
     },
     "e7a7bcea17b14cd985c677dca83a2086": {
      "model_module": "@jupyter-widgets/controls",
      "model_module_version": "1.5.0",
      "model_name": "TextModel",
      "state": {
       "description": "Filename: ",
       "layout": "IPY_MODEL_d1a8e13959494e4691e2086da0be3eba",
       "style": "IPY_MODEL_f916159ce3b7411eb6289521c48e77dd",
       "value": "screenshot.png"
      }
     },
     "e7c502b7a17f419598758e3ecc167af4": {
      "model_module": "@jupyter-widgets/controls",
      "model_module_version": "1.5.0",
      "model_name": "DescriptionStyleModel",
      "state": {
       "description_width": ""
      }
     },
     "e8d8efa2ba024db7bfa5ade219d1bac4": {
      "model_module": "@jupyter-widgets/controls",
      "model_module_version": "1.5.0",
      "model_name": "ButtonStyleModel",
      "state": {}
     },
     "e93a3e1ab46d4a5689299c0a1928712c": {
      "model_module": "@jupyter-widgets/output",
      "model_module_version": "1.0.0",
      "model_name": "OutputModel",
      "state": {
       "layout": "IPY_MODEL_769fee0943324b6b9980d71797fc1d5c"
      }
     },
     "ea8b6dce062c47b7925f4dc08e82aae7": {
      "model_module": "@jupyter-widgets/controls",
      "model_module_version": "1.5.0",
      "model_name": "FloatSliderModel",
      "state": {
       "description": "Ball size",
       "layout": "IPY_MODEL_0ac7cc30521948ceaf9ba2fed99bd93a",
       "max": 1.5,
       "step": 0.01,
       "style": "IPY_MODEL_361164f214f14c899124534e1093a641",
       "value": 0.5
      }
     },
     "eb8beba32a0a455f92eecfb573982b39": {
      "model_module": "@jupyter-widgets/controls",
      "model_module_version": "1.5.0",
      "model_name": "ButtonStyleModel",
      "state": {}
     },
     "ec0be69d56184c3c90347930552825f8": {
      "model_module": "@jupyter-widgets/base",
      "model_module_version": "1.2.0",
      "model_name": "LayoutModel",
      "state": {}
     },
     "ecc231e8ae77467087b6651e10fe444c": {
      "model_module": "@jupyter-widgets/controls",
      "model_module_version": "1.5.0",
      "model_name": "PlayModel",
      "state": {
       "layout": "IPY_MODEL_01884658902c4f5db6de0609542451e1",
       "max": 22,
       "style": "IPY_MODEL_3c8829aca88c4ee8a16f18ea55dc704e"
      }
     },
     "ed55ebae678048478344bae00596cb88": {
      "model_module": "@jupyter-widgets/controls",
      "model_module_version": "1.5.0",
      "model_name": "FloatSliderModel",
      "state": {
       "description": "Force scale",
       "layout": "IPY_MODEL_9e2f37e1b81243ae98b6130b2d0687bf",
       "step": 0.1,
       "style": "IPY_MODEL_3734e5309cc2442fbdb4210b257f5009",
       "value": 0.5
      }
     },
     "ee5266000c5c4c089e9db964a9658f43": {
      "model_module": "@jupyter-widgets/controls",
      "model_module_version": "1.5.0",
      "model_name": "DropdownModel",
      "state": {
       "_options_labels": [
        " ",
        "picking",
        "random",
        "uniform",
        "atomindex",
        "residueindex",
        "chainindex",
        "modelindex",
        "sstruc",
        "element",
        "resname",
        "bfactor",
        "hydrophobicity",
        "value",
        "volume",
        "occupancy"
       ],
       "description": "Color scheme",
       "index": 9,
       "layout": "IPY_MODEL_b7ea9d5b9b3b488ba191cd35c0335562",
       "style": "IPY_MODEL_22355b68cb6f4391abeaa84a06de679c"
      }
     },
     "eec51aad193744b1b62dc803fad7f9f7": {
      "model_module": "@jupyter-widgets/controls",
      "model_module_version": "1.5.0",
      "model_name": "PlayModel",
      "state": {
       "layout": "IPY_MODEL_22e29cfe8a1645628bb8a5f709400482",
       "max": 0,
       "style": "IPY_MODEL_cf348827624f4777a49c50805ec2c103"
      }
     },
     "efc8b608743f4c1e96d7bf92bcf2215d": {
      "model_module": "@jupyter-widgets/controls",
      "model_module_version": "1.5.0",
      "model_name": "ButtonModel",
      "state": {
       "description": "Download image",
       "layout": "IPY_MODEL_ab074a3d96e241b580c295bb66fffd44",
       "style": "IPY_MODEL_a7294d3ed8a844e8ba3509c51d6e0779",
       "tooltip": "Download current frame to your local PC"
      }
     },
     "efed3a2c0b81410cabcc571d6c7b59c2": {
      "model_module": "@jupyter-widgets/controls",
      "model_module_version": "1.5.0",
      "model_name": "TextModel",
      "state": {
       "description": "Filename: ",
       "layout": "IPY_MODEL_80ba16fac572426b8dc2eea8f69bd09c",
       "style": "IPY_MODEL_1a4ac502facb48c3bf9854b2d5def609",
       "value": "screenshot.png"
      }
     },
     "f01d97771a824f57b4760cffdfeeda5a": {
      "model_module": "@jupyter-widgets/output",
      "model_module_version": "1.0.0",
      "model_name": "OutputModel",
      "state": {
       "layout": "IPY_MODEL_3ecd4a6697544b8b8e929f522eaa0eb5"
      }
     },
     "f0f65f8271d54985bcf2a3e925e2fc42": {
      "model_module": "@jupyter-widgets/base",
      "model_module_version": "1.2.0",
      "model_name": "LayoutModel",
      "state": {}
     },
     "f10d96610203453eaf7df8fa0890c008": {
      "model_module": "@jupyter-widgets/controls",
      "model_module_version": "1.5.0",
      "model_name": "CheckboxModel",
      "state": {
       "description": "Show force",
       "disabled": false,
       "layout": "IPY_MODEL_0ccf7888f57142589aa5189d73ee8195",
       "style": "IPY_MODEL_e7c502b7a17f419598758e3ecc167af4",
       "value": false
      }
     },
     "f1dff24c23714c188f9dbcb319b445b9": {
      "model_module": "@jupyter-widgets/base",
      "model_module_version": "1.2.0",
      "model_name": "LayoutModel",
      "state": {}
     },
     "f212e1bba7e6409786a37b5cd83ed38e": {
      "model_module": "@jupyter-widgets/base",
      "model_module_version": "1.2.0",
      "model_name": "LayoutModel",
      "state": {}
     },
     "f386506f0129470e8f6edba2b8dd847b": {
      "model_module": "@jupyter-widgets/base",
      "model_module_version": "1.2.0",
      "model_name": "LayoutModel",
      "state": {}
     },
     "f472d84b30624fbd9d2298e73d5c81f2": {
      "model_module": "@jupyter-widgets/base",
      "model_module_version": "1.2.0",
      "model_name": "LayoutModel",
      "state": {}
     },
     "f4799da8a8d94d55ad4713e47ea7eb3a": {
      "model_module": "@jupyter-widgets/base",
      "model_module_version": "1.2.0",
      "model_name": "LayoutModel",
      "state": {}
     },
     "f520604216d841d7913a247a1fa29b72": {
      "model_module": "@jupyter-widgets/controls",
      "model_module_version": "1.5.0",
      "model_name": "HBoxModel",
      "state": {
       "children": [
        "IPY_MODEL_9dd6b1a2f37a41aa8bc5f23f81be07fa",
        "IPY_MODEL_dd8d824cedef4341b831149b7e65fe7c"
       ],
       "layout": "IPY_MODEL_95421aec0d0c4aee8a46216b16c64ceb"
      }
     },
     "f6de933edeb2470a998c3bad4cc60f0c": {
      "model_module": "@jupyter-widgets/controls",
      "model_module_version": "1.5.0",
      "model_name": "DescriptionStyleModel",
      "state": {
       "description_width": ""
      }
     },
     "f868d52ec2564fe9a79c485fb0c8ecef": {
      "model_module": "@jupyter-widgets/base",
      "model_module_version": "1.2.0",
      "model_name": "LayoutModel",
      "state": {}
     },
     "f894fafac2334d269d9d7de2ad3d9225": {
      "model_module": "@jupyter-widgets/controls",
      "model_module_version": "1.5.0",
      "model_name": "PlayModel",
      "state": {
       "layout": "IPY_MODEL_7262196bac3c4ee886c4fc7b20f24a8d",
       "max": 0,
       "style": "IPY_MODEL_0b3fbe6c7a644b398c59675e7ae55be0"
      }
     },
     "f8ce4f058e6340dbba63a6380f00b6f4": {
      "model_module": "nglview-js-widgets",
      "model_module_version": "3.0.1",
      "model_name": "NGLModel",
      "state": {
       "_camera_orientation": [
        16.795280672003585,
        0,
        0,
        0,
        0,
        16.795280672003585,
        0,
        0,
        0,
        0,
        16.795280672003585,
        0,
        0,
        -0.4585000276565552,
        0,
        1
       ],
       "_camera_str": "orthographic",
       "_gui_theme": null,
       "_ibtn_fullscreen": "IPY_MODEL_0d33984fed1342bd88361f2466c8d13e",
       "_igui": null,
       "_iplayer": "IPY_MODEL_293759c5562e4c7ca66b273d7fad262b",
       "_ngl_color_dict": {},
       "_ngl_coordinate_resource": {},
       "_ngl_full_stage_parameters": {
        "ambientColor": 14540253,
        "ambientIntensity": 0.2,
        "backgroundColor": "white",
        "cameraEyeSep": 0.3,
        "cameraFov": 40,
        "cameraType": "orthographic",
        "clipDist": 0,
        "clipFar": 100,
        "clipNear": 0,
        "fogFar": 100,
        "fogNear": 50,
        "hoverTimeout": 0,
        "impostor": true,
        "lightColor": 14540253,
        "lightIntensity": 1,
        "mousePreset": "default",
        "panSpeed": 1,
        "quality": "medium",
        "rotateSpeed": 2,
        "sampleLevel": 0,
        "tooltip": true,
        "workerDefault": true,
        "zoomSpeed": 1.2
       },
       "_ngl_msg_archive": [
        {
         "args": [
          {
           "binary": false,
           "data": "MODEL     1\nATOM      1   Pt MOL     1       0.000   0.000  -2.772  1.00  0.00          PT  \nATOM      2   Pt MOL     1       0.000   0.000   0.000  1.00  0.00          PT  \nATOM      3   Pt MOL     1       0.000   0.000   2.772  1.00  0.00          PT  \nATOM      4   Pt MOL     1       2.283   0.742  -1.386  1.00  0.00          PT  \nATOM      5   Pt MOL     1       2.283   0.742   1.386  1.00  0.00          PT  \nATOM      6   Pt MOL     1       0.000   2.400  -1.386  1.00  0.00          PT  \nATOM      7   Pt MOL     1       0.000   2.400   1.386  1.00  0.00          PT  \nATOM      8   Pt MOL     1      -2.283   0.742  -1.386  1.00  0.00          PT  \nATOM      9   Pt MOL     1      -2.283   0.742   1.386  1.00  0.00          PT  \nATOM     10   Pt MOL     1      -1.411  -1.942  -1.386  1.00  0.00          PT  \nATOM     11   Pt MOL     1      -1.411  -1.942   1.386  1.00  0.00          PT  \nATOM     12   Pt MOL     1       1.411  -1.942  -1.386  1.00  0.00          PT  \nATOM     13   Pt MOL     1       1.411  -1.942   1.386  1.00  0.00          PT  \nATOM     14   Pt MOL     1       4.566   1.484   0.000  1.00  0.00          PT  \nATOM     15   Pt MOL     1       2.283   3.142   0.000  1.00  0.00          PT  \nATOM     16   Pt MOL     1       0.000   4.801   0.000  1.00  0.00          PT  \nATOM     17   Pt MOL     1      -2.283   3.142   0.000  1.00  0.00          PT  \nATOM     18   Pt MOL     1      -4.566   1.484   0.000  1.00  0.00          PT  \nATOM     19   Pt MOL     1      -3.694  -1.200   0.000  1.00  0.00          PT  \nATOM     20   Pt MOL     1      -2.822  -3.884   0.000  1.00  0.00          PT  \nATOM     21   Pt MOL     1      -0.000  -3.884   0.000  1.00  0.00          PT  \nATOM     22   Pt MOL     1       2.822  -3.884   0.000  1.00  0.00          PT  \nATOM     23   Pt MOL     1       3.694  -1.200   0.000  1.00  0.00          PT  \nENDMDL\n",
           "type": "blob"
          }
         ],
         "kwargs": {
          "defaultRepresentation": false,
          "ext": "pdb"
         },
         "methodName": "loadFile",
         "reconstruc_color_scheme": false,
         "target": "Stage",
         "type": "call_method"
        },
        {
         "args": [
          "500px",
          "500px"
         ],
         "kwargs": {},
         "methodName": "setSize",
         "reconstruc_color_scheme": false,
         "target": "Widget",
         "type": "call_method"
        },
        {
         "args": [
          "unitcell"
         ],
         "component_index": 0,
         "kwargs": {
          "sele": "all"
         },
         "methodName": "addRepresentation",
         "reconstruc_color_scheme": false,
         "target": "compList",
         "type": "call_method"
        },
        {
         "args": [
          "spacefill"
         ],
         "component_index": 0,
         "kwargs": {
          "sele": "all"
         },
         "methodName": "addRepresentation",
         "reconstruc_color_scheme": false,
         "target": "compList",
         "type": "call_method"
        },
        {
         "args": [],
         "kwargs": {
          "cameraType": "orthographic"
         },
         "methodName": "setParameters",
         "reconstruc_color_scheme": false,
         "target": "Stage",
         "type": "call_method"
        },
        {
         "args": [
          {
           "clipDist": 0
          }
         ],
         "kwargs": {},
         "methodName": "setParameters",
         "reconstruc_color_scheme": false,
         "target": "Widget",
         "type": "call_method"
        },
        {
         "args": [
          "spacefill",
          0
         ],
         "kwargs": {
          "colorScale": "rainbow",
          "colorScheme": "element",
          "radiusScale": 0.5,
          "radiusType": "covalent"
         },
         "methodName": "updateRepresentationsByName",
         "reconstruc_color_scheme": false,
         "target": "Widget",
         "type": "call_method"
        },
        {
         "args": [
          "this._Q = [[1.0, 0.0, 0.0], [0.0, 1.0, 0.0], [0.0, 0.0, 1.0]]\n    var tooltip = document.createElement('div');\n    Object.assign(tooltip.style, {\n      display: 'none',\n      position: 'fixed',\n      zIndex: 10,\n      pointerEvents: 'none',\n      backgroundColor: 'rgba( 0, 0, 0, 0.6 )',\n      color: 'lightgrey',\n      padding: '8px',\n      fontFamily: 'sans-serif'\n    });\n    document.body.appendChild(tooltip);\n\n    var that = this;\n    this.stage.mouseControls.remove('hoverPick');\n    this.stage.signals.hovered.add(function (pickingProxy) {\n      if (pickingProxy && (pickingProxy.atom || pickingProxy.bond)) {\n        var atom = pickingProxy.atom || pickingProxy.closestBondAtom\n        var mp = pickingProxy.mouse.position\n        //tooltip.innerText = atom.element + ' i=' + atom.index + ' (' + atom.x.toFixed(2) +  ', ' + atom.y.toFixed(2) +  ', ' + atom.z.toFixed(2) + ')'\n        //var pos = that._atoms_pos[atom.index]\n        var Q = that._Q\n        var pos_x = Q[0][0] * atom.x + Q[0][1] * atom.y + Q[0][2] * atom.z \n        var pos_y = Q[1][0] * atom.x + Q[1][1] * atom.y + Q[1][2] * atom.z\n        var pos_z = Q[2][0] * atom.x + Q[2][1] * atom.y + Q[2][2] * atom.z\n        tooltip.innerText = 'i=' + atom.index + ' ' + atom.element + ' (' + pos_x.toFixed(2) +  ', ' + pos_y.toFixed(2) +  ', ' + pos_z.toFixed(2) + ')'\n        tooltip.style.bottom = window.innerHeight - mp.y + 3 + 'px'\n        tooltip.style.left = mp.x + 3 + 'px'\n        tooltip.style.display = 'block'\n      } else {\n        tooltip.style.display = 'none'\n      }\n    });\n    this.stage.tooltip = tooltip;\n    "
         ],
         "kwargs": {},
         "methodName": "executeCode",
         "reconstruc_color_scheme": false,
         "target": "Widget",
         "type": "call_method"
        },
        {
         "args": [
          "ball+stick"
         ],
         "component_index": 0,
         "kwargs": {
          "sele": "all"
         },
         "methodName": "addRepresentation",
         "reconstruc_color_scheme": false,
         "target": "compList",
         "type": "call_method"
        }
       ],
       "_ngl_original_stage_parameters": {
        "ambientColor": 14540253,
        "ambientIntensity": 0.2,
        "backgroundColor": "white",
        "cameraEyeSep": 0.3,
        "cameraFov": 40,
        "cameraType": "perspective",
        "clipDist": 10,
        "clipFar": 100,
        "clipNear": 0,
        "fogFar": 100,
        "fogNear": 50,
        "hoverTimeout": 0,
        "impostor": true,
        "lightColor": 14540253,
        "lightIntensity": 1,
        "mousePreset": "default",
        "panSpeed": 1,
        "quality": "medium",
        "rotateSpeed": 2,
        "sampleLevel": 0,
        "tooltip": true,
        "workerDefault": true,
        "zoomSpeed": 1.2
       },
       "_ngl_repr_dict": {
        "0": {
         "0": {
          "params": {
           "clipCenter": {
            "x": 0,
            "y": 0,
            "z": 0
           },
           "clipNear": 0,
           "clipRadius": 0,
           "colorMode": "hcl",
           "colorReverse": false,
           "colorScale": "",
           "colorScheme": "element",
           "colorValue": "orange",
           "defaultAssembly": "",
           "depthWrite": true,
           "diffuse": 16777215,
           "diffuseInterior": false,
           "disableImpostor": false,
           "disablePicking": false,
           "flatShaded": false,
           "interiorColor": 2236962,
           "interiorDarkening": 0,
           "lazy": false,
           "matrix": {
            "elements": [
             1,
             0,
             0,
             0,
             0,
             1,
             0,
             0,
             0,
             0,
             1,
             0,
             0,
             0,
             0,
             1
            ]
           },
           "metalness": 0,
           "opacity": 1,
           "quality": "medium",
           "radialSegments": 10,
           "radiusData": {},
           "radiusScale": 1,
           "radiusSize": 0.5,
           "radiusType": "vdw",
           "roughness": 0.4,
           "sele": "all",
           "side": "double",
           "sphereDetail": 1,
           "useInteriorColor": true,
           "visible": true,
           "wireframe": false
          },
          "type": "unitcell"
         },
         "1": {
          "params": {
           "assembly": "default",
           "clipCenter": {
            "x": 0,
            "y": 0,
            "z": 0
           },
           "clipNear": 0,
           "clipRadius": 0,
           "colorMode": "hcl",
           "colorReverse": false,
           "colorScale": "rainbow",
           "colorScheme": "element",
           "colorValue": 9474192,
           "defaultAssembly": "",
           "depthWrite": true,
           "diffuse": 16777215,
           "diffuseInterior": false,
           "disableImpostor": false,
           "disablePicking": false,
           "flatShaded": false,
           "interiorColor": 2236962,
           "interiorDarkening": 0,
           "lazy": false,
           "matrix": {
            "elements": [
             1,
             0,
             0,
             0,
             0,
             1,
             0,
             0,
             0,
             0,
             1,
             0,
             0,
             0,
             0,
             1
            ]
           },
           "metalness": 0,
           "opacity": 1,
           "quality": "medium",
           "radiusData": {},
           "radiusScale": 0.5,
           "radiusSize": 1,
           "radiusType": "covalent",
           "roughness": 0.4,
           "sele": "all",
           "side": "double",
           "sphereDetail": 1,
           "useInteriorColor": true,
           "visible": true,
           "wireframe": false
          },
          "type": "spacefill"
         },
         "2": {
          "params": {
           "aspectRatio": 2,
           "assembly": "default",
           "bondScale": 0.4,
           "bondSpacing": 1,
           "clipCenter": {
            "x": 0,
            "y": 0,
            "z": 0
           },
           "clipNear": 0,
           "clipRadius": 0,
           "colorMode": "hcl",
           "colorReverse": false,
           "colorScale": "",
           "colorScheme": "element",
           "colorValue": 9474192,
           "cylinderOnly": false,
           "defaultAssembly": "",
           "depthWrite": true,
           "diffuse": 16777215,
           "diffuseInterior": false,
           "disableImpostor": false,
           "disablePicking": false,
           "flatShaded": false,
           "interiorColor": 2236962,
           "interiorDarkening": 0,
           "lazy": false,
           "lineOnly": false,
           "linewidth": 2,
           "matrix": {
            "elements": [
             1,
             0,
             0,
             0,
             0,
             1,
             0,
             0,
             0,
             0,
             1,
             0,
             0,
             0,
             0,
             1
            ]
           },
           "metalness": 0,
           "multipleBond": "off",
           "opacity": 1,
           "openEnded": true,
           "quality": "medium",
           "radialSegments": 10,
           "radiusData": {},
           "radiusScale": 1,
           "radiusSize": 0.15,
           "radiusType": "size",
           "roughness": 0.4,
           "sele": "all",
           "side": "double",
           "sphereDetail": 1,
           "useInteriorColor": true,
           "visible": true,
           "wireframe": false
          },
          "type": "ball+stick"
         }
        }
       },
       "_ngl_serialize": false,
       "_ngl_version": "2.0.0-dev.36",
       "_ngl_view_id": [
        "86DF4997-8076-48A2-A6F5-46D43DC00F2D"
       ],
       "_player_dict": {},
       "_scene_position": {},
       "_scene_rotation": {},
       "_synced_model_ids": [],
       "_synced_repr_model_ids": [],
       "_view_height": "",
       "_view_width": "",
       "background": "white",
       "frame": 0,
       "gui_style": null,
       "layout": "IPY_MODEL_e4ba8678e2804fb6a1dbf656f248e31d",
       "max_frame": 0,
       "n_components": 1,
       "picked": {}
      }
     },
     "f916159ce3b7411eb6289521c48e77dd": {
      "model_module": "@jupyter-widgets/controls",
      "model_module_version": "1.5.0",
      "model_name": "DescriptionStyleModel",
      "state": {
       "description_width": ""
      }
     },
     "fb047a2ab2d04538b69aed40a31b796b": {
      "model_module": "@jupyter-widgets/controls",
      "model_module_version": "1.5.0",
      "model_name": "SliderStyleModel",
      "state": {
       "description_width": ""
      }
     },
     "fbbea1203ce74d4daa6556e6d3b97892": {
      "model_module": "@jupyter-widgets/controls",
      "model_module_version": "1.5.0",
      "model_name": "PlayModel",
      "state": {
       "layout": "IPY_MODEL_be2438d672e04198bee98da98492ef0a",
       "max": 0,
       "style": "IPY_MODEL_14821b798e384d14a62a2ef91cf184e9"
      }
     },
     "fd370bc770144789b661814ebde44048": {
      "model_module": "@jupyter-widgets/controls",
      "model_module_version": "1.5.0",
      "model_name": "SliderStyleModel",
      "state": {
       "description_width": ""
      }
     },
     "fdb86b77959143c7af5a959d772de735": {
      "model_module": "@jupyter-widgets/controls",
      "model_module_version": "1.5.0",
      "model_name": "HBoxModel",
      "state": {
       "children": [
        "IPY_MODEL_ecc231e8ae77467087b6651e10fe444c",
        "IPY_MODEL_7d03ff16e45a497ca2807ad63842cdc9"
       ],
       "layout": "IPY_MODEL_31254293a79e4703913e30800d342aa9"
      }
     },
     "fe004251d51249c180cc73280be7f9da": {
      "model_module": "@jupyter-widgets/base",
      "model_module_version": "1.2.0",
      "model_name": "LayoutModel",
      "state": {}
     },
     "fedcfbc5a70b4b21988ecab0f405a36a": {
      "model_module": "@jupyter-widgets/controls",
      "model_module_version": "1.5.0",
      "model_name": "TextModel",
      "state": {
       "description": "Filename: ",
       "layout": "IPY_MODEL_5d79b2369a5147c29b639e9a29646559",
       "style": "IPY_MODEL_78fed95f8ab1429d81564d52dad1eb93",
       "value": "screenshot.png"
      }
     },
     "ff5f4b55f80e4364ac329b2b6b1fd1d5": {
      "model_module": "nglview-js-widgets",
      "model_module_version": "3.0.1",
      "model_name": "NGLModel",
      "state": {
       "_camera_orientation": [
        15.557454398792245,
        0,
        0,
        0,
        0,
        15.557454398792245,
        0,
        0,
        0,
        0,
        15.557454398792245,
        0,
        0,
        0,
        0,
        1
       ],
       "_camera_str": "orthographic",
       "_gui_theme": null,
       "_ibtn_fullscreen": "IPY_MODEL_a5a95ff272a0493cb464ebfb27318a76",
       "_igui": null,
       "_iplayer": "IPY_MODEL_bcc0d804eb98407d83404a091b0e3039",
       "_ngl_color_dict": {},
       "_ngl_coordinate_resource": {},
       "_ngl_full_stage_parameters": {
        "ambientColor": 14540253,
        "ambientIntensity": 0.2,
        "backgroundColor": "white",
        "cameraEyeSep": 0.3,
        "cameraFov": 40,
        "cameraType": "orthographic",
        "clipDist": 0,
        "clipFar": 100,
        "clipNear": 0,
        "fogFar": 100,
        "fogNear": 50,
        "hoverTimeout": 0,
        "impostor": true,
        "lightColor": 14540253,
        "lightIntensity": 1,
        "mousePreset": "default",
        "panSpeed": 1,
        "quality": "medium",
        "rotateSpeed": 2,
        "sampleLevel": 0,
        "tooltip": true,
        "workerDefault": true,
        "zoomSpeed": 1.2
       },
       "_ngl_msg_archive": [
        {
         "args": [
          {
           "binary": false,
           "data": "MODEL     1\nATOM      1   Pt MOL     1      -1.960  -1.960   0.000  1.00  0.00          PT  \nATOM      2   Pt MOL     1      -1.960   0.000  -1.960  1.00  0.00          PT  \nATOM      3   Pt MOL     1      -3.920   0.000   0.000  1.00  0.00          PT  \nATOM      4   Pt MOL     1      -1.960   0.000   1.960  1.00  0.00          PT  \nATOM      5   Pt MOL     1      -1.960   1.960   0.000  1.00  0.00          PT  \nATOM      6   Pt MOL     1       0.000  -1.960  -1.960  1.00  0.00          PT  \nATOM      7   Pt MOL     1       0.000  -3.920   0.000  1.00  0.00          PT  \nATOM      8   Pt MOL     1       0.000  -1.960   1.960  1.00  0.00          PT  \nATOM      9   Pt MOL     1       1.960  -1.960   0.000  1.00  0.00          PT  \nATOM     10   Pt MOL     1       0.000   0.000  -3.920  1.00  0.00          PT  \nATOM     11   Pt MOL     1       0.000   1.960  -1.960  1.00  0.00          PT  \nATOM     12   Pt MOL     1       1.960   0.000  -1.960  1.00  0.00          PT  \nATOM     13   Pt MOL     1       0.000   0.000   0.000  1.00  0.00          PT  \nATOM     14   Pt MOL     1       0.000   1.960   1.960  1.00  0.00          PT  \nATOM     15   Pt MOL     1       1.960   0.000   1.960  1.00  0.00          PT  \nATOM     16   Pt MOL     1       1.960   1.960   0.000  1.00  0.00          PT  \nATOM     17   Pt MOL     1       0.000   0.000   3.920  1.00  0.00          PT  \nATOM     18   Pt MOL     1       0.000   3.920   0.000  1.00  0.00          PT  \nATOM     19   Pt MOL     1       3.920   0.000   0.000  1.00  0.00          PT  \nENDMDL\n",
           "type": "blob"
          }
         ],
         "kwargs": {
          "defaultRepresentation": false,
          "ext": "pdb"
         },
         "methodName": "loadFile",
         "reconstruc_color_scheme": false,
         "target": "Stage",
         "type": "call_method"
        },
        {
         "args": [
          "500px",
          "500px"
         ],
         "kwargs": {},
         "methodName": "setSize",
         "reconstruc_color_scheme": false,
         "target": "Widget",
         "type": "call_method"
        },
        {
         "args": [
          "unitcell"
         ],
         "component_index": 0,
         "kwargs": {
          "sele": "all"
         },
         "methodName": "addRepresentation",
         "reconstruc_color_scheme": false,
         "target": "compList",
         "type": "call_method"
        },
        {
         "args": [
          "spacefill"
         ],
         "component_index": 0,
         "kwargs": {
          "sele": "all"
         },
         "methodName": "addRepresentation",
         "reconstruc_color_scheme": false,
         "target": "compList",
         "type": "call_method"
        },
        {
         "args": [],
         "kwargs": {
          "cameraType": "orthographic"
         },
         "methodName": "setParameters",
         "reconstruc_color_scheme": false,
         "target": "Stage",
         "type": "call_method"
        },
        {
         "args": [
          {
           "clipDist": 0
          }
         ],
         "kwargs": {},
         "methodName": "setParameters",
         "reconstruc_color_scheme": false,
         "target": "Widget",
         "type": "call_method"
        },
        {
         "args": [
          "spacefill",
          0
         ],
         "kwargs": {
          "colorScale": "rainbow",
          "colorScheme": "element",
          "radiusScale": 0.5,
          "radiusType": "covalent"
         },
         "methodName": "updateRepresentationsByName",
         "reconstruc_color_scheme": false,
         "target": "Widget",
         "type": "call_method"
        },
        {
         "args": [
          "this._Q = [[1.0, 0.0, 0.0], [0.0, 1.0, 0.0], [0.0, 0.0, 1.0]]\n    var tooltip = document.createElement('div');\n    Object.assign(tooltip.style, {\n      display: 'none',\n      position: 'fixed',\n      zIndex: 10,\n      pointerEvents: 'none',\n      backgroundColor: 'rgba( 0, 0, 0, 0.6 )',\n      color: 'lightgrey',\n      padding: '8px',\n      fontFamily: 'sans-serif'\n    });\n    document.body.appendChild(tooltip);\n\n    var that = this;\n    this.stage.mouseControls.remove('hoverPick');\n    this.stage.signals.hovered.add(function (pickingProxy) {\n      if (pickingProxy && (pickingProxy.atom || pickingProxy.bond)) {\n        var atom = pickingProxy.atom || pickingProxy.closestBondAtom\n        var mp = pickingProxy.mouse.position\n        //tooltip.innerText = atom.element + ' i=' + atom.index + ' (' + atom.x.toFixed(2) +  ', ' + atom.y.toFixed(2) +  ', ' + atom.z.toFixed(2) + ')'\n        //var pos = that._atoms_pos[atom.index]\n        var Q = that._Q\n        var pos_x = Q[0][0] * atom.x + Q[0][1] * atom.y + Q[0][2] * atom.z \n        var pos_y = Q[1][0] * atom.x + Q[1][1] * atom.y + Q[1][2] * atom.z\n        var pos_z = Q[2][0] * atom.x + Q[2][1] * atom.y + Q[2][2] * atom.z\n        tooltip.innerText = 'i=' + atom.index + ' ' + atom.element + ' (' + pos_x.toFixed(2) +  ', ' + pos_y.toFixed(2) +  ', ' + pos_z.toFixed(2) + ')'\n        tooltip.style.bottom = window.innerHeight - mp.y + 3 + 'px'\n        tooltip.style.left = mp.x + 3 + 'px'\n        tooltip.style.display = 'block'\n      } else {\n        tooltip.style.display = 'none'\n      }\n    });\n    this.stage.tooltip = tooltip;\n    "
         ],
         "kwargs": {},
         "methodName": "executeCode",
         "reconstruc_color_scheme": false,
         "target": "Widget",
         "type": "call_method"
        },
        {
         "args": [
          "ball+stick"
         ],
         "component_index": 0,
         "kwargs": {
          "sele": "all"
         },
         "methodName": "addRepresentation",
         "reconstruc_color_scheme": false,
         "target": "compList",
         "type": "call_method"
        }
       ],
       "_ngl_original_stage_parameters": {
        "ambientColor": 14540253,
        "ambientIntensity": 0.2,
        "backgroundColor": "white",
        "cameraEyeSep": 0.3,
        "cameraFov": 40,
        "cameraType": "perspective",
        "clipDist": 10,
        "clipFar": 100,
        "clipNear": 0,
        "fogFar": 100,
        "fogNear": 50,
        "hoverTimeout": 0,
        "impostor": true,
        "lightColor": 14540253,
        "lightIntensity": 1,
        "mousePreset": "default",
        "panSpeed": 1,
        "quality": "medium",
        "rotateSpeed": 2,
        "sampleLevel": 0,
        "tooltip": true,
        "workerDefault": true,
        "zoomSpeed": 1.2
       },
       "_ngl_repr_dict": {
        "0": {
         "0": {
          "params": {
           "clipCenter": {
            "x": 0,
            "y": 0,
            "z": 0
           },
           "clipNear": 0,
           "clipRadius": 0,
           "colorMode": "hcl",
           "colorReverse": false,
           "colorScale": "",
           "colorScheme": "element",
           "colorValue": "orange",
           "defaultAssembly": "",
           "depthWrite": true,
           "diffuse": 16777215,
           "diffuseInterior": false,
           "disableImpostor": false,
           "disablePicking": false,
           "flatShaded": false,
           "interiorColor": 2236962,
           "interiorDarkening": 0,
           "lazy": false,
           "matrix": {
            "elements": [
             1,
             0,
             0,
             0,
             0,
             1,
             0,
             0,
             0,
             0,
             1,
             0,
             0,
             0,
             0,
             1
            ]
           },
           "metalness": 0,
           "opacity": 1,
           "quality": "medium",
           "radialSegments": 10,
           "radiusData": {},
           "radiusScale": 1,
           "radiusSize": 0.5,
           "radiusType": "vdw",
           "roughness": 0.4,
           "sele": "all",
           "side": "double",
           "sphereDetail": 1,
           "useInteriorColor": true,
           "visible": true,
           "wireframe": false
          },
          "type": "unitcell"
         },
         "1": {
          "params": {
           "assembly": "default",
           "clipCenter": {
            "x": 0,
            "y": 0,
            "z": 0
           },
           "clipNear": 0,
           "clipRadius": 0,
           "colorMode": "hcl",
           "colorReverse": false,
           "colorScale": "rainbow",
           "colorScheme": "element",
           "colorValue": 9474192,
           "defaultAssembly": "",
           "depthWrite": true,
           "diffuse": 16777215,
           "diffuseInterior": false,
           "disableImpostor": false,
           "disablePicking": false,
           "flatShaded": false,
           "interiorColor": 2236962,
           "interiorDarkening": 0,
           "lazy": false,
           "matrix": {
            "elements": [
             1,
             0,
             0,
             0,
             0,
             1,
             0,
             0,
             0,
             0,
             1,
             0,
             0,
             0,
             0,
             1
            ]
           },
           "metalness": 0,
           "opacity": 1,
           "quality": "medium",
           "radiusData": {},
           "radiusScale": 0.5,
           "radiusSize": 1,
           "radiusType": "covalent",
           "roughness": 0.4,
           "sele": "all",
           "side": "double",
           "sphereDetail": 1,
           "useInteriorColor": true,
           "visible": true,
           "wireframe": false
          },
          "type": "spacefill"
         },
         "2": {
          "params": {
           "aspectRatio": 2,
           "assembly": "default",
           "bondScale": 0.4,
           "bondSpacing": 1,
           "clipCenter": {
            "x": 0,
            "y": 0,
            "z": 0
           },
           "clipNear": 0,
           "clipRadius": 0,
           "colorMode": "hcl",
           "colorReverse": false,
           "colorScale": "",
           "colorScheme": "element",
           "colorValue": 9474192,
           "cylinderOnly": false,
           "defaultAssembly": "",
           "depthWrite": true,
           "diffuse": 16777215,
           "diffuseInterior": false,
           "disableImpostor": false,
           "disablePicking": false,
           "flatShaded": false,
           "interiorColor": 2236962,
           "interiorDarkening": 0,
           "lazy": false,
           "lineOnly": false,
           "linewidth": 2,
           "matrix": {
            "elements": [
             1,
             0,
             0,
             0,
             0,
             1,
             0,
             0,
             0,
             0,
             1,
             0,
             0,
             0,
             0,
             1
            ]
           },
           "metalness": 0,
           "multipleBond": "off",
           "opacity": 1,
           "openEnded": true,
           "quality": "medium",
           "radialSegments": 10,
           "radiusData": {},
           "radiusScale": 1,
           "radiusSize": 0.15,
           "radiusType": "size",
           "roughness": 0.4,
           "sele": "all",
           "side": "double",
           "sphereDetail": 1,
           "useInteriorColor": true,
           "visible": true,
           "wireframe": false
          },
          "type": "ball+stick"
         }
        }
       },
       "_ngl_serialize": false,
       "_ngl_version": "2.0.0-dev.36",
       "_ngl_view_id": [
        "76697F8E-BF72-444A-B0E7-3B5D322B7B96"
       ],
       "_player_dict": {},
       "_scene_position": {},
       "_scene_rotation": {},
       "_synced_model_ids": [],
       "_synced_repr_model_ids": [],
       "_view_height": "",
       "_view_width": "",
       "background": "white",
       "frame": 0,
       "gui_style": null,
       "layout": "IPY_MODEL_afd0f8a2ad964807acf27241e99ffb6f",
       "max_frame": 0,
       "n_components": 1,
       "picked": {}
      }
     }
    },
    "version_major": 2,
    "version_minor": 0
   }
  }
 },
 "nbformat": 4,
 "nbformat_minor": 5
}
