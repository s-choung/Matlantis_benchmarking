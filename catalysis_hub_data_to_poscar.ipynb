{
  "nbformat": 4,
  "nbformat_minor": 0,
  "metadata": {
    "colab": {
      "provenance": [],
      "include_colab_link": true
    },
    "kernelspec": {
      "name": "python3",
      "display_name": "Python 3"
    },
    "language_info": {
      "name": "python"
    }
  },
  "cells": [
    {
      "cell_type": "markdown",
      "metadata": {
        "id": "view-in-github",
        "colab_type": "text"
      },
      "source": [
        "<a href=\"https://colab.research.google.com/github/s-choung/Matlantis_benchmarking/blob/main/catalysis_hub_data_to_poscar.ipynb\" target=\"_parent\"><img src=\"https://colab.research.google.com/assets/colab-badge.svg\" alt=\"Open In Colab\"/></a>"
      ]
    },
    {
      "cell_type": "markdown",
      "source": [
        "Following code collect data from catalysis-hub and save in form of json\n",
        "\n",
        "\n",
        "credit: seokhyun"
      ],
      "metadata": {
        "id": "dSe1aJmmXTgw"
      }
    },
    {
      "cell_type": "code",
      "source": [
        "!pip install ase"
      ],
      "metadata": {
        "colab": {
          "base_uri": "https://localhost:8080/"
        },
        "id": "sReDg04I6Ihu",
        "outputId": "6b95a117-ae13-485b-8be2-814193c98ba8"
      },
      "execution_count": 1,
      "outputs": [
        {
          "output_type": "stream",
          "name": "stdout",
          "text": [
            "Looking in indexes: https://pypi.org/simple, https://us-python.pkg.dev/colab-wheels/public/simple/\n",
            "Collecting ase\n",
            "  Downloading ase-3.22.1-py3-none-any.whl (2.2 MB)\n",
            "\u001b[2K     \u001b[90m━━━━━━━━━━━━━━━━━━━━━━━━━━━━━━━━━━━━━━━━\u001b[0m \u001b[32m2.2/2.2 MB\u001b[0m \u001b[31m31.8 MB/s\u001b[0m eta \u001b[36m0:00:00\u001b[0m\n",
            "\u001b[?25hRequirement already satisfied: matplotlib>=3.1.0 in /usr/local/lib/python3.9/dist-packages (from ase) (3.7.1)\n",
            "Requirement already satisfied: numpy>=1.15.0 in /usr/local/lib/python3.9/dist-packages (from ase) (1.22.4)\n",
            "Requirement already satisfied: scipy>=1.1.0 in /usr/local/lib/python3.9/dist-packages (from ase) (1.10.1)\n",
            "Requirement already satisfied: importlib-resources>=3.2.0 in /usr/local/lib/python3.9/dist-packages (from matplotlib>=3.1.0->ase) (5.12.0)\n",
            "Requirement already satisfied: contourpy>=1.0.1 in /usr/local/lib/python3.9/dist-packages (from matplotlib>=3.1.0->ase) (1.0.7)\n",
            "Requirement already satisfied: python-dateutil>=2.7 in /usr/local/lib/python3.9/dist-packages (from matplotlib>=3.1.0->ase) (2.8.2)\n",
            "Requirement already satisfied: kiwisolver>=1.0.1 in /usr/local/lib/python3.9/dist-packages (from matplotlib>=3.1.0->ase) (1.4.4)\n",
            "Requirement already satisfied: pillow>=6.2.0 in /usr/local/lib/python3.9/dist-packages (from matplotlib>=3.1.0->ase) (8.4.0)\n",
            "Requirement already satisfied: cycler>=0.10 in /usr/local/lib/python3.9/dist-packages (from matplotlib>=3.1.0->ase) (0.11.0)\n",
            "Requirement already satisfied: packaging>=20.0 in /usr/local/lib/python3.9/dist-packages (from matplotlib>=3.1.0->ase) (23.0)\n",
            "Requirement already satisfied: pyparsing>=2.3.1 in /usr/local/lib/python3.9/dist-packages (from matplotlib>=3.1.0->ase) (3.0.9)\n",
            "Requirement already satisfied: fonttools>=4.22.0 in /usr/local/lib/python3.9/dist-packages (from matplotlib>=3.1.0->ase) (4.39.2)\n",
            "Requirement already satisfied: zipp>=3.1.0 in /usr/local/lib/python3.9/dist-packages (from importlib-resources>=3.2.0->matplotlib>=3.1.0->ase) (3.15.0)\n",
            "Requirement already satisfied: six>=1.5 in /usr/local/lib/python3.9/dist-packages (from python-dateutil>=2.7->matplotlib>=3.1.0->ase) (1.16.0)\n",
            "Installing collected packages: ase\n",
            "Successfully installed ase-3.22.1\n"
          ]
        }
      ]
    },
    {
      "cell_type": "code",
      "source": [
        "import requests\n",
        "import pprint\n",
        "import sys\n",
        "import string\n",
        "import json\n",
        "import io\n",
        "import copy\n",
        "\n",
        "import ase.io\n",
        "import ase.calculators.singlepoint\n",
        "\n",
        "GRAPHQL = 'http://api.catalysis-hub.org/graphql'\n",
        "\n",
        "def fetch(query):\n",
        "    return requests.get(\n",
        "        GRAPHQL, {'query': query}\n",
        "    ).json()['data']"
      ],
      "metadata": {
        "id": "zjrajLXSUqCN"
      },
      "execution_count": 2,
      "outputs": []
    },
    {
      "cell_type": "code",
      "source": [
        "def reactions_from_dataset(pub_id, page_size=40):\n",
        "    reactions = []\n",
        "    has_next_page = True\n",
        "    start_cursor = ''\n",
        "    page = 0\n",
        "    while has_next_page:\n",
        "        data = fetch(\"\"\"{{\n",
        "      reactions(pubId: \"{pub_id}\", first: {page_size}, after: \"{start_cursor}\") {{\n",
        "        totalCount\n",
        "        pageInfo {{\n",
        "          hasNextPage\n",
        "          hasPreviousPage\n",
        "          startCursor\n",
        "          endCursor \n",
        "        }}  \n",
        "        edges {{\n",
        "          node {{\n",
        "            Equation\n",
        "            reactants\n",
        "            products\n",
        "            reactionEnergy\n",
        "            reactionSystems {{\n",
        "              name\n",
        "              systems {{\n",
        "                energy\n",
        "                InputFile(format: \"json\")\n",
        "              }}\n",
        "            }}  \n",
        "          }}  \n",
        "        }}  \n",
        "      }}    \n",
        "    }}\"\"\".format(start_cursor=start_cursor,\n",
        "                 page_size=page_size,\n",
        "                 pub_id=pub_id,\n",
        "                ))\n",
        "        has_next_page = data['reactions']['pageInfo']['hasNextPage']\n",
        "        start_cursor = data['reactions']['pageInfo']['endCursor']\n",
        "        page += 1\n",
        "        print(has_next_page, start_cursor, page_size * page, data['reactions']['totalCount'])\n",
        "        reactions.extend(map(lambda x: x['node'], data['reactions']['edges']))\n",
        "\n",
        "    return reactions\n",
        "dataset_name_is=\"PatelGeneralizable2021\"\n",
        "#raw_reactions3 = reactions_from_dataset(dataset_name_is) # oxide\n",
        "#raw_reactions4 = reactions_from_dataset(\"MeffordInterpreting2019\") # 2d NiFeOOH  \n",
        "#raw_reactions5 = reactions_from_dataset(\"BackPrediction2018\") # metal + NiFeOOH\n",
        "#raw_reactions6 = reactions_from_dataset(\"JuUnraveling2019\") # sac \n",
        "raw_reactions7 = reactions_from_dataset(dataset_name_is) # sac \n",
        "#raw_reactions8 = reactions_from_dataset(\"RaoResolving2022\") # Nickel Antimonate \n",
        "import json\n",
        "import os\n",
        "\n",
        "def data2json(raw_reactions, dataset_name):\n",
        "    raw_reactions_json = {\"raw_reactions\": raw_reactions}\n",
        "    filename = f\"{dataset_name}.json\"\n",
        "    path = os.path.join(os.getcwd(), filename)\n",
        "    with open(path, 'w') as f:\n",
        "        json.dump(raw_reactions_json, f)\n",
        "data2json(raw_reactions7,dataset_name_is)\n",
        "path_json = os.path.join(os.getcwd(), dataset_name_is+\".json\")\n",
        "with open(path_json, 'r') as f:\n",
        "  data = json.load(f)\n",
        "pierre=data['raw_reactions']\n"
      ],
      "metadata": {
        "id": "IwgHjQ5dU4vn",
        "colab": {
          "base_uri": "https://localhost:8080/"
        },
        "outputId": "60afe30c-62af-4bbf-f027-69ed65bd2bbf"
      },
      "execution_count": 3,
      "outputs": [
        {
          "output_type": "stream",
          "name": "stdout",
          "text": [
            "False YXJyYXljb25uZWN0aW9uOjE0 40 15\n"
          ]
        }
      ]
    },
    {
      "cell_type": "code",
      "source": [
        "def aseify_reactions(reactions):\n",
        "    for i, reaction in enumerate(reactions):\n",
        "        for j, _ in enumerate(reactions[i]['reactionSystems']):\n",
        "            with io.StringIO() as tmp_file:\n",
        "                system = reactions[i]['reactionSystems'][j].pop('systems')\n",
        "                tmp_file.write(system.pop('InputFile'))\n",
        "                tmp_file.seek(0)\n",
        "                atoms = ase.io.read(tmp_file, format='json')\n",
        "            calculator = ase.calculators.singlepoint.SinglePointCalculator(\n",
        "                atoms,\n",
        "                energy=system.pop('energy')\n",
        "            )\n",
        "            atoms.set_calculator(calculator)\n",
        "            #print(atoms.get_potential_energy())\n",
        "            reactions[i]['reactionSystems'][j]['atoms'] = atoms\n",
        "        # flatten list further into {name: atoms, ...} dictionary\n",
        "        reactions[i]['reactionSystems'] = {x['name']: x['atoms']\n",
        "                                          for x in reactions[i]['reactionSystems']}"
      ],
      "metadata": {
        "id": "Ha0kJgqXhwQj"
      },
      "execution_count": 4,
      "outputs": []
    },
    {
      "cell_type": "code",
      "source": [
        "import os\n",
        "\n",
        "benchmark=\"PatelGeneralizable2021\"\n",
        "path_json = os.path.join(os.getcwd(),benchmark+\".json\")\n",
        "with open(path_json, 'r') as f:\n",
        "  data = json.load(f)\n",
        "dat=data['raw_reactions']\n",
        "dat = copy.deepcopy(dat)\n",
        "aseify_reactions(dat)\n",
        "#여기까지가 catalysis-hub의 정보를 json으로 저장하는방법."
      ],
      "metadata": {
        "colab": {
          "base_uri": "https://localhost:8080/",
          "height": 35
        },
        "id": "ZVVoJAt_etpl",
        "outputId": "e3e185e8-857d-4c4a-f279-3bc2647219f3"
      },
      "execution_count": 8,
      "outputs": [
        {
          "output_type": "execute_result",
          "data": {
            "text/plain": [
              "\"\\nreal_E=[round(dat[i]['reactionEnergy'],3) for i in range(0,len(dat))]\\n\\nprint(real_E)\\nprint(len(real_E))\""
            ],
            "application/vnd.google.colaboratory.intrinsic+json": {
              "type": "string"
            }
          },
          "metadata": {},
          "execution_count": 8
        }
      ]
    },
    {
      "cell_type": "code",
      "source": [
        "for i in range(0,len(dat)):\n",
        "  print(i,dat[i]['reactionSystems']['star'].symbols)\n",
        "#어떤 표면이 들어있는지 확인하는중"
      ],
      "metadata": {
        "colab": {
          "base_uri": "https://localhost:8080/"
        },
        "id": "jhOhPX_YATaS",
        "outputId": "f5b4a97b-f508-4328-f195-49ac79e815fd"
      },
      "execution_count": 16,
      "outputs": [
        {
          "output_type": "stream",
          "name": "stdout",
          "text": [
            "0 Ir27\n",
            "1 Ir27\n",
            "2 Ir27\n",
            "3 Pd27\n",
            "4 Pd27\n",
            "5 Pd27\n",
            "6 Pt27\n",
            "7 Pt27\n",
            "8 Pt27\n",
            "9 Rh27\n",
            "10 Rh27\n",
            "11 Rh27\n",
            "12 Ru27\n",
            "13 Ru27\n",
            "14 Ru27\n"
          ]
        }
      ]
    },
    {
      "cell_type": "code",
      "source": [
        "from ase.io import write\n",
        "from IPython.display import Image\n",
        "import matplotlib.pyplot as plt\n",
        "import matplotlib.image as mpimg\n",
        "from ase.io.vasp import read_vasp, write_vasp\n",
        "from ase.io import Trajectory\n",
        "\n",
        "atom=dat[5]['reactionSystems']['Ostar']# atom이라는 변수는 ase의 Atoms에 해당하는 정보를 담음. Atoms는 바로 .vasp형태로 저장할 수 있음.\n",
        "ase.io.vasp.write_vasp('POSCAR',atom)# vasp.write_vasp로 Atoms를 저장하는중.\n",
        "#['Ostar']말고 다른 표면들 이름으로 바꾸면 됨. 어떤 표면이 있는지는 dat[5]['reactionSystems']로 찾아보면 됨."
      ],
      "metadata": {
        "id": "N79WikmGDavh"
      },
      "execution_count": 30,
      "outputs": []
    }
  ]
}